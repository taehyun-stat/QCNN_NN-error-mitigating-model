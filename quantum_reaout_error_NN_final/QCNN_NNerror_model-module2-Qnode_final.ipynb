{
 "cells": [
  {
   "cell_type": "markdown",
   "id": "bbe42d63",
   "metadata": {
    "toc": true
   },
   "source": [
    "<h1>Table of Contents<span class=\"tocSkip\"></span></h1>\n",
    "<div class=\"toc\"><ul class=\"toc-item\"><li><span><a href=\"#Preparations\" data-toc-modified-id=\"Preparations-0\"><span class=\"toc-item-num\">0&nbsp;&nbsp;</span>Preparations</a></span><ul class=\"toc-item\"><li><span><a href=\"#Adjusting-Jupyter's-display\" data-toc-modified-id=\"Adjusting-Jupyter's-display-0.1\"><span class=\"toc-item-num\">0.1&nbsp;&nbsp;</span>Adjusting Jupyter's display</a></span></li><li><span><a href=\"#Creating-'Result'-folder\" data-toc-modified-id=\"Creating-'Result'-folder-0.2\"><span class=\"toc-item-num\">0.2&nbsp;&nbsp;</span>Creating 'Result' folder</a></span></li></ul></li><li><span><a href=\"#Install-/-Loading-packages\" data-toc-modified-id=\"Install-/-Loading-packages-1\"><span class=\"toc-item-num\">1&nbsp;&nbsp;</span>Install / Loading packages</a></span></li><li><span><a href=\"#Data-Preparation\" data-toc-modified-id=\"Data-Preparation-2\"><span class=\"toc-item-num\">2&nbsp;&nbsp;</span>Data Preparation</a></span><ul class=\"toc-item\"><li><span><a href=\"#Module---1_data\" data-toc-modified-id=\"Module---1_data-2.1\"><span class=\"toc-item-num\">2.1&nbsp;&nbsp;</span>Module - 1_data</a></span></li><li><span><a href=\"#Let's-check-the-datasets-using-data_load_and_process\" data-toc-modified-id=\"Let's-check-the-datasets-using-data_load_and_process-2.2\"><span class=\"toc-item-num\">2.2&nbsp;&nbsp;</span>Let's check the datasets using <code>data_load_and_process</code></a></span></li></ul></li><li><span><a href=\"#QCNN-circuits-represented-into-Qnode\" data-toc-modified-id=\"QCNN-circuits-represented-into-Qnode-3\"><span class=\"toc-item-num\">3&nbsp;&nbsp;</span>QCNN circuits represented into Qnode</a></span></li><li><span><a href=\"#CNN-and-QCNN-circuit-build\" data-toc-modified-id=\"CNN-and-QCNN-circuit-build-4\"><span class=\"toc-item-num\">4&nbsp;&nbsp;</span>CNN and QCNN circuit build</a></span><ul class=\"toc-item\"><li><span><a href=\"#CNN-circuit\" data-toc-modified-id=\"CNN-circuit-4.1\"><span class=\"toc-item-num\">4.1&nbsp;&nbsp;</span>CNN circuit</a></span></li><li><span><a href=\"#QCNN-circuit\" data-toc-modified-id=\"QCNN-circuit-4.2\"><span class=\"toc-item-num\">4.2&nbsp;&nbsp;</span>QCNN circuit</a></span></li></ul></li><li><span><a href=\"#Qnode-example-from-PennyLane\" data-toc-modified-id=\"Qnode-example-from-PennyLane-5\"><span class=\"toc-item-num\">5&nbsp;&nbsp;</span>Qnode example from PennyLane</a></span><ul class=\"toc-item\"><li><ul class=\"toc-item\"><li><span><a href=\"#Defining-Qnode\" data-toc-modified-id=\"Defining-Qnode-5.0.1\"><span class=\"toc-item-num\">5.0.1&nbsp;&nbsp;</span>Defining Qnode</a></span></li><li><span><a href=\"#Statevector-result-in-Pennylane\" data-toc-modified-id=\"Statevector-result-in-Pennylane-5.0.2\"><span class=\"toc-item-num\">5.0.2&nbsp;&nbsp;</span>Statevector result in Pennylane</a></span></li><li><span><a href=\"#Qnode-Example\" data-toc-modified-id=\"Qnode-Example-5.0.3\"><span class=\"toc-item-num\">5.0.3&nbsp;&nbsp;</span>Qnode Example</a></span></li></ul></li></ul></li><li><span><a href=\"#QCNN---QNODE\" data-toc-modified-id=\"QCNN---QNODE-6\"><span class=\"toc-item-num\">6&nbsp;&nbsp;</span>QCNN - QNODE</a></span><ul class=\"toc-item\"><li><span><a href=\"#Creating-devices---simulator-with-/-without-noise\" data-toc-modified-id=\"Creating-devices---simulator-with-/-without-noise-6.1\"><span class=\"toc-item-num\">6.1&nbsp;&nbsp;</span>Creating devices - simulator with / without noise</a></span></li><li><span><a href=\"#Dataset---MNIST\" data-toc-modified-id=\"Dataset---MNIST-6.2\"><span class=\"toc-item-num\">6.2&nbsp;&nbsp;</span>Dataset - MNIST</a></span></li><li><span><a href=\"#QCNN-circuits\" data-toc-modified-id=\"QCNN-circuits-6.3\"><span class=\"toc-item-num\">6.3&nbsp;&nbsp;</span>QCNN circuits</a></span><ul class=\"toc-item\"><li><span><a href=\"#Circuit-specifications\" data-toc-modified-id=\"Circuit-specifications-6.3.1\"><span class=\"toc-item-num\">6.3.1&nbsp;&nbsp;</span>Circuit specifications</a></span></li></ul></li></ul></li></ul></div>"
   ]
  },
  {
   "cell_type": "code",
   "execution_count": null,
   "id": "71a65a92",
   "metadata": {},
   "outputs": [],
   "source": []
  },
  {
   "cell_type": "markdown",
   "id": "bcdb02fa",
   "metadata": {},
   "source": [
    "# Preparations"
   ]
  },
  {
   "cell_type": "markdown",
   "id": "87552499",
   "metadata": {},
   "source": [
    "## Adjusting Jupyter's display\n",
    "- You can increase the width of the display of the jupyter notebook by adjusting the HTML style.\n",
    "    - Adjust the width's percentage.\n",
    "- If it's not necessary, dont' execute the code."
   ]
  },
  {
   "cell_type": "code",
   "execution_count": 1,
   "id": "1c5c591a",
   "metadata": {
    "ExecuteTime": {
     "end_time": "2022-12-04T17:43:34.598107Z",
     "start_time": "2022-12-04T17:43:34.583983Z"
    },
    "scrolled": true
   },
   "outputs": [
    {
     "data": {
      "text/html": [
       "<style>.container { width:65% !important; }</style>"
      ],
      "text/plain": [
       "<IPython.core.display.HTML object>"
      ]
     },
     "metadata": {},
     "output_type": "display_data"
    }
   ],
   "source": [
    "from IPython.display import display, HTML\n",
    "display(HTML(\"<style>.container { width:65% !important; }</style>\"))"
   ]
  },
  {
   "cell_type": "markdown",
   "id": "b08d8b63",
   "metadata": {},
   "source": [
    "## Creating 'Result' folder\n",
    "- [\"how to create folder in python\"](https://www.codegrepper.com/code-examples/python/how+to+create+folder+in+python)"
   ]
  },
  {
   "cell_type": "code",
   "execution_count": 2,
   "id": "46a079a8",
   "metadata": {
    "ExecuteTime": {
     "end_time": "2022-12-04T17:43:34.613528Z",
     "start_time": "2022-12-04T17:43:34.599017Z"
    },
    "code_folding": []
   },
   "outputs": [],
   "source": [
    "import os\n",
    "\n",
    "newpath = 'Result'\n",
    "if not os.path.exists(newpath):\n",
    "    os.makedirs(newpath)"
   ]
  },
  {
   "cell_type": "markdown",
   "id": "22040aa1",
   "metadata": {},
   "source": [
    "# Install / Loading packages"
   ]
  },
  {
   "cell_type": "code",
   "execution_count": 3,
   "id": "fe5adf50",
   "metadata": {
    "ExecuteTime": {
     "end_time": "2022-12-04T17:43:34.629120Z",
     "start_time": "2022-12-04T17:43:34.615526Z"
    },
    "scrolled": true
   },
   "outputs": [],
   "source": [
    "# !pip install pennylane\n",
    "# !pip install tensorflow"
   ]
  },
  {
   "cell_type": "code",
   "execution_count": null,
   "id": "b2b90e4d",
   "metadata": {},
   "outputs": [],
   "source": []
  },
  {
   "cell_type": "markdown",
   "id": "cd3ad8d9",
   "metadata": {},
   "source": [
    "# Data Preparation\n",
    "- 'MNIST' data is a dataset of 60,000, 28$\\times$28 grayscale images of the 10 digits, along with a test set of 10,000 images.\n",
    "- Each pixel has grey scale value that ranges from 0 to 255.\n",
    "- More info can be found at the [MNIST homepage](http://yann.lecun.com/exdb/mnist/).\n",
    "- QCNN : https://github.com/takh04/QCNN/blob/main/README.md"
   ]
  },
  {
   "cell_type": "code",
   "execution_count": 4,
   "id": "829e30ba",
   "metadata": {
    "ExecuteTime": {
     "end_time": "2022-12-04T17:43:34.644183Z",
     "start_time": "2022-12-04T17:43:34.630120Z"
    }
   },
   "outputs": [],
   "source": [
    "# # Add directory path of the python-module files to import them.\n",
    "# import sys\n",
    "# # sys.path.insert(0,'C:/Users/THK/Desktop/qauntum_readout_error_NN/QCNN-main/Final_QCNN')\n",
    "# # sys.path"
   ]
  },
  {
   "cell_type": "code",
   "execution_count": 5,
   "id": "456405c8",
   "metadata": {
    "ExecuteTime": {
     "end_time": "2022-12-04T17:43:34.659214Z",
     "start_time": "2022-12-04T17:43:34.646181Z"
    },
    "scrolled": true
   },
   "outputs": [],
   "source": [
    "# import sys\n",
    "# import os\n",
    "\n",
    "# sys.path.append(os.path.abspath('C:/Users/THK/Desktop/qauntum_readout_error_NN/QCNN_modules'))\n",
    "# sys.path"
   ]
  },
  {
   "cell_type": "markdown",
   "id": "0c204682",
   "metadata": {},
   "source": [
    "To see if the directory path is added to the sys.path, check `sys.path`"
   ]
  },
  {
   "cell_type": "markdown",
   "id": "23a538e7",
   "metadata": {},
   "source": [
    "## Module - 1_data"
   ]
  },
  {
   "cell_type": "code",
   "execution_count": 6,
   "id": "43e6cf38",
   "metadata": {
    "ExecuteTime": {
     "end_time": "2022-12-04T17:43:37.462509Z",
     "start_time": "2022-12-04T17:43:34.660223Z"
    }
   },
   "outputs": [],
   "source": [
    "# # Run modules\n",
    "%run QCNN_modules2/data.py"
   ]
  },
  {
   "cell_type": "markdown",
   "id": "dd4f2879",
   "metadata": {},
   "source": [
    "Function Descriptions:\n",
    "- `data_load_and_process(dataset, classes = [0, 1], feature_reduction = 'resize256', binary = True)`\n",
    "    - <u>dataset</u>: choose the dataset (**'mnist'** or **'fashion_mnist'**)\n",
    "    - <u>classes</u>: choose the type of y-classes (**'odd_even'**, **'>4'**, **[0, 1]**)\n",
    "    - <u>feature_reduction</u>: choose the method of dimension reduction with the number of features to be selected\n",
    "        - For Amplitude encoding     : **'resize256'**\n",
    "        - For Qubit encoding         : **'pca8'**, **'autoencoder8'**\n",
    "        - For Dense qubit encoding   : **'pca16-1', 'pca16-2', 'pca16-3', 'pca16-4', 'pca16-compact'**, **'autoencoder16-1', 'autoencoder16-2', 'autoencoder16-3', 'autoencoder16-4', 'autoencoder16-compact'**\n",
    "        - For Hybrid direct encoding : **'pca32-1', 'pca32-2', 'pca32-3', 'pca32-4'**, **'autoencoder32-1', 'autoencoder32-2', 'autoencoder32-3', 'autoencoder32-4'**\n",
    "        - For Hybrid angle encoding  : **'pca30-1', 'pca30-2', 'pca30-3', 'pca30-4'**, **'autoencoder30-1', 'autoencoder30-2', 'autoencoder30-3', 'autoencoder30-4'**\n",
    "        - For extra                  : **'pca12-1', 'pca12-2', 'pca12-3', 'pca12-4'**, **'autoencoder12-1', 'autoencoder12-2', 'autoencoder12-3', 'autoencoder12-4'**\n",
    "    - <u>binary</u>: If 'True', dataset splits 'y classes' into +1, and -1.(**'True'**, or **'False'**). When using 'cross entropy loss', use binary=**False**. If using 'mse_loss' use binary=**True**.\n",
    "\n",
    "\n",
    "- This function returns normalized, dimensions reduced datasets ready to be used to train the model: X_train, X_test, Y_train, Y_test"
   ]
  },
  {
   "cell_type": "markdown",
   "id": "6043e4f4",
   "metadata": {},
   "source": [
    "## Let's check the datasets using `data_load_and_process`\n",
    "- Let's upload the dataset using `data_load_and_process` and check its dimensions, size, and the number of features which we will be using."
   ]
  },
  {
   "cell_type": "code",
   "execution_count": 7,
   "id": "e85316c2",
   "metadata": {
    "ExecuteTime": {
     "end_time": "2022-12-04T17:43:38.090050Z",
     "start_time": "2022-12-04T17:43:37.463487Z"
    }
   },
   "outputs": [],
   "source": [
    "# Generate datasets\n",
    "dataset_name = 'mnist'\n",
    "feature_reduction_method = 'pca8'\n",
    "\n",
    "# Get 'mnist' with {0, 1} classes\n",
    "X_train, X_test, Y_train, Y_test = data_load_and_process(dataset=dataset_name,\n",
    "                                                         classes=[0, 1],\n",
    "                                                         feature_reduction=feature_reduction_method,\n",
    "                                                         binary=True)"
   ]
  },
  {
   "cell_type": "code",
   "execution_count": 8,
   "id": "395a3e94",
   "metadata": {
    "ExecuteTime": {
     "end_time": "2022-12-04T17:43:38.105579Z",
     "start_time": "2022-12-04T17:43:38.092030Z"
    },
    "scrolled": false
   },
   "outputs": [
    {
     "name": "stdout",
     "output_type": "stream",
     "text": [
      "Dimensions of `mnist` Train / Test data\n",
      "Feature reduction method: `pca8`\n",
      "Name of the dataset (num_obs, num_features):\n",
      "  X_train: (12665, 8)\n",
      "  Y_train: 12665\n",
      "  X_test : (2115, 8)\n",
      "  Y_test : 2115\n"
     ]
    }
   ],
   "source": [
    "# Dimensions of the generated datasets\n",
    "print('Dimensions of `' + str(dataset_name) + '` Train / Test data')\n",
    "print('Feature reduction method: `' + str(feature_reduction_method) + '`')\n",
    "print('Name of the dataset (num_obs, num_features):')\n",
    "print('  X_train: ' + str(X_train.shape))\n",
    "print('  Y_train: ' + str(len(Y_train)))\n",
    "print('  X_test : ' + str(X_test.shape))\n",
    "print('  Y_test : ' + str(len(Y_test)))"
   ]
  },
  {
   "cell_type": "code",
   "execution_count": 9,
   "id": "9dd3f8b4",
   "metadata": {
    "ExecuteTime": {
     "end_time": "2022-12-04T17:43:38.121267Z",
     "start_time": "2022-12-04T17:43:38.110092Z"
    }
   },
   "outputs": [
    {
     "data": {
      "text/plain": [
       "[1, -1, -1, -1]"
      ]
     },
     "execution_count": 9,
     "metadata": {},
     "output_type": "execute_result"
    }
   ],
   "source": [
    "Y_train[0:4]"
   ]
  },
  {
   "cell_type": "markdown",
   "id": "f122d7ab",
   "metadata": {},
   "source": []
  },
  {
   "cell_type": "markdown",
   "id": "d6a0ff57",
   "metadata": {},
   "source": [
    "# QCNN circuits represented into Qnode"
   ]
  },
  {
   "cell_type": "code",
   "execution_count": null,
   "id": "b8c04754",
   "metadata": {},
   "outputs": [],
   "source": []
  },
  {
   "cell_type": "code",
   "execution_count": null,
   "id": "5aab7436",
   "metadata": {},
   "outputs": [],
   "source": []
  },
  {
   "cell_type": "code",
   "execution_count": 10,
   "id": "5312c41c",
   "metadata": {
    "ExecuteTime": {
     "end_time": "2022-12-04T17:43:38.136782Z",
     "start_time": "2022-12-04T17:43:38.122275Z"
    },
    "scrolled": false
   },
   "outputs": [],
   "source": [
    "# import numpy as np\n",
    "# import math\n",
    "# import tensorflow as tf\n",
    "# from sklearn.decomposition import PCA\n",
    "# from tensorflow.keras.models import Model\n",
    "# from tensorflow.keras import layers, losses\n",
    "# import torch\n",
    "# import torch.nn as nn\n",
    "\n",
    "import time"
   ]
  },
  {
   "cell_type": "code",
   "execution_count": null,
   "id": "46859080",
   "metadata": {},
   "outputs": [],
   "source": []
  },
  {
   "cell_type": "code",
   "execution_count": null,
   "id": "e69c4d54",
   "metadata": {},
   "outputs": [],
   "source": []
  },
  {
   "cell_type": "code",
   "execution_count": null,
   "id": "ca7ce05c",
   "metadata": {},
   "outputs": [],
   "source": []
  },
  {
   "cell_type": "code",
   "execution_count": null,
   "id": "6a998a99",
   "metadata": {},
   "outputs": [],
   "source": []
  },
  {
   "cell_type": "markdown",
   "id": "c1a97a25",
   "metadata": {},
   "source": [
    "# CNN and QCNN circuit build"
   ]
  },
  {
   "cell_type": "markdown",
   "id": "80ff7098",
   "metadata": {},
   "source": [
    "## CNN circuit\n",
    "- It builds classcial CNN circuit with same datasets given by `data_load_and_process`\n",
    "- py file optimizes and benchmarks of the CNN model when it is executed."
   ]
  },
  {
   "cell_type": "code",
   "execution_count": 11,
   "id": "b3496941",
   "metadata": {
    "ExecuteTime": {
     "end_time": "2022-12-04T17:43:38.152704Z",
     "start_time": "2022-12-04T17:43:38.137787Z"
    }
   },
   "outputs": [],
   "source": [
    "# # Run module\n",
    "# %run QCNN_modules2/CNN.py"
   ]
  },
  {
   "cell_type": "code",
   "execution_count": null,
   "id": "aedc2692",
   "metadata": {},
   "outputs": [],
   "source": []
  },
  {
   "cell_type": "markdown",
   "id": "ab38b671",
   "metadata": {},
   "source": [
    "## QCNN circuit"
   ]
  },
  {
   "cell_type": "markdown",
   "id": "5ac920a2",
   "metadata": {},
   "source": [
    "- We will making QCNN circuits based on the given 'Data encoding' and 'Ansatz'. \n",
    "- Here are some informations about the building blocks of the QCNN circuits.\n",
    "\n",
    "![QCNN_boundary](img/QCNN_boundary.png)"
   ]
  },
  {
   "cell_type": "markdown",
   "id": "3b0575a4",
   "metadata": {},
   "source": [
    "- Data encoding(5): `embedding_type`\n",
    "    - Amplitude encoding     : **Amplitude**\n",
    "    - Qubit encoding         : **Angle**\n",
    "    - Dense qubit encoding   : **Angle-compact**\n",
    "    - Hybrid Direct encoding : **'Amplitude-Hybrid2-1, 2, 3, 4**, **Amplitude-Hybrid4-1, 2, 3, 4**\n",
    "    - Hybrid Angle encoding  : **'Angular-Hybrid2-1, 2, 3, 4**, **Angular-Hybrid4-1, 2, 3, 4**\n",
    "        - At Hybrid encodings, '2' is for one block per 2 qubits, resulting 4 blocks on 8 qubits, and '4' is for one block per 4 qubints, resulting 2 blocks on 8 qubits."
   ]
  },
  {
   "cell_type": "markdown",
   "id": "6228025c",
   "metadata": {},
   "source": [
    "- Convolutional filter(9): `U`\n",
    "- Pooling layer(2): Default for the pooling is 'yes'.\n",
    "    - #1  : **U_TTN**\n",
    "    - #2  : **U_9**\n",
    "    - #3  : **U_15**\n",
    "    - #4  : **U_13**\n",
    "    - #5  : **U_14**\n",
    "    - #6  : **U_SO4**\n",
    "    - #7  : **U_5**\n",
    "    - #8  : **U_6**\n",
    "    - #9a : **U_SU4**\n",
    "    - #9b : **U_SU4_no_pooling**\n",
    "    \n",
    "![convolutional_circuits](img/convolutional_circuits.png)\n",
    "\n",
    "![pooling_layer](img/pooling_layer.png)"
   ]
  },
  {
   "cell_type": "markdown",
   "id": "66d145ea",
   "metadata": {},
   "source": [
    "- Circuit boundary conditions(2):\n",
    "    - The default of the boundary condition of the QCNN is 'yes'.\n",
    "    - No boundary condition with #2  :**U_9_1D**\n",
    "    - No boundary condition with #9b :**U_SU4_1D**\n",
    "    \n",
    "![QCNN_no_boundary](img/QCNN_no_boundary.png)"
   ]
  },
  {
   "cell_type": "markdown",
   "id": "b7743dad",
   "metadata": {},
   "source": [
    "- Cost Function(2+1): `cost_fn`\n",
    "    - Cross entrophy: **cross_entropy**\n",
    "    - Mean squared error: **mse**  \n",
    "    - Means squared error with penalty term: **square_loss_lambda**"
   ]
  },
  {
   "cell_type": "markdown",
   "id": "1e339582",
   "metadata": {},
   "source": [
    "- The total number of features in Data Encoding steps with 8-qubits QCNN model are given below.\n",
    "    - Amplitude encoding (AE)      : $2^{8}=256$\n",
    "    - Qubit encoding               : $8$\n",
    "    - Dense qubit encoding         : $8 \\times 2=16$\n",
    "    - Hybrid direct encoding (HDE) : $2^{8\\div2} \\times 2=32$\n",
    "    - Hybrid angle encoding (HAE)  : $(2^{8\\div2}-1) \\times 2=30$ \n",
    "\n",
    "\n",
    "- The total number of parameters used in the quantum circuits are given below.\n",
    "    - Convolutional Filter(=`U_params`) + Pooling Layer $\\times$ (3 layers) = total number of parameters\n",
    "        - #1 : $(2 + 2) \\times 3 = 12$\n",
    "        - #2 : $(2 + 2) \\times 3 = 12$\n",
    "        - #3 : $(4 + 2) \\times 3 = 18$\n",
    "        - #4 : $(6 + 2) \\times 3 = 24$\n",
    "        - #5 : $(6 + 2) \\times 3 = 24$\n",
    "        - #6 : $(6 + 2) \\times 3 = 24$\n",
    "        - #7 : $(10 + 2) \\times 3 = 36$\n",
    "        - #8 : $(10 + 2) \\times 3 = 36$\n",
    "        - #9a: $(15 + 2) \\times 3 = 51$\n",
    "        - #9b: $(15 + 0) \\times 3 = 45$"
   ]
  },
  {
   "cell_type": "markdown",
   "id": "13c2a175",
   "metadata": {},
   "source": [
    "- Function Descriptions:\n",
    "    - Three functions below are embedded in `QCNN` function:\n",
    "        - `QCNN_structure(U, params, U_params)` : #1 ~ #9a\n",
    "        - `QCNN_structure_without_pooling(U, params, U_params)` : #9b\n",
    "        - `QCNN_1D_circuit(U, params, U_params)` : #2, #9b without boundary conditions\n",
    "    - `QCNN(X, params, U, U_params, embedding_type='Amplitude', cost_fn='cross_entropy', measure_axis='Z')` : \n",
    "        - X : **X_train**\n",
    "        - params: parameters of the quantum circuit\n",
    "        - U : **U_TTN**, **U_9**, **U_15**, **U_13**, **U_14**, **U_SO4**, **U_5**, **U_6**, **U_SU4**, **U_SU4_no_pooling**, **U_9_1D**, **U_SU4_1D**\n",
    "        - U_params : The number of parameters in a convolutional filter which depends on the choice of the convolutional filter.\n",
    "            - **2**, **2**, **4**, **6**, **6**, **6**, **10**, **10**, **15**, **15** \n",
    "        - embedding_type: Choose the data encoding depending on the order of putting features\n",
    "            - **Amplitude**, **Angle**, **Angle-compact**, **Amplitude-Hybrid2-1, 2, 3, 4**, **Amplitude-Hybrid4-1, 2, 3, 4**, **Angular-Hybrid2-1, 2, 3, 4**, **Angular-Hybrid4-1, 2, 3, 4**\n",
    "        - cost_fn: **cross_entropy**, **mse**\n",
    "        - measure_axis: measuring the final state in Z-axis(computational basis), Y-axis(circular basis), X-axis(Hadamard basis)\n",
    "            - **'Z'**, **'Y'**, **'X'**, "
   ]
  },
  {
   "cell_type": "code",
   "execution_count": null,
   "id": "6c2f776a",
   "metadata": {},
   "outputs": [],
   "source": []
  },
  {
   "cell_type": "markdown",
   "id": "24a86674",
   "metadata": {},
   "source": [
    "# Qnode example from PennyLane"
   ]
  },
  {
   "cell_type": "markdown",
   "id": "25d1e2f5",
   "metadata": {},
   "source": [
    "- [Turning quantum nodes into Keras Layers](https://pennylane.ai/qml/demos/tutorial_qnn_module_tf.html)\n",
    "- [qml.probs](https://docs.pennylane.ai/en/stable/code/api/pennylane.probs.html)\n",
    "- [qml.qnn.KerasLayer](https://docs.pennylane.ai/en/stable/code/api/pennylane.qnn.KerasLayer.html)\n",
    "- [qml.qnn.TorchLayer](https://docs.pennylane.ai/en/stable/code/api/pennylane.qnn.TorchLayer.html)"
   ]
  },
  {
   "cell_type": "code",
   "execution_count": 12,
   "id": "efabf778",
   "metadata": {
    "ExecuteTime": {
     "end_time": "2022-12-04T17:43:38.181974Z",
     "start_time": "2022-12-04T17:43:38.153704Z"
    }
   },
   "outputs": [],
   "source": [
    "import tensorflow as tf\n",
    "\n",
    "tf.keras.backend.set_floatx('float64')\n",
    "\n",
    "layer_1 = tf.keras.layers.Dense(2)\n",
    "layer_2 = tf.keras.layers.Dense(2, activation=\"softmax\")\n",
    "\n",
    "model = tf.keras.Sequential([layer_1, layer_2])\n",
    "model.compile(loss=\"mae\")"
   ]
  },
  {
   "cell_type": "code",
   "execution_count": 13,
   "id": "cc85bf89",
   "metadata": {
    "ExecuteTime": {
     "end_time": "2022-12-04T17:43:38.670356Z",
     "start_time": "2022-12-04T17:43:38.182940Z"
    }
   },
   "outputs": [
    {
     "data": {
      "image/png": "[encoded data removed]",
      "text/plain": [
       "<Figure size 432x288 with 1 Axes>"
      ]
     },
     "metadata": {
      "needs_background": "light"
     },
     "output_type": "display_data"
    }
   ],
   "source": [
    "import matplotlib.pyplot as plt\n",
    "import numpy as np\n",
    "from sklearn.datasets import make_moons\n",
    "\n",
    "# Set random seeds\n",
    "np.random.seed(42)\n",
    "tf.random.set_seed(42)\n",
    "\n",
    "X, y = make_moons(n_samples=200, noise=0.1)\n",
    "y_hot = tf.keras.utils.to_categorical(\n",
    "    y, num_classes=2)  # one-hot encoded labels\n",
    "\n",
    "c = [\"#1f77b4\" if y_ == 0 else \"#ff7f0e\" for y_ in y]  # colours for each class\n",
    "plt.axis(\"off\")\n",
    "plt.scatter(X[:, 0], X[:, 1], c=c)\n",
    "plt.show()"
   ]
  },
  {
   "cell_type": "markdown",
   "id": "79c2f4ef",
   "metadata": {},
   "source": [
    "### Defining Qnode"
   ]
  },
  {
   "cell_type": "code",
   "execution_count": 14,
   "id": "0a9063a1",
   "metadata": {
    "ExecuteTime": {
     "end_time": "2022-12-04T17:43:39.109901Z",
     "start_time": "2022-12-04T17:43:38.672355Z"
    }
   },
   "outputs": [],
   "source": [
    "import pennylane as qml\n",
    "\n",
    "n_qubits = 2\n",
    "dev = qml.device(\"default.qubit\", wires=n_qubits)\n",
    "\n",
    "\n",
    "@qml.qnode(dev)\n",
    "def qnode(inputs, weights):\n",
    "    qml.AngleEmbedding(inputs, wires=range(n_qubits))\n",
    "    qml.BasicEntanglerLayers(weights, wires=range(n_qubits))\n",
    "    return [qml.expval(qml.PauliZ(wires=i)) for i in range(n_qubits)]"
   ]
  },
  {
   "cell_type": "code",
   "execution_count": 15,
   "id": "04c04efc",
   "metadata": {
    "ExecuteTime": {
     "end_time": "2022-12-04T17:43:39.125413Z",
     "start_time": "2022-12-04T17:43:39.110880Z"
    }
   },
   "outputs": [],
   "source": [
    "n_layers = 6\n",
    "weight_shapes = {\"weights\": (n_layers, n_qubits)}"
   ]
  },
  {
   "cell_type": "code",
   "execution_count": 16,
   "id": "832080db",
   "metadata": {
    "ExecuteTime": {
     "end_time": "2022-12-04T17:43:39.140937Z",
     "start_time": "2022-12-04T17:43:39.126390Z"
    },
    "scrolled": true
   },
   "outputs": [
    {
     "data": {
      "text/plain": [
       "dict"
      ]
     },
     "execution_count": 16,
     "metadata": {},
     "output_type": "execute_result"
    }
   ],
   "source": [
    "type(weight_shapes)"
   ]
  },
  {
   "cell_type": "code",
   "execution_count": 17,
   "id": "2b31464a",
   "metadata": {
    "ExecuteTime": {
     "end_time": "2022-12-04T17:43:39.156484Z",
     "start_time": "2022-12-04T17:43:39.141937Z"
    }
   },
   "outputs": [],
   "source": [
    "qlayer = qml.qnn.KerasLayer(qnode, weight_shapes, output_dim=n_qubits)"
   ]
  },
  {
   "cell_type": "code",
   "execution_count": 18,
   "id": "2eae8c8b",
   "metadata": {
    "ExecuteTime": {
     "end_time": "2022-12-04T17:43:39.171920Z",
     "start_time": "2022-12-04T17:43:39.156484Z"
    }
   },
   "outputs": [],
   "source": [
    "clayer_1 = tf.keras.layers.Dense(2)\n",
    "clayer_2 = tf.keras.layers.Dense(2, activation=\"softmax\")\n",
    "model = tf.keras.models.Sequential([clayer_1, qlayer, clayer_2])"
   ]
  },
  {
   "cell_type": "code",
   "execution_count": 19,
   "id": "0ec9dfb4",
   "metadata": {
    "ExecuteTime": {
     "end_time": "2022-12-04T17:44:49.575598Z",
     "start_time": "2022-12-04T17:43:39.173900Z"
    }
   },
   "outputs": [
    {
     "name": "stdout",
     "output_type": "stream",
     "text": [
      "Epoch 1/5\n",
      "30/30 - 12s - loss: 0.4406 - accuracy: 0.6333 - val_loss: 0.3079 - val_accuracy: 0.8200 - 12s/epoch - 407ms/step\n",
      "Epoch 2/5\n",
      "30/30 - 15s - loss: 0.2595 - accuracy: 0.8133 - val_loss: 0.2151 - val_accuracy: 0.8400 - 15s/epoch - 494ms/step\n",
      "Epoch 3/5\n",
      "30/30 - 14s - loss: 0.1960 - accuracy: 0.8467 - val_loss: 0.1912 - val_accuracy: 0.8200 - 14s/epoch - 467ms/step\n",
      "Epoch 4/5\n",
      "30/30 - 15s - loss: 0.1769 - accuracy: 0.8667 - val_loss: 0.1774 - val_accuracy: 0.8400 - 15s/epoch - 503ms/step\n",
      "Epoch 5/5\n",
      "30/30 - 14s - loss: 0.1625 - accuracy: 0.8667 - val_loss: 0.1716 - val_accuracy: 0.8600 - 14s/epoch - 473ms/step\n"
     ]
    }
   ],
   "source": [
    "opt = tf.keras.optimizers.SGD(learning_rate=0.2)\n",
    "model.compile(opt, loss=\"mae\", metrics=[\"accuracy\"])\n",
    "\n",
    "fitting = model.fit(X, y_hot, epochs=5, batch_size=5,\n",
    "                    validation_split=0.25, verbose=2)"
   ]
  },
  {
   "cell_type": "code",
   "execution_count": null,
   "id": "4363899a",
   "metadata": {},
   "outputs": [],
   "source": []
  },
  {
   "cell_type": "code",
   "execution_count": null,
   "id": "d65dc0a8",
   "metadata": {},
   "outputs": [],
   "source": []
  },
  {
   "cell_type": "markdown",
   "id": "f7224e4d",
   "metadata": {},
   "source": [
    "### Statevector result in Pennylane"
   ]
  },
  {
   "cell_type": "code",
   "execution_count": 20,
   "id": "769ff882",
   "metadata": {
    "ExecuteTime": {
     "end_time": "2022-12-04T17:44:49.591161Z",
     "start_time": "2022-12-04T17:44:49.576598Z"
    }
   },
   "outputs": [],
   "source": [
    "dev = qml.device('default.qubit', wires=2)\n",
    "\n",
    "\n",
    "@qml.qnode(dev)\n",
    "def example_circuit():\n",
    "    qml.QubitStateVector(np.array([1, 0, 0, 0]), wires=range(2))\n",
    "    return qml.state()"
   ]
  },
  {
   "cell_type": "code",
   "execution_count": 21,
   "id": "b498d573",
   "metadata": {
    "ExecuteTime": {
     "end_time": "2022-12-04T17:44:49.606688Z",
     "start_time": "2022-12-04T17:44:49.593163Z"
    }
   },
   "outputs": [
    {
     "name": "stdout",
     "output_type": "stream",
     "text": [
      "<class 'pennylane.numpy.tensor.tensor'>\n",
      "[1.+0.j 0.+0.j 0.+0.j 0.+0.j]\n"
     ]
    }
   ],
   "source": [
    "cir_result = example_circuit()\n",
    "\n",
    "print(type(cir_result))\n",
    "print(cir_result)"
   ]
  },
  {
   "cell_type": "code",
   "execution_count": 22,
   "id": "b6f67e76",
   "metadata": {
    "ExecuteTime": {
     "end_time": "2022-12-04T17:44:49.621794Z",
     "start_time": "2022-12-04T17:44:49.608259Z"
    }
   },
   "outputs": [
    {
     "data": {
      "text/plain": [
       "tensor(1.+0.j, requires_grad=True)"
      ]
     },
     "execution_count": 22,
     "metadata": {},
     "output_type": "execute_result"
    }
   ],
   "source": [
    "cir_result[0]"
   ]
  },
  {
   "cell_type": "code",
   "execution_count": 23,
   "id": "a9c49ff2",
   "metadata": {
    "ExecuteTime": {
     "end_time": "2022-12-04T17:44:49.637987Z",
     "start_time": "2022-12-04T17:44:49.623766Z"
    }
   },
   "outputs": [
    {
     "data": {
      "text/plain": [
       "pennylane.numpy.tensor.tensor"
      ]
     },
     "execution_count": 23,
     "metadata": {},
     "output_type": "execute_result"
    }
   ],
   "source": [
    "type(example_circuit())"
   ]
  },
  {
   "cell_type": "code",
   "execution_count": null,
   "id": "c15a849a",
   "metadata": {},
   "outputs": [],
   "source": []
  },
  {
   "cell_type": "markdown",
   "id": "26a501c9",
   "metadata": {},
   "source": [
    "### Qnode Example"
   ]
  },
  {
   "cell_type": "code",
   "execution_count": 24,
   "id": "f6178e25",
   "metadata": {
    "ExecuteTime": {
     "end_time": "2022-12-04T17:44:49.652874Z",
     "start_time": "2022-12-04T17:44:49.639849Z"
    }
   },
   "outputs": [],
   "source": [
    "n_qubits = 4\n",
    "dev = qml.device(\"default.qubit\", wires=n_qubits)\n",
    "\n",
    "\n",
    "@qml.qnode(dev)\n",
    "def qnode(inputs, weights_0, weight_1):\n",
    "    qml.RX(inputs[0], wires=0)\n",
    "    qml.RX(inputs[1], wires=1)\n",
    "\n",
    "    qml.Rot(weights_0, wires=0)\n",
    "    qml.RY(weight_1, wires=1)\n",
    "    qml.Rot(weights_0, wires=0)\n",
    "    qml.RY(weight_1, wires=1)\n",
    "    qml.Rot(weights_0, wires=0)\n",
    "    qml.RY(weight_1, wires=1)\n",
    "    qml.CNOT(wires=[0, 1])\n",
    "    return qml.expval(qml.PauliZ(0)), qml.expval(qml.PauliZ(1))"
   ]
  },
  {
   "cell_type": "code",
   "execution_count": 25,
   "id": "c5d7d1d7",
   "metadata": {
    "ExecuteTime": {
     "end_time": "2022-12-04T17:44:49.668051Z",
     "start_time": "2022-12-04T17:44:49.654874Z"
    }
   },
   "outputs": [],
   "source": [
    "weight_shapes = {\"weights_0\": 3, \"weight_1\": 1}\n",
    "qlayer = qml.qnn.KerasLayer(qnode, weight_shapes, output_dim=2)"
   ]
  },
  {
   "cell_type": "code",
   "execution_count": 26,
   "id": "a59851ac",
   "metadata": {
    "ExecuteTime": {
     "end_time": "2022-12-04T17:44:49.684100Z",
     "start_time": "2022-12-04T17:44:49.669996Z"
    }
   },
   "outputs": [],
   "source": [
    "clayer = tf.keras.layers.Dense(2)\n",
    "model = tf.keras.models.Sequential([qlayer, clayer])"
   ]
  },
  {
   "cell_type": "code",
   "execution_count": 27,
   "id": "0af0dd85",
   "metadata": {
    "ExecuteTime": {
     "end_time": "2022-12-04T17:44:49.698783Z",
     "start_time": "2022-12-04T17:44:49.691268Z"
    }
   },
   "outputs": [
    {
     "data": {
      "text/plain": [
       "<keras.engine.sequential.Sequential at 0x1e28faa1340>"
      ]
     },
     "execution_count": 27,
     "metadata": {},
     "output_type": "execute_result"
    }
   ],
   "source": [
    "model"
   ]
  },
  {
   "cell_type": "code",
   "execution_count": 28,
   "id": "5d6f3daa",
   "metadata": {
    "ExecuteTime": {
     "end_time": "2022-12-04T17:44:49.714040Z",
     "start_time": "2022-12-04T17:44:49.702799Z"
    }
   },
   "outputs": [
    {
     "data": {
      "text/plain": [
       "{'weights_0': 3, 'weight_1': 1}"
      ]
     },
     "execution_count": 28,
     "metadata": {},
     "output_type": "execute_result"
    }
   ],
   "source": [
    "weight_shapes"
   ]
  },
  {
   "cell_type": "code",
   "execution_count": 29,
   "id": "b84fee70",
   "metadata": {
    "ExecuteTime": {
     "end_time": "2022-12-04T17:44:49.729070Z",
     "start_time": "2022-12-04T17:44:49.717039Z"
    }
   },
   "outputs": [
    {
     "data": {
      "text/plain": [
       "<bound method Model.summary of <keras.engine.sequential.Sequential object at 0x000001E28FAA1340>>"
      ]
     },
     "execution_count": 29,
     "metadata": {},
     "output_type": "execute_result"
    }
   ],
   "source": [
    "model.summary"
   ]
  },
  {
   "cell_type": "code",
   "execution_count": null,
   "id": "05235f0b",
   "metadata": {},
   "outputs": [],
   "source": []
  },
  {
   "cell_type": "markdown",
   "id": "d002bc9f",
   "metadata": {},
   "source": [
    "# QCNN - QNODE"
   ]
  },
  {
   "cell_type": "markdown",
   "id": "c51d0c8a",
   "metadata": {},
   "source": [
    "## Creating devices - simulator with / without noise"
   ]
  },
  {
   "cell_type": "markdown",
   "id": "3d26875b",
   "metadata": {},
   "source": [
    "- Number of qubits"
   ]
  },
  {
   "cell_type": "code",
   "execution_count": 30,
   "id": "6676a538",
   "metadata": {
    "ExecuteTime": {
     "end_time": "2022-12-04T17:44:49.744585Z",
     "start_time": "2022-12-04T17:44:49.732075Z"
    }
   },
   "outputs": [],
   "source": [
    "import pennylane as qml\n",
    "from pennylane import numpy as np\n",
    "\n",
    "n_qubits = 8"
   ]
  },
  {
   "cell_type": "markdown",
   "id": "40ca96a0",
   "metadata": {},
   "source": [
    "- Create devices with different readout error probabilities"
   ]
  },
  {
   "cell_type": "code",
   "execution_count": 31,
   "id": "b720ecbd",
   "metadata": {
    "ExecuteTime": {
     "end_time": "2022-12-04T17:44:49.760143Z",
     "start_time": "2022-12-04T17:44:49.746586Z"
    }
   },
   "outputs": [],
   "source": [
    "dev_noisy0 = qml.device(\"default.qubit\", wires=n_qubits)\n",
    "dev_noisy1 = qml.device(\"default.mixed\", wires=n_qubits, readout_prob=0.0001)\n",
    "dev_noisy2 = qml.device(\"default.mixed\", wires=n_qubits, readout_prob=0.001)\n",
    "dev_noisy3 = qml.device(\"default.mixed\", wires=n_qubits, readout_prob=0.01)\n",
    "dev_noisy4 = qml.device(\"default.mixed\", wires=n_qubits, readout_prob=0.1)\n",
    "\n",
    "dev_list = [dev_noisy0, dev_noisy1, dev_noisy2, dev_noisy3, dev_noisy4]"
   ]
  },
  {
   "cell_type": "code",
   "execution_count": null,
   "id": "245bb5a8",
   "metadata": {},
   "outputs": [],
   "source": []
  },
  {
   "cell_type": "markdown",
   "id": "d3c9cdb2",
   "metadata": {},
   "source": [
    "## Dataset - MNIST"
   ]
  },
  {
   "cell_type": "code",
   "execution_count": 32,
   "id": "493ca720",
   "metadata": {
    "ExecuteTime": {
     "end_time": "2022-12-04T17:44:50.345463Z",
     "start_time": "2022-12-04T17:44:49.763144Z"
    }
   },
   "outputs": [],
   "source": [
    "# MNIST datasets\n",
    "dataset_name = 'mnist'\n",
    "feature_reduction_method = 'resize256'\n",
    "\n",
    "\n",
    "X_train, X_test, Y_train, Y_test = data_load_and_process(dataset=dataset_name,\n",
    "                                                         classes=[0, 1],\n",
    "                                                         feature_reduction=feature_reduction_method,\n",
    "                                                         binary=True)"
   ]
  },
  {
   "cell_type": "code",
   "execution_count": 33,
   "id": "56efa8b4",
   "metadata": {
    "ExecuteTime": {
     "end_time": "2022-12-04T17:44:50.360862Z",
     "start_time": "2022-12-04T17:44:50.347976Z"
    }
   },
   "outputs": [
    {
     "name": "stdout",
     "output_type": "stream",
     "text": [
      "(12665, 256)\n",
      "(2115, 256)\n"
     ]
    }
   ],
   "source": [
    "print(X_train.shape)\n",
    "print(X_test.shape)"
   ]
  },
  {
   "cell_type": "code",
   "execution_count": 34,
   "id": "e9399276",
   "metadata": {
    "ExecuteTime": {
     "end_time": "2022-12-04T17:44:50.376051Z",
     "start_time": "2022-12-04T17:44:50.361887Z"
    }
   },
   "outputs": [
    {
     "data": {
      "text/plain": [
       "6742"
      ]
     },
     "execution_count": 34,
     "metadata": {},
     "output_type": "execute_result"
    }
   ],
   "source": [
    "Y_train.count(-1)"
   ]
  },
  {
   "cell_type": "code",
   "execution_count": 35,
   "id": "86f83029",
   "metadata": {
    "ExecuteTime": {
     "end_time": "2022-12-04T17:44:50.391070Z",
     "start_time": "2022-12-04T17:44:50.378050Z"
    }
   },
   "outputs": [
    {
     "name": "stdout",
     "output_type": "stream",
     "text": [
      "# of 0s in train:  6742\n",
      "# of 1s in train:  5923\n",
      "# of 0s in test:  1135\n",
      "# of 1s in test:  980\n"
     ]
    }
   ],
   "source": [
    "print(\"# of 0s in train: \", Y_train.count(-1))\n",
    "print(\"# of 1s in train: \", Y_train.count(1))\n",
    "\n",
    "print(\"# of 0s in test: \", Y_test.count(-1))\n",
    "print(\"# of 1s in test: \", Y_test.count(1))"
   ]
  },
  {
   "cell_type": "code",
   "execution_count": 36,
   "id": "3816a428",
   "metadata": {
    "ExecuteTime": {
     "end_time": "2022-12-04T17:44:50.453326Z",
     "start_time": "2022-12-04T17:44:50.393068Z"
    }
   },
   "outputs": [],
   "source": [
    "from tensorflow.keras.utils import to_categorical\n",
    "\n",
    "\n",
    "Y_train_label = (np.array(Y_train)+1)/2\n",
    "Y_train_onehot = to_categorical(Y_train_label)\n",
    "\n",
    "Y_test_label = (np.array(Y_test)+1)/2\n",
    "Y_test_onehot = to_categorical(Y_test_label)"
   ]
  },
  {
   "cell_type": "markdown",
   "id": "d39001c1",
   "metadata": {},
   "source": [
    "## QCNN circuits"
   ]
  },
  {
   "cell_type": "markdown",
   "id": "59b40966",
   "metadata": {},
   "source": [
    "### Circuit specifications"
   ]
  },
  {
   "cell_type": "code",
   "execution_count": 37,
   "id": "4e2b4025",
   "metadata": {
    "ExecuteTime": {
     "end_time": "2022-12-04T17:44:50.469084Z",
     "start_time": "2022-12-04T17:44:50.455327Z"
    }
   },
   "outputs": [],
   "source": [
    "# Circuit training hyper parameters of the optimizer: NesterovMomentumOptimizer\n",
    "# steps = 200\n",
    "# learning_rate = 0.01\n",
    "# batch_size = 25\n",
    "\n",
    "dataset_name = 'mnist'\n",
    "Unitaries_list = ['U_TTN']\n",
    "# Unitaries_list = ['U_TTN', 'U_9', 'U_15', 'U_13', 'U_14', 'U_SO4', 'U_5', 'U_6', 'U_SU4', 'U_SU4_no_pooling']\n",
    "U_num_params_list = [2]\n",
    "# U_num_params_list = [2, 2, 4, 6, 6, 6, 10, 10, 15, 15]\n",
    "Encodings_list = ['resize256']\n",
    "# Encodings_list = ['resize256', 'pca8', 'autoencoder8', 'pca16-1', 'autoencoder16-1', 'pca32-1', 'autoencoder32-1', 'pca30-1', 'autoencoder30-1']\n",
    "\n",
    "circuit_type = 'QCNN'\n",
    "# ['cross_entropy', 'mse', 'mse_lambda', 'classify_lambda', 'classify_lambda2']\n",
    "cost_fn_type = 'mse'\n",
    "lambda_value = 0.05\n",
    "lambd_decs = False\n",
    "num_obs_ploting = None"
   ]
  },
  {
   "cell_type": "code",
   "execution_count": 38,
   "id": "801c0782",
   "metadata": {
    "ExecuteTime": {
     "end_time": "2022-12-04T17:44:50.484626Z",
     "start_time": "2022-12-04T17:44:50.471099Z"
    },
    "code_folding": [
     0
    ]
   },
   "outputs": [],
   "source": [
    "def Encoding_to_Embedding(Encoding):\n",
    "    # Amplitude Embedding / Angle Embedding\n",
    "    if Encoding == 'resize256':\n",
    "        Embedding = 'Amplitude'\n",
    "    elif Encoding == 'pca8':\n",
    "        Embedding = 'Angle'\n",
    "    elif Encoding == 'autoencoder8':\n",
    "        Embedding = 'Angle'\n",
    "\n",
    "    # Amplitude Hybrid Embedding\n",
    "    # 4 qubit block\n",
    "    elif Encoding == 'pca32-1':\n",
    "        Embedding = 'Amplitude-Hybrid4-1'\n",
    "    elif Encoding == 'autoencoder32-1':\n",
    "        Embedding = 'Amplitude-Hybrid4-1'\n",
    "\n",
    "    elif Encoding == 'pca32-2':\n",
    "        Embedding = 'Amplitude-Hybrid4-2'\n",
    "    elif Encoding == 'autoencoder32-2':\n",
    "        Embedding = 'Amplitude-Hybrid4-2'\n",
    "\n",
    "    elif Encoding == 'pca32-3':\n",
    "        Embedding = 'Amplitude-Hybrid4-3'\n",
    "    elif Encoding == 'autoencoder32-3':\n",
    "        Embedding = 'Amplitude-Hybrid4-3'\n",
    "\n",
    "    elif Encoding == 'pca32-4':\n",
    "        Embedding = 'Amplitude-Hybrid4-4'\n",
    "    elif Encoding == 'autoencoder32-4':\n",
    "        Embedding = 'Amplitude-Hybrid4-4'\n",
    "\n",
    "    # 2 qubit block\n",
    "    elif Encoding == 'pca16-1':\n",
    "        Embedding = 'Amplitude-Hybrid2-1'\n",
    "    elif Encoding == 'autoencoder16-1':\n",
    "        Embedding = 'Amplitude-Hybrid2-1'\n",
    "\n",
    "    elif Encoding == 'pca16-2':\n",
    "        Embedding = 'Amplitude-Hybrid2-2'\n",
    "    elif Encoding == 'autoencoder16-2':\n",
    "        Embedding = 'Amplitude-Hybrid2-2'\n",
    "\n",
    "    elif Encoding == 'pca16-3':\n",
    "        Embedding = 'Amplitude-Hybrid2-3'\n",
    "    elif Encoding == 'autoencoder16-3':\n",
    "        Embedding = 'Amplitude-Hybrid2-3'\n",
    "\n",
    "    elif Encoding == 'pca16-4':\n",
    "        Embedding = 'Amplitude-Hybrid2-4'\n",
    "    elif Encoding == 'autoencoder16-4':\n",
    "        Embedding = 'Amplitude-Hybrid2-4'\n",
    "\n",
    "    # Angular HybridEmbedding\n",
    "    # 4 qubit block\n",
    "    elif Encoding == 'pca30-1':\n",
    "        Embedding = 'Angular-Hybrid4-1'\n",
    "    elif Encoding == 'autoencoder30-1':\n",
    "        Embedding = 'Angular-Hybrid4-1'\n",
    "\n",
    "    elif Encoding == 'pca30-2':\n",
    "        Embedding = 'Angular-Hybrid4-2'\n",
    "    elif Encoding == 'autoencoder30-2':\n",
    "        Embedding = 'Angular-Hybrid4-2'\n",
    "\n",
    "    elif Encoding == 'pca30-3':\n",
    "        Embedding = 'Angular-Hybrid4-3'\n",
    "    elif Encoding == 'autoencoder30-3':\n",
    "        Embedding = 'Angular-Hybrid4-3'\n",
    "\n",
    "    elif Encoding == 'pca30-4':\n",
    "        Embedding = 'Angular-Hybrid4-4'\n",
    "    elif Encoding == 'autoencoder30-4':\n",
    "        Embedding = 'Angular-Hybrid4-4'\n",
    "\n",
    "    # 2 qubit block\n",
    "    elif Encoding == 'pca12-1':\n",
    "        Embedding = 'Angular-Hybrid2-1'\n",
    "    elif Encoding == 'autoencoder12-1':\n",
    "        Embedding = 'Angular-Hybrid2-1'\n",
    "\n",
    "    elif Encoding == 'pca12-2':\n",
    "        Embedding = 'Angular-Hybrid2-2'\n",
    "    elif Encoding == 'autoencoder12-2':\n",
    "        Embedding = 'Angular-Hybrid2-2'\n",
    "\n",
    "    elif Encoding == 'pca12-3':\n",
    "        Embedding = 'Angular-Hybrid2-3'\n",
    "    elif Encoding == 'autoencoder12-3':\n",
    "        Embedding = 'Angular-Hybrid2-3'\n",
    "\n",
    "    elif Encoding == 'pca12-4':\n",
    "        Embedding = 'Angular-Hybrid2-4'\n",
    "    elif Encoding == 'autoencoder12-4':\n",
    "        Embedding = 'Angular-Hybrid2-4'\n",
    "\n",
    "    # Two Gates Compact Encoding\n",
    "    elif Encoding == 'pca16-compact':\n",
    "        Embedding = 'Angle-compact'\n",
    "    elif Encoding == 'autoencoder16-compact':\n",
    "        Embedding = 'Angle-compact'\n",
    "    return Embedding"
   ]
  },
  {
   "cell_type": "code",
   "execution_count": 39,
   "id": "dc557480",
   "metadata": {
    "ExecuteTime": {
     "end_time": "2022-12-04T17:44:50.500272Z",
     "start_time": "2022-12-04T17:44:50.485647Z"
    }
   },
   "outputs": [
    {
     "data": {
      "text/plain": [
       "'Amplitude'"
      ]
     },
     "execution_count": 39,
     "metadata": {},
     "output_type": "execute_result"
    }
   ],
   "source": [
    "Embedding = Encoding_to_Embedding(Encodings_list[0])\n",
    "Embedding"
   ]
  },
  {
   "cell_type": "code",
   "execution_count": 40,
   "id": "b70c783f",
   "metadata": {
    "ExecuteTime": {
     "end_time": "2022-12-04T17:44:50.515841Z",
     "start_time": "2022-12-04T17:44:50.502254Z"
    }
   },
   "outputs": [],
   "source": [
    "# Run modules\n",
    "%run QCNN_modules2/Angular_hybrid.py\n",
    "%run QCNN_modules2/embedding.py\n",
    "%run QCNN_modules2/unitary.py\n",
    "\n",
    "# %run QCNN_modules2/QCNN_circuit.py"
   ]
  },
  {
   "cell_type": "code",
   "execution_count": 41,
   "id": "5c0d64ea",
   "metadata": {
    "ExecuteTime": {
     "end_time": "2022-12-04T17:44:50.668945Z",
     "start_time": "2022-12-04T17:44:50.517839Z"
    },
    "code_folding": []
   },
   "outputs": [],
   "source": [
    "# QCNN circuit build with data encoding, convolutional layers, pooling layers, and measurement\n",
    "def QCNN_circuit_node(inputs, params):\n",
    "\n",
    "    # Data Embedding\n",
    "    data_embedding(inputs, embedding_type=Embedding)\n",
    "\n",
    "    # Quantum Convolutional Neural Network\n",
    "    # Convolutional Layer #1\n",
    "    if U == \"U_TTN\":\n",
    "        # Layer 1 - Convolution\n",
    "        qml.RY(params[0], wires=7)\n",
    "        qml.RY(params[1], wires=0)\n",
    "        qml.CNOT(wires=[7, 0])\n",
    "        for i in range(0, 8, 2):\n",
    "            qml.RY(params[0], wires=i)\n",
    "            qml.RY(params[1], wires=i+1)\n",
    "            qml.CNOT(wires=[i, i+1])\n",
    "        for i in range(1, 7, 2):\n",
    "            qml.RY(params[0], wires=i)\n",
    "            qml.RY(params[1], wires=i+1)\n",
    "            qml.CNOT(wires=[i, i+1])\n",
    "\n",
    "        # Layer 1 - Pooling\n",
    "        for i in range(0, 8, 2):\n",
    "            qml.CRZ(params[6], wires=[i+1, i])\n",
    "            qml.PauliX(wires=i+1)\n",
    "            qml.CRX(params[7], wires=[i+1, i])\n",
    "\n",
    "        # Layer 2 - Convolution\n",
    "        qml.RY(params[2], wires=6)\n",
    "        qml.RY(params[3], wires=0)\n",
    "        qml.CNOT(wires=[6, 0])\n",
    "        qml.RY(params[2], wires=0)\n",
    "        qml.RY(params[3], wires=2)\n",
    "        qml.CNOT(wires=[0, 2])\n",
    "        qml.RY(params[2], wires=4)\n",
    "        qml.RY(params[3], wires=6)\n",
    "        qml.CNOT(wires=[4, 6])\n",
    "        qml.RY(params[2], wires=2)\n",
    "        qml.RY(params[3], wires=4)\n",
    "        qml.CNOT(wires=[2, 4])\n",
    "\n",
    "        # Layer 2 - Pooling\n",
    "        qml.CRZ(params[8], wires=[2, 0])\n",
    "        qml.PauliX(wires=2)\n",
    "        qml.CRX(params[9], wires=[2, 0])\n",
    "        qml.CRZ(params[8], wires=[6, 4])\n",
    "        qml.PauliX(wires=6)\n",
    "        qml.CRX(params[9], wires=[6, 4])\n",
    "\n",
    "        # Layer 3 - Convolution\n",
    "        qml.RY(params[4], wires=4)\n",
    "        qml.RY(params[5], wires=0)\n",
    "        qml.CNOT(wires=[4, 0])\n",
    "\n",
    "        # Layer 3 - Pooling\n",
    "        qml.CRZ(params[10], wires=[4, 0])\n",
    "        qml.PauliX(wires=4)\n",
    "        qml.CRX(params[11], wires=[4, 0])\n",
    "\n",
    "    # Convolutional Layer #2\n",
    "    elif U == \"U_9\":\n",
    "        # Layer 1 - Convolution\n",
    "        qml.Hadamard(wires=7)\n",
    "        qml.Hadamard(wires=0)\n",
    "        qml.CZ(wires=[7, 0])\n",
    "        qml.RX(params[0], wires=7)\n",
    "        qml.RX(params[1], wires=0)\n",
    "        for i in range(0, 8, 2):\n",
    "            qml.Hadamard(wires=i)\n",
    "            qml.Hadamard(wires=i+1)\n",
    "            qml.CZ(wires=[i, i+1])\n",
    "            qml.RX(params[0], wires=i)\n",
    "            qml.RX(params[1], wires=i+1)\n",
    "        for i in range(1, 7, 2):\n",
    "            qml.Hadamard(wires=i)\n",
    "            qml.Hadamard(wires=i+1)\n",
    "            qml.CZ(wires=[i, i+1])\n",
    "            qml.RX(params[0], wires=i)\n",
    "            qml.RX(params[1], wires=i+1)\n",
    "\n",
    "        # Layer 1 - Pooling\n",
    "        for i in range(0, 8, 2):\n",
    "            qml.CRZ(params[6], wires=[i+1, i])\n",
    "            qml.PauliX(wires=i+1)\n",
    "            qml.CRX(params[7], wires=[i+1, i])\n",
    "\n",
    "        # Layer 2 - Convolution\n",
    "        qml.Hadamard(wires=6)\n",
    "        qml.Hadamard(wires=0)\n",
    "        qml.CZ(wires=[6, 0])\n",
    "        qml.RX(params[2], wires=6)\n",
    "        qml.RX(params[3], wires=0)\n",
    "        qml.Hadamard(wires=0)\n",
    "        qml.Hadamard(wires=2)\n",
    "        qml.CZ(wires=[0, 2])\n",
    "        qml.RX(params[2], wires=0)\n",
    "        qml.RX(params[3], wires=2)\n",
    "        qml.Hadamard(wires=4)\n",
    "        qml.Hadamard(wires=6)\n",
    "        qml.CZ(wires=[4, 6])\n",
    "        qml.RX(params[2], wires=4)\n",
    "        qml.RX(params[3], wires=6)\n",
    "        qml.Hadamard(wires=2)\n",
    "        qml.Hadamard(wires=4)\n",
    "        qml.CZ(wires=[2, 4])\n",
    "        qml.RX(params[2], wires=2)\n",
    "        qml.RX(params[3], wires=4)\n",
    "\n",
    "        # Layer 2 - Pooling\n",
    "        qml.CRZ(params[8], wires=[2, 0])\n",
    "        qml.PauliX(wires=2)\n",
    "        qml.CRX(params[9], wires=[2, 0])\n",
    "        qml.CRZ(params[8], wires=[6, 4])\n",
    "        qml.PauliX(wires=6)\n",
    "        qml.CRX(params[9], wires=[6, 4])\n",
    "\n",
    "        # Layer 3 - Convolution\n",
    "        qml.Hadamard(wires=4)\n",
    "        qml.Hadamard(wires=0)\n",
    "        qml.CZ(wires=[4, 0])\n",
    "        qml.RX(params[4], wires=4)\n",
    "        qml.RX(params[5], wires=0)\n",
    "\n",
    "        # Layer 3 - Pooling\n",
    "        qml.CRZ(params[10], wires=[4, 0])\n",
    "        qml.PauliX(wires=4)\n",
    "        qml.CRX(params[11], wires=[4, 0])\n",
    "\n",
    "    # Convolutional Layer #3\n",
    "    elif U == \"U_15\":\n",
    "        # Layer 1 - Convolution\n",
    "        qml.RY(params[0], wires=7)\n",
    "        qml.RY(params[1], wires=0)\n",
    "        qml.CNOT(wires=[0, 7])\n",
    "        qml.RY(params[2], wires=7)\n",
    "        qml.RY(params[3], wires=0)\n",
    "        qml.CNOT(wires=[7, 0])\n",
    "        for i in range(0, 8, 2):\n",
    "            qml.RY(params[0], wires=i)\n",
    "            qml.RY(params[1], wires=i+1)\n",
    "            qml.CNOT(wires=[i+1, i])\n",
    "            qml.RY(params[2], wires=i)\n",
    "            qml.RY(params[3], wires=i+1)\n",
    "            qml.CNOT(wires=[i, i+1])\n",
    "        for i in range(1, 7, 2):\n",
    "            qml.RY(params[0], wires=i)\n",
    "            qml.RY(params[1], wires=i+1)\n",
    "            qml.CNOT(wires=[i+1, i])\n",
    "            qml.RY(params[2], wires=i)\n",
    "            qml.RY(params[3], wires=i+1)\n",
    "            qml.CNOT(wires=[i, i+1])\n",
    "\n",
    "        # Layer 1 - Pooling\n",
    "        for i in range(0, 8, 2):\n",
    "            qml.CRZ(params[12], wires=[i+1, i])\n",
    "            qml.PauliX(wires=i+1)\n",
    "            qml.CRX(params[13], wires=[i+1, i])\n",
    "\n",
    "        # Layer 2 - Convolution\n",
    "        qml.RY(params[4], wires=6)\n",
    "        qml.RY(params[5], wires=0)\n",
    "        qml.CNOT(wires=[6, 0])\n",
    "        qml.RY(params[6], wires=6)\n",
    "        qml.RY(params[7], wires=0)\n",
    "        qml.CNOT(wires=[6, 0])\n",
    "        qml.RY(params[4], wires=0)\n",
    "        qml.RY(params[5], wires=2)\n",
    "        qml.CNOT(wires=[0, 2])\n",
    "        qml.RY(params[6], wires=0)\n",
    "        qml.RY(params[7], wires=2)\n",
    "        qml.CNOT(wires=[0, 2])\n",
    "        qml.RY(params[4], wires=4)\n",
    "        qml.RY(params[5], wires=6)\n",
    "        qml.CNOT(wires=[4, 6])\n",
    "        qml.RY(params[6], wires=4)\n",
    "        qml.RY(params[7], wires=6)\n",
    "        qml.CNOT(wires=[4, 6])\n",
    "        qml.RY(params[4], wires=2)\n",
    "        qml.RY(params[5], wires=4)\n",
    "        qml.CNOT(wires=[2, 4])\n",
    "        qml.RY(params[6], wires=2)\n",
    "        qml.RY(params[7], wires=4)\n",
    "        qml.CNOT(wires=[2, 4])\n",
    "\n",
    "        # Layer 2 - Pooling\n",
    "        qml.CRZ(params[14], wires=[2, 0])\n",
    "        qml.PauliX(wires=2)\n",
    "        qml.CRX(params[15], wires=[2, 0])\n",
    "        qml.CRZ(params[14], wires=[6, 4])\n",
    "        qml.PauliX(wires=6)\n",
    "        qml.CRX(params[15], wires=[6, 4])\n",
    "\n",
    "        # Layer 3 - Convolution\n",
    "        qml.RY(params[8], wires=4)\n",
    "        qml.RY(params[9], wires=0)\n",
    "        qml.CNOT(wires=[4, 0])\n",
    "        qml.RY(params[10], wires=4)\n",
    "        qml.RY(params[11], wires=0)\n",
    "        qml.CNOT(wires=[4, 0])\n",
    "\n",
    "        # Layer 3 - Pooling\n",
    "        qml.CRZ(params[16], wires=[4, 0])\n",
    "        qml.PauliX(wires=4)\n",
    "        qml.CRX(params[17], wires=[4, 0])\n",
    "\n",
    "    # Convolutional Layer #4\n",
    "    elif U == \"U_13\":\n",
    "        # Layer 1 - Convolution\n",
    "        qml.RY(params[0], wires=7)\n",
    "        qml.RY(params[1], wires=0)\n",
    "        qml.CRZ(params[2], wires=[0, 7])\n",
    "        qml.RY(params[3], wires=7)\n",
    "        qml.RY(params[4], wires=0)\n",
    "        qml.CRZ(params[5], wires=[7, 0])\n",
    "        for i in range(0, 8, 2):\n",
    "            qml.RY(params[0], wires=i)\n",
    "            qml.RY(params[1], wires=i+1)\n",
    "            qml.CRZ(params[2], wires=[i+1, i])\n",
    "            qml.RY(params[3], wires=i)\n",
    "            qml.RY(params[4], wires=i+1)\n",
    "            qml.CRZ(params[5], wires=[i, i+1])\n",
    "        for i in range(1, 7, 2):\n",
    "            qml.RY(params[0], wires=i)\n",
    "            qml.RY(params[1], wires=i+1)\n",
    "            qml.CRZ(params[2], wires=[i+1, i])\n",
    "            qml.RY(params[3], wires=i)\n",
    "            qml.RY(params[4], wires=i+1)\n",
    "            qml.CRZ(params[5], wires=[i, i+1])\n",
    "\n",
    "        # Layer 1 - Pooling\n",
    "        for i in range(0, 8, 2):\n",
    "            qml.CRZ(params[18], wires=[i+1, i])\n",
    "            qml.PauliX(wires=i+1)\n",
    "            qml.CRX(params[19], wires=[i+1, i])\n",
    "\n",
    "        # Layer 2 - Convolution\n",
    "        qml.RY(params[6], wires=6)\n",
    "        qml.RY(params[7], wires=0)\n",
    "        qml.CRZ(params[8], wires=[6, 0])\n",
    "        qml.RY(params[9], wires=6)\n",
    "        qml.RY(params[10], wires=0)\n",
    "        qml.CRZ(params[11], wires=[6, 0])\n",
    "        qml.RY(params[6], wires=0)\n",
    "        qml.RY(params[7], wires=2)\n",
    "        qml.CRZ(params[8], wires=[0, 2])\n",
    "        qml.RY(params[9], wires=0)\n",
    "        qml.RY(params[10], wires=2)\n",
    "        qml.CRZ(params[11], wires=[0, 2])\n",
    "        qml.RY(params[6], wires=4)\n",
    "        qml.RY(params[7], wires=6)\n",
    "        qml.CRZ(params[8], wires=[4, 6])\n",
    "        qml.RY(params[9], wires=4)\n",
    "        qml.RY(params[10], wires=6)\n",
    "        qml.CRZ(params[11], wires=[4, 6])\n",
    "        qml.RY(params[6], wires=2)\n",
    "        qml.RY(params[7], wires=4)\n",
    "        qml.CRZ(params[8], wires=[2, 4])\n",
    "        qml.RY(params[9], wires=2)\n",
    "        qml.RY(params[10], wires=4)\n",
    "        qml.CRZ(params[11], wires=[2, 4])\n",
    "\n",
    "        # Layer 2 - Pooling\n",
    "        qml.CRZ(params[20], wires=[2, 0])\n",
    "        qml.PauliX(wires=2)\n",
    "        qml.CRX(params[21], wires=[2, 0])\n",
    "        qml.CRZ(params[20], wires=[6, 4])\n",
    "        qml.PauliX(wires=6)\n",
    "        qml.CRX(params[21], wires=[6, 4])\n",
    "\n",
    "        # Layer 3 - Convolution\n",
    "        qml.RY(params[12], wires=4)\n",
    "        qml.RY(params[13], wires=0)\n",
    "        qml.CRZ(params[14], wires=[4, 0])\n",
    "        qml.RY(params[15], wires=4)\n",
    "        qml.RY(params[16], wires=0)\n",
    "        qml.CRZ(params[17], wires=[4, 0])\n",
    "\n",
    "        # Layer 3 - Pooling\n",
    "        qml.CRZ(params[22], wires=[4, 0])\n",
    "        qml.PauliX(wires=4)\n",
    "        qml.CRX(params[23], wires=[4, 0])\n",
    "\n",
    "    # Convolutional Layer #5\n",
    "    elif U == \"U_14\":\n",
    "        # Layer 1 - Convolution\n",
    "        qml.RY(params[0], wires=7)\n",
    "        qml.RY(params[1], wires=0)\n",
    "        qml.CRX(params[2], wires=[0, 7])\n",
    "        qml.RY(params[3], wires=7)\n",
    "        qml.RY(params[4], wires=0)\n",
    "        qml.CRX(params[5], wires=[7, 0])\n",
    "        for i in range(0, 8, 2):\n",
    "            qml.RY(params[0], wires=i)\n",
    "            qml.RY(params[1], wires=i+1)\n",
    "            qml.CRX(params[2], wires=[i+1, i])\n",
    "            qml.RY(params[3], wires=i)\n",
    "            qml.RY(params[4], wires=i+1)\n",
    "            qml.CRX(params[5], wires=[i, i+1])\n",
    "        for i in range(1, 7, 2):\n",
    "            qml.RY(params[0], wires=i)\n",
    "            qml.RY(params[1], wires=i+1)\n",
    "            qml.CRX(params[2], wires=[i+1, i])\n",
    "            qml.RY(params[3], wires=i)\n",
    "            qml.RY(params[4], wires=i+1)\n",
    "            qml.CRX(params[5], wires=[i, i+1])\n",
    "\n",
    "        # Layer 1 - Pooling\n",
    "        for i in range(0, 8, 2):\n",
    "            qml.CRZ(params[18], wires=[i+1, i])\n",
    "            qml.PauliX(wires=i+1)\n",
    "            qml.CRX(params[19], wires=[i+1, i])\n",
    "\n",
    "        # Layer 2 - Convolution\n",
    "        qml.RY(params[6], wires=6)\n",
    "        qml.RY(params[7], wires=0)\n",
    "        qml.CRX(params[8], wires=[0, 6])\n",
    "        qml.RY(params[9], wires=6)\n",
    "        qml.RY(params[10], wires=0)\n",
    "        qml.CRX(params[11], wires=[6, 0])\n",
    "        qml.RY(params[6], wires=0)\n",
    "        qml.RY(params[7], wires=2)\n",
    "        qml.CRX(params[8], wires=[2, 0])\n",
    "        qml.RY(params[9], wires=0)\n",
    "        qml.RY(params[10], wires=2)\n",
    "        qml.CRX(params[11], wires=[0, 2])\n",
    "        qml.RY(params[6], wires=4)\n",
    "        qml.RY(params[7], wires=6)\n",
    "        qml.CRX(params[8], wires=[6, 4])\n",
    "        qml.RY(params[9], wires=4)\n",
    "        qml.RY(params[10], wires=6)\n",
    "        qml.CRX(params[11], wires=[4, 6])\n",
    "        qml.RY(params[6], wires=2)\n",
    "        qml.RY(params[7], wires=4)\n",
    "        qml.CRX(params[8], wires=[4, 2])\n",
    "        qml.RY(params[9], wires=2)\n",
    "        qml.RY(params[10], wires=4)\n",
    "        qml.CRX(params[11], wires=[2, 4])\n",
    "\n",
    "        # Layer 2 - Pooling\n",
    "        qml.CRZ(params[20], wires=[2, 0])\n",
    "        qml.PauliX(wires=2)\n",
    "        qml.CRX(params[21], wires=[2, 0])\n",
    "        qml.CRZ(params[20], wires=[6, 4])\n",
    "        qml.PauliX(wires=6)\n",
    "        qml.CRX(params[21], wires=[6, 4])\n",
    "\n",
    "        # Layer 3 - Convolution\n",
    "        qml.RY(params[12], wires=4)\n",
    "        qml.RY(params[13], wires=0)\n",
    "        qml.CRX(params[14], wires=[0, 4])\n",
    "        qml.RY(params[15], wires=4)\n",
    "        qml.RY(params[16], wires=0)\n",
    "        qml.CRX(params[17], wires=[4, 0])\n",
    "\n",
    "        # Layer 3 - Pooling\n",
    "        qml.CRZ(params[22], wires=[4, 0])\n",
    "        qml.PauliX(wires=4)\n",
    "        qml.CRX(params[23], wires=[4, 0])\n",
    "\n",
    "    # Convolutional Layer #6\n",
    "    elif U == \"U_SO4\":\n",
    "        # Layer 1 - Convolution\n",
    "        qml.RY(params[0], wires=7)\n",
    "        qml.RY(params[1], wires=0)\n",
    "        qml.CNOT(wires=[7, 0])\n",
    "        qml.RY(params[2], wires=7)\n",
    "        qml.RY(params[3], wires=0)\n",
    "        qml.CNOT(wires=[7, 0])\n",
    "        qml.RY(params[4], wires=7)\n",
    "        qml.RY(params[5], wires=0)\n",
    "        for i in range(0, 8, 2):\n",
    "            qml.RY(params[0], wires=i)\n",
    "            qml.RY(params[1], wires=i+1)\n",
    "            qml.CNOT(wires=[i, i+1])\n",
    "            qml.RY(params[2], wires=i)\n",
    "            qml.RY(params[3], wires=i+1)\n",
    "            qml.CNOT(wires=[i, i+1])\n",
    "            qml.RY(params[4], wires=i)\n",
    "            qml.RY(params[5], wires=i+1)\n",
    "        for i in range(1, 7, 2):\n",
    "            qml.RY(params[0], wires=i)\n",
    "            qml.RY(params[1], wires=i+1)\n",
    "            qml.CNOT(wires=[i, i+1])\n",
    "            qml.RY(params[2], wires=i)\n",
    "            qml.RY(params[3], wires=i+1)\n",
    "            qml.CNOT(wires=[i, i+1])\n",
    "            qml.RY(params[4], wires=i)\n",
    "            qml.RY(params[5], wires=i+1)\n",
    "\n",
    "        # Layer 1 - Pooling\n",
    "        for i in range(0, 8, 2):\n",
    "            qml.CRZ(params[18], wires=[i+1, i])\n",
    "            qml.PauliX(wires=i+1)\n",
    "            qml.CRX(params[19], wires=[i+1, i])\n",
    "\n",
    "        # Layer 2 - Convolution\n",
    "        qml.RY(params[6], wires=6)\n",
    "        qml.RY(params[7], wires=0)\n",
    "        qml.CNOT(wires=[6, 0])\n",
    "        qml.RY(params[8], wires=6)\n",
    "        qml.RY(params[9], wires=0)\n",
    "        qml.CNOT(wires=[6, 0])\n",
    "        qml.RY(params[10], wires=6)\n",
    "        qml.RY(params[11], wires=0)\n",
    "        qml.RY(params[6], wires=0)\n",
    "        qml.RY(params[7], wires=2)\n",
    "        qml.CNOT(wires=[0, 2])\n",
    "        qml.RY(params[8], wires=0)\n",
    "        qml.RY(params[9], wires=2)\n",
    "        qml.CNOT(wires=[0, 2])\n",
    "        qml.RY(params[10], wires=0)\n",
    "        qml.RY(params[11], wires=2)\n",
    "        qml.RY(params[6], wires=4)\n",
    "        qml.RY(params[7], wires=6)\n",
    "        qml.CNOT(wires=[4, 6])\n",
    "        qml.RY(params[8], wires=4)\n",
    "        qml.RY(params[9], wires=6)\n",
    "        qml.CNOT(wires=[4, 6])\n",
    "        qml.RY(params[10], wires=4)\n",
    "        qml.RY(params[11], wires=6)\n",
    "        qml.RY(params[6], wires=2)\n",
    "        qml.RY(params[7], wires=4)\n",
    "        qml.CNOT(wires=[2, 4])\n",
    "        qml.RY(params[8], wires=2)\n",
    "        qml.RY(params[9], wires=4)\n",
    "        qml.CNOT(wires=[2, 4])\n",
    "        qml.RY(params[10], wires=2)\n",
    "        qml.RY(params[11], wires=4)\n",
    "\n",
    "        # Layer 2 - Pooling\n",
    "        qml.CRZ(params[20], wires=[2, 0])\n",
    "        qml.PauliX(wires=2)\n",
    "        qml.CRX(params[21], wires=[2, 0])\n",
    "        qml.CRZ(params[20], wires=[6, 4])\n",
    "        qml.PauliX(wires=6)\n",
    "        qml.CRX(params[21], wires=[6, 4])\n",
    "\n",
    "        # Layer 3 - Convolution\n",
    "        qml.RY(params[12], wires=4)\n",
    "        qml.RY(params[13], wires=0)\n",
    "        qml.CNOT(wires=[4, 0])\n",
    "        qml.RY(params[14], wires=4)\n",
    "        qml.RY(params[15], wires=0)\n",
    "        qml.CNOT(wires=[4, 0])\n",
    "        qml.RY(params[16], wires=4)\n",
    "        qml.RY(params[17], wires=0)\n",
    "\n",
    "        # Layer 3 - Pooling\n",
    "        qml.CRZ(params[22], wires=[4, 0])\n",
    "        qml.PauliX(wires=4)\n",
    "        qml.CRX(params[23], wires=[4, 0])\n",
    "\n",
    "    # Convolutional Layer #7\n",
    "    elif U == \"U_5\":\n",
    "        # Layer 1 - Convolution\n",
    "        qml.RX(params[0], wires=7)\n",
    "        qml.RX(params[1], wires=0)\n",
    "        qml.RZ(params[2], wires=7)\n",
    "        qml.RZ(params[3], wires=0)\n",
    "        qml.CRZ(params[4], wires=[0, 7])\n",
    "        qml.CRZ(params[5], wires=[7, 0])\n",
    "        qml.RX(params[6], wires=7)\n",
    "        qml.RX(params[7], wires=0)\n",
    "        qml.RZ(params[8], wires=7)\n",
    "        qml.RZ(params[9], wires=0)\n",
    "        for i in range(0, 8, 2):\n",
    "            qml.RX(params[0], wires=i)\n",
    "            qml.RX(params[1], wires=i+1)\n",
    "            qml.RZ(params[2], wires=i)\n",
    "            qml.RZ(params[3], wires=i+1)\n",
    "            qml.CRZ(params[4], wires=[i+1, i])\n",
    "            qml.CRZ(params[5], wires=[i, i+1])\n",
    "            qml.RX(params[6], wires=i)\n",
    "            qml.RX(params[7], wires=i+1)\n",
    "            qml.RZ(params[8], wires=i)\n",
    "            qml.RZ(params[9], wires=i+1)\n",
    "        for i in range(1, 7, 2):\n",
    "            qml.RX(params[0], wires=i)\n",
    "            qml.RX(params[1], wires=i+1)\n",
    "            qml.RZ(params[2], wires=i)\n",
    "            qml.RZ(params[3], wires=i+1)\n",
    "            qml.CRZ(params[4], wires=[i+1, i])\n",
    "            qml.CRZ(params[5], wires=[i, i+1])\n",
    "            qml.RX(params[6], wires=i)\n",
    "            qml.RX(params[7], wires=i+1)\n",
    "            qml.RZ(params[8], wires=i)\n",
    "            qml.RZ(params[9], wires=i+1)\n",
    "\n",
    "        # Layer 1 - Pooling\n",
    "        for i in range(0, 8, 2):\n",
    "            qml.CRZ(params[30], wires=[i+1, i])\n",
    "            qml.PauliX(wires=i+1)\n",
    "            qml.CRX(params[31], wires=[i+1, i])\n",
    "\n",
    "        # Layer 2 - Convolution\n",
    "        qml.RX(params[10], wires=6)\n",
    "        qml.RX(params[11], wires=0)\n",
    "        qml.RZ(params[12], wires=6)\n",
    "        qml.RZ(params[13], wires=0)\n",
    "        qml.CRZ(params[14], wires=[0, 6])\n",
    "        qml.CRZ(params[15], wires=[6, 0])\n",
    "        qml.RX(params[16], wires=6)\n",
    "        qml.RX(params[17], wires=0)\n",
    "        qml.RZ(params[18], wires=6)\n",
    "        qml.RZ(params[19], wires=0)\n",
    "        qml.RX(params[10], wires=0)\n",
    "        qml.RX(params[11], wires=2)\n",
    "        qml.RZ(params[12], wires=0)\n",
    "        qml.RZ(params[13], wires=2)\n",
    "        qml.CRZ(params[14], wires=[2, 0])\n",
    "        qml.CRZ(params[15], wires=[0, 2])\n",
    "        qml.RX(params[16], wires=0)\n",
    "        qml.RX(params[17], wires=2)\n",
    "        qml.RZ(params[18], wires=0)\n",
    "        qml.RZ(params[19], wires=2)\n",
    "        qml.RX(params[10], wires=4)\n",
    "        qml.RX(params[11], wires=6)\n",
    "        qml.RZ(params[12], wires=4)\n",
    "        qml.RZ(params[13], wires=6)\n",
    "        qml.CRZ(params[14], wires=[6, 4])\n",
    "        qml.CRZ(params[15], wires=[4, 6])\n",
    "        qml.RX(params[16], wires=4)\n",
    "        qml.RX(params[17], wires=6)\n",
    "        qml.RZ(params[18], wires=4)\n",
    "        qml.RZ(params[19], wires=6)\n",
    "        qml.RX(params[10], wires=2)\n",
    "        qml.RX(params[11], wires=4)\n",
    "        qml.RZ(params[12], wires=2)\n",
    "        qml.RZ(params[13], wires=4)\n",
    "        qml.CRZ(params[14], wires=[4, 2])\n",
    "        qml.CRZ(params[15], wires=[2, 4])\n",
    "        qml.RX(params[16], wires=2)\n",
    "        qml.RX(params[17], wires=4)\n",
    "        qml.RZ(params[18], wires=2)\n",
    "        qml.RZ(params[19], wires=4)\n",
    "\n",
    "        # Layer 2 - Pooling\n",
    "        qml.CRZ(params[32], wires=[2, 0])\n",
    "        qml.PauliX(wires=2)\n",
    "        qml.CRX(params[33], wires=[2, 0])\n",
    "        qml.CRZ(params[32], wires=[6, 4])\n",
    "        qml.PauliX(wires=6)\n",
    "        qml.CRX(params[33], wires=[6, 4])\n",
    "\n",
    "        # Layer 3 - Convolution\n",
    "        qml.RX(params[20], wires=4)\n",
    "        qml.RX(params[21], wires=0)\n",
    "        qml.RZ(params[22], wires=4)\n",
    "        qml.RZ(params[23], wires=0)\n",
    "        qml.CRZ(params[24], wires=[0, 4])\n",
    "        qml.CRZ(params[25], wires=[4, 0])\n",
    "        qml.RX(params[26], wires=4)\n",
    "        qml.RX(params[27], wires=0)\n",
    "        qml.RZ(params[28], wires=4)\n",
    "        qml.RZ(params[29], wires=0)\n",
    "\n",
    "        # Layer 3 - Pooling\n",
    "        qml.CRZ(params[34], wires=[4, 0])\n",
    "        qml.PauliX(wires=4)\n",
    "        qml.CRX(params[35], wires=[4, 0])\n",
    "\n",
    "    # Convolutional Layer #8\n",
    "    elif U == \"U_6\":\n",
    "        # Layer 1 - Convolution\n",
    "        qml.RX(params[0], wires=7)\n",
    "        qml.RX(params[1], wires=0)\n",
    "        qml.RZ(params[2], wires=7)\n",
    "        qml.RZ(params[3], wires=0)\n",
    "        qml.CRX(params[4], wires=[0, 7])\n",
    "        qml.CRX(params[5], wires=[7, 0])\n",
    "        qml.RX(params[6], wires=7)\n",
    "        qml.RX(params[7], wires=0)\n",
    "        qml.RZ(params[8], wires=7)\n",
    "        qml.RZ(params[9], wires=0)\n",
    "        for i in range(0, 8, 2):\n",
    "            qml.RX(params[0], wires=i)\n",
    "            qml.RX(params[1], wires=i+1)\n",
    "            qml.RZ(params[2], wires=i)\n",
    "            qml.RZ(params[3], wires=i+1)\n",
    "            qml.CRX(params[4], wires=[i+1, i])\n",
    "            qml.CRX(params[5], wires=[i, i+1])\n",
    "            qml.RX(params[6], wires=i)\n",
    "            qml.RX(params[7], wires=i+1)\n",
    "            qml.RZ(params[8], wires=i)\n",
    "            qml.RZ(params[9], wires=i+1)\n",
    "        for i in range(1, 7, 2):\n",
    "            qml.RX(params[0], wires=i)\n",
    "            qml.RX(params[1], wires=i+1)\n",
    "            qml.RZ(params[2], wires=i)\n",
    "            qml.RZ(params[3], wires=i+1)\n",
    "            qml.CRX(params[4], wires=[i+1, i])\n",
    "            qml.CRX(params[5], wires=[i, i+1])\n",
    "            qml.RX(params[6], wires=i)\n",
    "            qml.RX(params[7], wires=i+1)\n",
    "            qml.RZ(params[8], wires=i)\n",
    "            qml.RZ(params[9], wires=i+1)\n",
    "\n",
    "        # Layer 1 - Pooling\n",
    "        for i in range(0, 8, 2):\n",
    "            qml.CRZ(params[30], wires=[i+1, i])\n",
    "            qml.PauliX(wires=i+1)\n",
    "            qml.CRX(params[31], wires=[i+1, i])\n",
    "\n",
    "        # Layer 2 - Convolution\n",
    "        qml.RX(params[10], wires=6)\n",
    "        qml.RX(params[11], wires=0)\n",
    "        qml.RZ(params[12], wires=6)\n",
    "        qml.RZ(params[13], wires=0)\n",
    "        qml.CRX(params[14], wires=[0, 6])\n",
    "        qml.CRX(params[15], wires=[6, 0])\n",
    "        qml.RX(params[16], wires=6)\n",
    "        qml.RX(params[17], wires=0)\n",
    "        qml.RZ(params[18], wires=6)\n",
    "        qml.RZ(params[19], wires=0)\n",
    "        qml.RX(params[10], wires=0)\n",
    "        qml.RX(params[11], wires=2)\n",
    "        qml.RZ(params[12], wires=0)\n",
    "        qml.RZ(params[13], wires=2)\n",
    "        qml.CRX(params[14], wires=[2, 0])\n",
    "        qml.CRX(params[15], wires=[0, 2])\n",
    "        qml.RX(params[16], wires=0)\n",
    "        qml.RX(params[17], wires=2)\n",
    "        qml.RZ(params[18], wires=0)\n",
    "        qml.RZ(params[19], wires=2)\n",
    "        qml.RX(params[10], wires=4)\n",
    "        qml.RX(params[11], wires=6)\n",
    "        qml.RZ(params[12], wires=4)\n",
    "        qml.RZ(params[13], wires=6)\n",
    "        qml.CRX(params[14], wires=[6, 4])\n",
    "        qml.CRX(params[15], wires=[4, 6])\n",
    "        qml.RX(params[16], wires=4)\n",
    "        qml.RX(params[17], wires=6)\n",
    "        qml.RZ(params[18], wires=4)\n",
    "        qml.RZ(params[19], wires=6)\n",
    "        qml.RX(params[10], wires=2)\n",
    "        qml.RX(params[11], wires=4)\n",
    "        qml.RZ(params[12], wires=2)\n",
    "        qml.RZ(params[13], wires=4)\n",
    "        qml.CRX(params[14], wires=[4, 2])\n",
    "        qml.CRX(params[15], wires=[2, 4])\n",
    "        qml.RX(params[16], wires=2)\n",
    "        qml.RX(params[17], wires=4)\n",
    "        qml.RZ(params[18], wires=2)\n",
    "        qml.RZ(params[19], wires=4)\n",
    "\n",
    "        # Layer 2 - Pooling\n",
    "        qml.CRZ(params[32], wires=[2, 0])\n",
    "        qml.PauliX(wires=2)\n",
    "        qml.CRX(params[33], wires=[2, 0])\n",
    "        qml.CRZ(params[32], wires=[6, 4])\n",
    "        qml.PauliX(wires=6)\n",
    "        qml.CRX(params[33], wires=[6, 4])\n",
    "\n",
    "        # Layer 3 - Convolution\n",
    "        qml.RX(params[20], wires=4)\n",
    "        qml.RX(params[21], wires=0)\n",
    "        qml.RZ(params[22], wires=4)\n",
    "        qml.RZ(params[23], wires=0)\n",
    "        qml.CRX(params[24], wires=[0, 4])\n",
    "        qml.CRX(params[25], wires=[4, 0])\n",
    "        qml.RX(params[26], wires=4)\n",
    "        qml.RX(params[27], wires=0)\n",
    "        qml.RZ(params[28], wires=4)\n",
    "        qml.RZ(params[29], wires=0)\n",
    "\n",
    "        # Layer 3 - Pooling\n",
    "        qml.CRZ(params[34], wires=[4, 0])\n",
    "        qml.PauliX(wires=4)\n",
    "        qml.CRX(params[35], wires=[4, 0])\n",
    "\n",
    "    # Convolutional Layer #9a\n",
    "    elif U == \"U_SU4\":\n",
    "        # Layer 1 - Convolution\n",
    "        qml.U3(params[0], params[1], params[2], wires=7)\n",
    "        qml.U3(params[3], params[4], params[5], wires=0)\n",
    "        qml.CNOT(wires=[7, 0])\n",
    "        qml.RY(params[6], wires=7)\n",
    "        qml.RZ(params[7], wires=0)\n",
    "        qml.CNOT(wires=[0, 7])\n",
    "        qml.RY(params[8], wires=7)\n",
    "        qml.CNOT(wires=[7, 0])\n",
    "        qml.U3(params[9], params[10], params[11], wires=7)\n",
    "        qml.U3(params[12], params[13], params[14], wires=0)\n",
    "        for i in range(0, 8, 2):\n",
    "            qml.U3(params[0], params[1], params[2], wires=i)\n",
    "            qml.U3(params[3], params[4], params[5], wires=i+1)\n",
    "            qml.CNOT(wires=[i, i+1])\n",
    "            qml.RY(params[6], wires=i)\n",
    "            qml.RZ(params[7], wires=i+1)\n",
    "            qml.CNOT(wires=[i+1, i])\n",
    "            qml.RY(params[8], wires=i)\n",
    "            qml.CNOT(wires=[i, i+1])\n",
    "            qml.U3(params[9], params[10], params[11], wires=i)\n",
    "            qml.U3(params[12], params[13], params[14], wires=i+1)\n",
    "        for i in range(1, 7, 2):\n",
    "            qml.U3(params[0], params[1], params[2], wires=i)\n",
    "            qml.U3(params[3], params[4], params[5], wires=i+1)\n",
    "            qml.CNOT(wires=[i, i+1])\n",
    "            qml.RY(params[6], wires=i)\n",
    "            qml.RZ(params[7], wires=i+1)\n",
    "            qml.CNOT(wires=[i+1, i])\n",
    "            qml.RY(params[8], wires=i)\n",
    "            qml.CNOT(wires=[i, i+1])\n",
    "            qml.U3(params[9], params[10], params[11], wires=i)\n",
    "            qml.U3(params[12], params[13], params[14], wires=i+1)\n",
    "\n",
    "        # Layer 1 - Pooling\n",
    "        for i in range(0, 8, 2):\n",
    "            qml.CRZ(params[45], wires=[i+1, i])\n",
    "            qml.PauliX(wires=i+1)\n",
    "            qml.CRX(params[46], wires=[i+1, i])\n",
    "\n",
    "        # Layer 2 - Convolution\n",
    "        qml.U3(params[15], params[16], params[17], wires=6)\n",
    "        qml.U3(params[18], params[19], params[20], wires=0)\n",
    "        qml.CNOT(wires=[6, 0])\n",
    "        qml.RY(params[21], wires=6)\n",
    "        qml.RZ(params[22], wires=0)\n",
    "        qml.CNOT(wires=[0, 6])\n",
    "        qml.RY(params[23], wires=6)\n",
    "        qml.CNOT(wires=[6, 0])\n",
    "        qml.U3(params[24], params[25], params[26], wires=6)\n",
    "        qml.U3(params[27], params[28], params[29], wires=0)\n",
    "        qml.U3(params[15], params[16], params[17], wires=0)\n",
    "        qml.U3(params[18], params[19], params[20], wires=2)\n",
    "        qml.CNOT(wires=[0, 2])\n",
    "        qml.RY(params[21], wires=0)\n",
    "        qml.RZ(params[22], wires=2)\n",
    "        qml.CNOT(wires=[2, 0])\n",
    "        qml.RY(params[23], wires=0)\n",
    "        qml.CNOT(wires=[0, 2])\n",
    "        qml.U3(params[24], params[25], params[26], wires=0)\n",
    "        qml.U3(params[27], params[28], params[29], wires=2)\n",
    "        qml.U3(params[15], params[16], params[17], wires=4)\n",
    "        qml.U3(params[18], params[19], params[20], wires=6)\n",
    "        qml.CNOT(wires=[4, 6])\n",
    "        qml.RY(params[21], wires=4)\n",
    "        qml.RZ(params[22], wires=6)\n",
    "        qml.CNOT(wires=[6, 4])\n",
    "        qml.RY(params[23], wires=4)\n",
    "        qml.CNOT(wires=[4, 6])\n",
    "        qml.U3(params[24], params[25], params[26], wires=4)\n",
    "        qml.U3(params[27], params[28], params[29], wires=6)\n",
    "        qml.U3(params[15], params[16], params[17], wires=2)\n",
    "        qml.U3(params[18], params[19], params[20], wires=4)\n",
    "        qml.CNOT(wires=[2, 4])\n",
    "        qml.RY(params[21], wires=2)\n",
    "        qml.RZ(params[22], wires=4)\n",
    "        qml.CNOT(wires=[4, 2])\n",
    "        qml.RY(params[23], wires=2)\n",
    "        qml.CNOT(wires=[2, 4])\n",
    "        qml.U3(params[24], params[25], params[26], wires=2)\n",
    "        qml.U3(params[27], params[28], params[29], wires=4)\n",
    "\n",
    "        # Layer 2 - Pooling\n",
    "        qml.CRZ(params[47], wires=[2, 0])\n",
    "        qml.PauliX(wires=2)\n",
    "        qml.CRX(params[48], wires=[2, 0])\n",
    "        qml.CRZ(params[47], wires=[6, 4])\n",
    "        qml.PauliX(wires=6)\n",
    "        qml.CRX(params[48], wires=[6, 4])\n",
    "\n",
    "        # Layer 3 - Convolution\n",
    "        qml.U3(params[30], params[31], params[32], wires=4)\n",
    "        qml.U3(params[33], params[34], params[35], wires=0)\n",
    "        qml.CNOT(wires=[4, 0])\n",
    "        qml.RY(params[36], wires=4)\n",
    "        qml.RZ(params[37], wires=0)\n",
    "        qml.CNOT(wires=[0, 4])\n",
    "        qml.RY(params[38], wires=4)\n",
    "        qml.CNOT(wires=[4, 0])\n",
    "        qml.U3(params[39], params[40], params[41], wires=4)\n",
    "        qml.U3(params[42], params[43], params[44], wires=0)\n",
    "\n",
    "        # Layer 3 - Pooling\n",
    "        qml.CRZ(params[49], wires=[4, 0])\n",
    "        qml.PauliX(wires=4)\n",
    "        qml.CRX(params[50], wires=[4, 0])\n",
    "\n",
    "    # Convolutional Layer #9b\n",
    "    elif U == \"U_SU4_no_pooling\":\n",
    "        # Layer 1 - Convolution\n",
    "        qml.U3(params[0], params[1], params[2], wires=7)\n",
    "        qml.U3(params[3], params[4], params[5], wires=0)\n",
    "        qml.CNOT(wires=[7, 0])\n",
    "        qml.RY(params[6], wires=7)\n",
    "        qml.RZ(params[7], wires=0)\n",
    "        qml.CNOT(wires=[0, 7])\n",
    "        qml.RY(params[8], wires=7)\n",
    "        qml.CNOT(wires=[7, 0])\n",
    "        qml.U3(params[9], params[10], params[11], wires=7)\n",
    "        qml.U3(params[12], params[13], params[14], wires=0)\n",
    "        for i in range(0, 8, 2):\n",
    "            qml.U3(params[0], params[1], params[2], wires=i)\n",
    "            qml.U3(params[3], params[4], params[5], wires=i+1)\n",
    "            qml.CNOT(wires=[i, i+1])\n",
    "            qml.RY(params[6], wires=i)\n",
    "            qml.RZ(params[7], wires=i+1)\n",
    "            qml.CNOT(wires=[i+1, i])\n",
    "            qml.RY(params[8], wires=i)\n",
    "            qml.CNOT(wires=[i, i+1])\n",
    "            qml.U3(params[9], params[10], params[11], wires=i)\n",
    "            qml.U3(params[12], params[13], params[14], wires=i+1)\n",
    "        for i in range(1, 7, 2):\n",
    "            qml.U3(params[0], params[1], params[2], wires=i)\n",
    "            qml.U3(params[3], params[4], params[5], wires=i+1)\n",
    "            qml.CNOT(wires=[i, i+1])\n",
    "            qml.RY(params[6], wires=i)\n",
    "            qml.RZ(params[7], wires=i+1)\n",
    "            qml.CNOT(wires=[i+1, i])\n",
    "            qml.RY(params[8], wires=i)\n",
    "            qml.CNOT(wires=[i, i+1])\n",
    "            qml.U3(params[9], params[10], params[11], wires=i)\n",
    "            qml.U3(params[12], params[13], params[14], wires=i+1)\n",
    "\n",
    "        # Layer 2 - Convolution\n",
    "        qml.U3(params[15], params[16], params[17], wires=6)\n",
    "        qml.U3(params[18], params[19], params[20], wires=0)\n",
    "        qml.CNOT(wires=[6, 0])\n",
    "        qml.RY(params[21], wires=6)\n",
    "        qml.RZ(params[22], wires=0)\n",
    "        qml.CNOT(wires=[0, 6])\n",
    "        qml.RY(params[23], wires=6)\n",
    "        qml.CNOT(wires=[6, 0])\n",
    "        qml.U3(params[24], params[25], params[26], wires=6)\n",
    "        qml.U3(params[27], params[28], params[29], wires=0)\n",
    "        qml.U3(params[15], params[16], params[17], wires=0)\n",
    "        qml.U3(params[18], params[19], params[20], wires=2)\n",
    "        qml.CNOT(wires=[0, 2])\n",
    "        qml.RY(params[21], wires=0)\n",
    "        qml.RZ(params[22], wires=2)\n",
    "        qml.CNOT(wires=[2, 0])\n",
    "        qml.RY(params[23], wires=0)\n",
    "        qml.CNOT(wires=[0, 2])\n",
    "        qml.U3(params[24], params[25], params[26], wires=0)\n",
    "        qml.U3(params[27], params[28], params[29], wires=2)\n",
    "        qml.U3(params[15], params[16], params[17], wires=4)\n",
    "        qml.U3(params[18], params[19], params[20], wires=6)\n",
    "        qml.CNOT(wires=[4, 6])\n",
    "        qml.RY(params[21], wires=4)\n",
    "        qml.RZ(params[22], wires=6)\n",
    "        qml.CNOT(wires=[6, 4])\n",
    "        qml.RY(params[23], wires=4)\n",
    "        qml.CNOT(wires=[4, 6])\n",
    "        qml.U3(params[24], params[25], params[26], wires=4)\n",
    "        qml.U3(params[27], params[28], params[29], wires=6)\n",
    "        qml.U3(params[15], params[16], params[17], wires=2)\n",
    "        qml.U3(params[18], params[19], params[20], wires=4)\n",
    "        qml.CNOT(wires=[2, 4])\n",
    "        qml.RY(params[21], wires=2)\n",
    "        qml.RZ(params[22], wires=4)\n",
    "        qml.CNOT(wires=[4, 2])\n",
    "        qml.RY(params[23], wires=2)\n",
    "        qml.CNOT(wires=[2, 4])\n",
    "        qml.U3(params[24], params[25], params[26], wires=2)\n",
    "        qml.U3(params[27], params[28], params[29], wires=4)\n",
    "\n",
    "        # Layer 3 - Convolution\n",
    "        qml.U3(params[30], params[31], params[32], wires=4)\n",
    "        qml.U3(params[33], params[34], params[35], wires=0)\n",
    "        qml.CNOT(wires=[4, 0])\n",
    "        qml.RY(params[36], wires=4)\n",
    "        qml.RZ(params[37], wires=0)\n",
    "        qml.CNOT(wires=[0, 4])\n",
    "        qml.RY(params[38], wires=4)\n",
    "        qml.CNOT(wires=[4, 0])\n",
    "        qml.U3(params[39], params[40], params[41], wires=4)\n",
    "        qml.U3(params[42], params[43], params[44], wires=0)\n",
    "\n",
    "    # Measurement - return expected X, Y, Z (considering only MSE-type losses)\n",
    "    result = [qml.expval(qml.PauliX(0)), qml.expval(\n",
    "        qml.PauliY(0)), qml.expval(qml.PauliZ(0))]\n",
    "    return result"
   ]
  },
  {
   "cell_type": "code",
   "execution_count": 42,
   "id": "35c3a48d",
   "metadata": {
    "ExecuteTime": {
     "end_time": "2022-12-04T17:44:50.684465Z",
     "start_time": "2022-12-04T17:44:50.670968Z"
    }
   },
   "outputs": [],
   "source": [
    "# QCNN-Qnode circuit setting (hyper parameter of the function)\n",
    "# [\"Amplitude\", \"Angle\", \"Angle-compact\", Amplitude-Hybrid4-1, 2, 3, 4, Angular-Hybrid4-1, 2, 3, 4]\n",
    "Embedding = 'Amplitude'\n",
    "# ['U_TTN', 'U_9', 'U_15', 'U_13', 'U_14', 'U_SO4', 'U_5', 'U_6', 'U_SU4', 'U_SU4_no_pooling']\n",
    "U = \"U_SU4\"\n",
    "# U_params = [2]    #[2, 2, 4, 6, 6, 6, 10, 10, 15, 15]"
   ]
  },
  {
   "cell_type": "code",
   "execution_count": 43,
   "id": "415461af",
   "metadata": {
    "ExecuteTime": {
     "end_time": "2022-12-04T17:44:50.699607Z",
     "start_time": "2022-12-04T17:44:50.686551Z"
    }
   },
   "outputs": [],
   "source": [
    "import tensorflow as tf\n",
    "\n",
    "device_chosen = dev_list[0]\n",
    "\n",
    "QCNN_Qnode = qml.QNode(QCNN_circuit_node, device=device_chosen, interface=\"tf\")\n",
    "weight_shapes = {\"params\": 51}  # [12, 12, 18, 24, 24, 24, 36, 36, 51, 45]\n",
    "qlayer = qml.qnn.KerasLayer(\n",
    "    QCNN_Qnode, weight_shapes, output_dim=3, name=\"qlayer_QCNN\")"
   ]
  },
  {
   "cell_type": "code",
   "execution_count": 44,
   "id": "5424c856",
   "metadata": {
    "ExecuteTime": {
     "end_time": "2022-12-04T17:44:50.715167Z",
     "start_time": "2022-12-04T17:44:50.700601Z"
    },
    "scrolled": true
   },
   "outputs": [],
   "source": [
    "# Choose activation function\n",
    "activation_func = 'relu'  # sigmoid, relu, softmax, tanh,\n",
    "clayer_1 = tf.keras.layers.Dense(\n",
    "    3, activation=activation_func, name=\"clayer\"+str(activation_func)+\"1\")\n",
    "clayer_2 = tf.keras.layers.Dense(\n",
    "    3, activation=activation_func, name=\"clayer\"+str(activation_func)+\"2\")\n",
    "clayer_3 = tf.keras.layers.Dense(\n",
    "    3, activation=activation_func, name=\"clayer\"+str(activation_func)+\"3\")\n",
    "clayer_final = tf.keras.layers.Dense(\n",
    "    2, activation=\"softmax\", name=\"clayer_softmax\")"
   ]
  },
  {
   "cell_type": "code",
   "execution_count": 45,
   "id": "4458a3de",
   "metadata": {
    "ExecuteTime": {
     "end_time": "2022-12-04T17:44:50.730236Z",
     "start_time": "2022-12-04T17:44:50.717150Z"
    }
   },
   "outputs": [],
   "source": [
    "# Choose the QCNN + NN model\n",
    "model_QCNN_Qnode0 = tf.keras.models.Sequential(\n",
    "    [qlayer, clayer_final], name=\"QCNN - Qnode model0\")\n",
    "model_QCNN_Qnode1 = tf.keras.models.Sequential(\n",
    "    [qlayer, clayer_1, clayer_final], name=\"QCNN - Qnode model1\")\n",
    "model_QCNN_Qnode2 = tf.keras.models.Sequential(\n",
    "    [qlayer, clayer_1, clayer_2, clayer_final], name=\"QCNN - Qnode model2\")\n",
    "model_QCNN_Qnode3 = tf.keras.models.Sequential(\n",
    "    [qlayer, clayer_1, clayer_2, clayer_3, clayer_final], name=\"QCNN - Qnode model3\")"
   ]
  },
  {
   "cell_type": "code",
   "execution_count": 46,
   "id": "cce7d67f",
   "metadata": {
    "ExecuteTime": {
     "end_time": "2022-12-04T17:44:50.745785Z",
     "start_time": "2022-12-04T17:44:50.731237Z"
    }
   },
   "outputs": [],
   "source": [
    "opt = tf.keras.optimizers.SGD(learning_rate=0.1, nesterov=True)\n",
    "\n",
    "model_QCNN_chosen = model_QCNN_Qnode0\n",
    "# loss: \"binary_crossentropy\"\n",
    "model_QCNN_chosen.compile(opt, loss=\"mse\", metrics=[\"accuracy\"])"
   ]
  },
  {
   "cell_type": "code",
   "execution_count": 47,
   "id": "9b689795",
   "metadata": {
    "ExecuteTime": {
     "end_time": "2022-12-04T17:44:50.760462Z",
     "start_time": "2022-12-04T17:44:50.747780Z"
    }
   },
   "outputs": [],
   "source": [
    "class SaveBatchLoss(tf.keras.callbacks.Callback):\n",
    "    def on_train_batch_end(self, batch, logs=None):\n",
    "        batch_end_loss.append(logs['loss'])\n",
    "        batch_end_accuracy.append(logs['accuracy'])"
   ]
  },
  {
   "cell_type": "code",
   "execution_count": 48,
   "id": "806bca1c",
   "metadata": {
    "ExecuteTime": {
     "end_time": "2022-12-04T17:52:37.022788Z",
     "start_time": "2022-12-04T17:44:50.762483Z"
    }
   },
   "outputs": [
    {
     "name": "stdout",
     "output_type": "stream",
     "text": [
      "Epoch 1/2\n",
      "4/4 [==============================] - 232s 58s/step - loss: 0.3388 - accuracy: 0.4200\n",
      "Epoch 2/2\n",
      "4/4 [==============================] - 234s 58s/step - loss: 0.1934 - accuracy: 0.7400\n"
     ]
    }
   ],
   "source": [
    "num_epoch = 2\n",
    "minibatch_size = 25\n",
    "num_train = 100  # len(X_train)\n",
    "num_test = 100  # len(X_test)\n",
    "\n",
    "batch_end_loss = list()\n",
    "batch_end_accuracy = list()\n",
    "fitting = model_QCNN_chosen.fit(x=X_train[0:num_train],\n",
    "                                y=Y_train_onehot[0:num_train],\n",
    "                                batch_size=minibatch_size,\n",
    "                                #steps_per_epoch = num_minibatch_per_epoch,\n",
    "                                epochs=num_epoch,\n",
    "                                callbacks=SaveBatchLoss()\n",
    "                                )"
   ]
  },
  {
   "cell_type": "code",
   "execution_count": 49,
   "id": "00b59583",
   "metadata": {
    "ExecuteTime": {
     "end_time": "2022-12-04T17:52:37.037908Z",
     "start_time": "2022-12-04T17:52:37.023787Z"
    }
   },
   "outputs": [
    {
     "name": "stdout",
     "output_type": "stream",
     "text": [
      "Model: \"QCNN - Qnode model0\"\n",
      "_________________________________________________________________\n",
      " Layer (type)                Output Shape              Param #   \n",
      "=================================================================\n",
      " qlayer_QCNN (KerasLayer)    (25, 3)                   51        \n",
      "                                                                 \n",
      " clayer_softmax (Dense)      (25, 2)                   8         \n",
      "                                                                 \n",
      "=================================================================\n",
      "Total params: 59\n",
      "Trainable params: 59\n",
      "Non-trainable params: 0\n",
      "_________________________________________________________________\n"
     ]
    }
   ],
   "source": [
    "model_QCNN_chosen.summary()"
   ]
  },
  {
   "cell_type": "code",
   "execution_count": 50,
   "id": "19ce8b5d",
   "metadata": {
    "ExecuteTime": {
     "end_time": "2022-12-04T17:52:37.053367Z",
     "start_time": "2022-12-04T17:52:37.039851Z"
    }
   },
   "outputs": [
    {
     "data": {
      "text/plain": [
       "{'loss': [0.3387992271198469, 0.19342733072313006], 'accuracy': [0.42, 0.74]}"
      ]
     },
     "execution_count": 50,
     "metadata": {},
     "output_type": "execute_result"
    }
   ],
   "source": [
    "fitting.history"
   ]
  },
  {
   "cell_type": "code",
   "execution_count": 51,
   "id": "37e6e5bf",
   "metadata": {
    "ExecuteTime": {
     "end_time": "2022-12-04T17:52:37.068440Z",
     "start_time": "2022-12-04T17:52:37.055371Z"
    }
   },
   "outputs": [
    {
     "data": {
      "text/plain": [
       "[0.3387992271198469, 0.19342733072313006]"
      ]
     },
     "execution_count": 51,
     "metadata": {},
     "output_type": "execute_result"
    }
   ],
   "source": [
    "fitting.history['loss']"
   ]
  },
  {
   "cell_type": "code",
   "execution_count": 52,
   "id": "f935d5cf",
   "metadata": {
    "ExecuteTime": {
     "end_time": "2022-12-04T17:52:37.083981Z",
     "start_time": "2022-12-04T17:52:37.070446Z"
    }
   },
   "outputs": [
    {
     "data": {
      "text/plain": [
       "[0.3925742523796714,\n",
       " 0.42284568415729146,\n",
       " 0.37374954540865524,\n",
       " 0.3387992271198469,\n",
       " 0.2128066835104325,\n",
       " 0.19931819924393604,\n",
       " 0.2013617951790894,\n",
       " 0.19342733072313006]"
      ]
     },
     "execution_count": 52,
     "metadata": {},
     "output_type": "execute_result"
    }
   ],
   "source": [
    "batch_end_loss"
   ]
  },
  {
   "cell_type": "code",
   "execution_count": 53,
   "id": "5fb3f7a7",
   "metadata": {
    "ExecuteTime": {
     "end_time": "2022-12-04T17:52:37.099018Z",
     "start_time": "2022-12-04T17:52:37.085987Z"
    }
   },
   "outputs": [
    {
     "data": {
      "text/plain": [
       "8"
      ]
     },
     "execution_count": 53,
     "metadata": {},
     "output_type": "execute_result"
    }
   ],
   "source": [
    "len(batch_end_loss)"
   ]
  },
  {
   "cell_type": "code",
   "execution_count": 54,
   "id": "249f9e64",
   "metadata": {
    "ExecuteTime": {
     "end_time": "2022-12-04T17:52:37.114536Z",
     "start_time": "2022-12-04T17:52:37.101018Z"
    }
   },
   "outputs": [
    {
     "data": {
      "text/plain": [
       "[0.48, 0.4, 0.4, 0.42, 0.8, 0.72, 0.7066666666666667, 0.74]"
      ]
     },
     "execution_count": 54,
     "metadata": {},
     "output_type": "execute_result"
    }
   ],
   "source": [
    "batch_end_accuracy"
   ]
  },
  {
   "cell_type": "code",
   "execution_count": 55,
   "id": "cbda4c09",
   "metadata": {
    "ExecuteTime": {
     "end_time": "2022-12-04T17:52:37.130168Z",
     "start_time": "2022-12-04T17:52:37.116543Z"
    }
   },
   "outputs": [
    {
     "data": {
      "text/plain": [
       "8"
      ]
     },
     "execution_count": 55,
     "metadata": {},
     "output_type": "execute_result"
    }
   ],
   "source": [
    "len(batch_end_accuracy)"
   ]
  },
  {
   "cell_type": "code",
   "execution_count": 56,
   "id": "bb4dfd9c",
   "metadata": {
    "ExecuteTime": {
     "end_time": "2022-12-04T17:52:37.283957Z",
     "start_time": "2022-12-04T17:52:37.132150Z"
    }
   },
   "outputs": [
    {
     "data": {
      "image/png": "[encoded data removed]",
      "text/plain": [
       "<Figure size 1152x864 with 1 Axes>"
      ]
     },
     "metadata": {
      "needs_background": "light"
     },
     "output_type": "display_data"
    }
   ],
   "source": [
    "# Plot accuracy, loss of the model\n",
    "import matplotlib.pyplot as plt\n",
    "\n",
    "plt.figure(figsize=(16, 12))\n",
    "plt.rcParams.update({'font.size': 14})\n",
    "plt.plot(batch_end_loss)\n",
    "plt.title('QCNN - Qnode model: cost')\n",
    "#plt.ylim([0, 1])\n",
    "plt.xticks(ticks=np.arange(0, len(batch_end_loss), 5), labels=np.arange(0, len(batch_end_loss), 5))\n",
    "plt.ylabel('Loss')\n",
    "plt.xlabel('Iteration')\n",
    "plt.legend(['Loss'], loc='center left', bbox_to_anchor=(1, 0.5))\n",
    "plt.show()"
   ]
  },
  {
   "cell_type": "code",
   "execution_count": 57,
   "id": "c1bafdaf",
   "metadata": {
    "ExecuteTime": {
     "end_time": "2022-12-04T17:54:04.393854Z",
     "start_time": "2022-12-04T17:52:37.286937Z"
    }
   },
   "outputs": [
    {
     "name": "stdout",
     "output_type": "stream",
     "text": [
      "4/4 - 87s - loss: 0.1823 - accuracy: 0.7500 - 87s/epoch - 22s/step\n",
      "Train loss: 0.18225044139461022\n",
      "Train accuracy: 0.75\n"
     ]
    }
   ],
   "source": [
    "# Benchmarking with measured train data\n",
    "score_train = model_QCNN_chosen.evaluate(\n",
    "    X_train[0:num_train], Y_train_onehot[0:num_train], verbose=2)\n",
    "print(\"Train loss:\", score_train[0])\n",
    "print(\"Train accuracy:\", score_train[1])"
   ]
  },
  {
   "cell_type": "code",
   "execution_count": 58,
   "id": "2576c9e4",
   "metadata": {
    "ExecuteTime": {
     "end_time": "2022-12-04T17:55:30.503928Z",
     "start_time": "2022-12-04T17:54:04.395841Z"
    },
    "scrolled": false
   },
   "outputs": [
    {
     "name": "stdout",
     "output_type": "stream",
     "text": [
      "4/4 - 86s - loss: 0.2080 - accuracy: 0.6600 - 86s/epoch - 22s/step\n",
      "Test loss: 0.20799850565184794\n",
      "Test accuracy: 0.66\n"
     ]
    }
   ],
   "source": [
    "# Benchmarking with measured test data\n",
    "score_test = model_QCNN_chosen.evaluate(\n",
    "    X_test[0:num_test], Y_test_onehot[0:num_test], verbose=2)\n",
    "print(\"Test loss:\", score_test[0])\n",
    "print(\"Test accuracy:\", score_test[1])"
   ]
  },
  {
   "cell_type": "code",
   "execution_count": null,
   "id": "9dda4ec9",
   "metadata": {},
   "outputs": [],
   "source": []
  },
  {
   "cell_type": "code",
   "execution_count": null,
   "id": "bf6060d6",
   "metadata": {},
   "outputs": [],
   "source": []
  }
 ],
 "metadata": {
  "kernelspec": {
   "display_name": "Python 3 (ipykernel)",
   "language": "python",
   "name": "python3"
  },
  "language_info": {
   "codemirror_mode": {
    "name": "ipython",
    "version": 3
   },
   "file_extension": ".py",
   "mimetype": "text/x-python",
   "name": "python",
   "nbconvert_exporter": "python",
   "pygments_lexer": "ipython3",
   "version": "3.9.12"
  },
  "toc": {
   "base_numbering": "0",
   "nav_menu": {},
   "number_sections": true,
   "sideBar": false,
   "skip_h1_title": false,
   "title_cell": "Table of Contents",
   "title_sidebar": "Contents",
   "toc_cell": true,
   "toc_position": {
    "height": "1113.33px",
    "left": "26px",
    "top": "135.688px",
    "width": "255.594px"
   },
   "toc_section_display": false,
   "toc_window_display": true
  },
  "varInspector": {
   "cols": {
    "lenName": 16,
    "lenType": 16,
    "lenVar": 40
   },
   "kernels_config": {
    "python": {
     "delete_cmd_postfix": "",
     "delete_cmd_prefix": "del ",
     "library": "var_list.py",
     "varRefreshCmd": "print(var_dic_list())"
    },
    "r": {
     "delete_cmd_postfix": ") ",
     "delete_cmd_prefix": "rm(",
     "library": "var_list.r",
     "varRefreshCmd": "cat(var_dic_list()) "
    }
   },
   "types_to_exclude": [
    "module",
    "function",
    "builtin_function_or_method",
    "instance",
    "_Feature"
   ],
   "window_display": false
  }
 },
 "nbformat": 4,
 "nbformat_minor": 5
}
