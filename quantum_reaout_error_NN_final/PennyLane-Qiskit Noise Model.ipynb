{
 "cells": [
  {
   "cell_type": "markdown",
   "id": "ca2db015",
   "metadata": {},
   "source": [
    "# PennyLane - Qiskit Noise Model"
   ]
  },
  {
   "cell_type": "markdown",
   "id": "090a8fc5",
   "metadata": {},
   "source": [
    "## Initiate the device and create a quantum circuit"
   ]
  },
  {
   "cell_type": "markdown",
   "id": "5bea48f6",
   "metadata": {},
   "source": [
    "- Link: [PennyLane - The Aer device: Noise Model](https://docs.pennylane.ai/projects/qiskit/en/latest/devices/aer.html)\n",
    "- Link: [Qiskit - AerSimulator](https://qiskit.org/documentation/stubs/qiskit_aer.AerSimulator.html)"
   ]
  },
  {
   "cell_type": "code",
   "execution_count": 1,
   "id": "72830e82",
   "metadata": {
    "ExecuteTime": {
     "end_time": "2022-12-06T14:21:29.407275Z",
     "start_time": "2022-12-06T14:21:29.392743Z"
    }
   },
   "outputs": [],
   "source": [
    "# !pip install pennylane\n",
    "# !pip install qiskit\n",
    "# !pip install pennylane-qiskit"
   ]
  },
  {
   "cell_type": "code",
   "execution_count": 2,
   "id": "619746b7",
   "metadata": {
    "ExecuteTime": {
     "end_time": "2022-12-06T14:21:32.737783Z",
     "start_time": "2022-12-06T14:21:29.408276Z"
    }
   },
   "outputs": [],
   "source": [
    "import pennylane as qml\n",
    "\n",
    "dev = qml.device('qiskit.aer', wires=2)"
   ]
  },
  {
   "cell_type": "code",
   "execution_count": 3,
   "id": "3fdd49e5",
   "metadata": {
    "ExecuteTime": {
     "end_time": "2022-12-06T14:21:32.753333Z",
     "start_time": "2022-12-06T14:21:32.738768Z"
    }
   },
   "outputs": [],
   "source": [
    "@qml.qnode(dev)\n",
    "def circuit(x, y, z):\n",
    "    qml.RZ(z, wires=[0])\n",
    "    qml.RY(y, wires=[0])\n",
    "    qml.RX(x, wires=[0])\n",
    "    qml.CNOT(wires=[0, 1])\n",
    "    return qml.expval(qml.PauliZ(wires=1))"
   ]
  },
  {
   "cell_type": "code",
   "execution_count": 4,
   "id": "f388eef8",
   "metadata": {
    "ExecuteTime": {
     "end_time": "2022-12-06T14:21:32.783283Z",
     "start_time": "2022-12-06T14:21:32.754300Z"
    }
   },
   "outputs": [
    {
     "data": {
      "text/plain": [
       "tensor(0.97070312, requires_grad=True)"
      ]
     },
     "execution_count": 4,
     "metadata": {},
     "output_type": "execute_result"
    }
   ],
   "source": [
    "circuit(0.2, 0.1, 0.3)"
   ]
  },
  {
   "cell_type": "markdown",
   "id": "03321c9b",
   "metadata": {},
   "source": [
    "## Backend"
   ]
  },
  {
   "cell_type": "code",
   "execution_count": 5,
   "id": "7feec818",
   "metadata": {
    "ExecuteTime": {
     "end_time": "2022-12-06T14:21:32.798098Z",
     "start_time": "2022-12-06T14:21:32.784261Z"
    }
   },
   "outputs": [
    {
     "data": {
      "text/plain": [
       "['aer_simulator',\n",
       " 'aer_simulator_statevector',\n",
       " 'aer_simulator_density_matrix',\n",
       " 'aer_simulator_stabilizer',\n",
       " 'aer_simulator_matrix_product_state',\n",
       " 'aer_simulator_extended_stabilizer',\n",
       " 'aer_simulator_unitary',\n",
       " 'aer_simulator_superop',\n",
       " 'qasm_simulator',\n",
       " 'statevector_simulator',\n",
       " 'unitary_simulator',\n",
       " 'pulse_simulator']"
      ]
     },
     "execution_count": 5,
     "metadata": {},
     "output_type": "execute_result"
    }
   ],
   "source": [
    "dev.capabilities()['backend']"
   ]
  },
  {
   "cell_type": "code",
   "execution_count": 6,
   "id": "05d36177",
   "metadata": {
    "ExecuteTime": {
     "end_time": "2022-12-06T14:21:32.812852Z",
     "start_time": "2022-12-06T14:21:32.799099Z"
    }
   },
   "outputs": [
    {
     "data": {
      "text/plain": [
       "[AerSimulator('aer_simulator'),\n",
       " AerSimulator('aer_simulator_statevector'),\n",
       " AerSimulator('aer_simulator_density_matrix'),\n",
       " AerSimulator('aer_simulator_stabilizer'),\n",
       " AerSimulator('aer_simulator_matrix_product_state'),\n",
       " AerSimulator('aer_simulator_extended_stabilizer'),\n",
       " AerSimulator('aer_simulator_unitary'),\n",
       " AerSimulator('aer_simulator_superop'),\n",
       " QasmSimulator('qasm_simulator'),\n",
       " StatevectorSimulator('statevector_simulator'),\n",
       " UnitarySimulator('unitary_simulator'),\n",
       " PulseSimulator('pulse_simulator')]"
      ]
     },
     "execution_count": 6,
     "metadata": {},
     "output_type": "execute_result"
    }
   ],
   "source": [
    "from qiskit import Aer\n",
    "Aer.backends()"
   ]
  },
  {
   "cell_type": "code",
   "execution_count": 7,
   "id": "2c2d8772",
   "metadata": {
    "ExecuteTime": {
     "end_time": "2022-12-06T14:21:32.828432Z",
     "start_time": "2022-12-06T14:21:32.813852Z"
    }
   },
   "outputs": [],
   "source": [
    "dev = qml.device('qiskit.aer', wires=2, backend='aer_simulator_statevector')"
   ]
  },
  {
   "cell_type": "markdown",
   "id": "3dc8a7c8",
   "metadata": {},
   "source": [
    "## Backend Methods and Options"
   ]
  },
  {
   "cell_type": "code",
   "execution_count": 8,
   "id": "7aa0f8e3",
   "metadata": {
    "ExecuteTime": {
     "end_time": "2022-12-06T14:21:32.843691Z",
     "start_time": "2022-12-06T14:21:32.829402Z"
    }
   },
   "outputs": [],
   "source": [
    "dev = qml.device(\"qiskit.aer\", wires=2, method=\"automatic\")"
   ]
  },
  {
   "cell_type": "code",
   "execution_count": 9,
   "id": "14f3a55e",
   "metadata": {
    "ExecuteTime": {
     "end_time": "2022-12-06T14:21:32.858761Z",
     "start_time": "2022-12-06T14:21:32.845666Z"
    }
   },
   "outputs": [],
   "source": [
    "dev = qml.device(\n",
    "    'qiskit.aer',\n",
    "    wires=2,\n",
    "    backend='unitary_simulator',\n",
    "    validation_threshold=1e-6\n",
    ")"
   ]
  },
  {
   "cell_type": "markdown",
   "id": "a7dd1c04",
   "metadata": {},
   "source": [
    "## Noise models"
   ]
  },
  {
   "cell_type": "markdown",
   "id": "062fa83e",
   "metadata": {},
   "source": [
    "### Custum Noise Model\n",
    "- Link: [Qiskit documentation - NoiseModel](https://qiskit.org/documentation/stubs/qiskit_aer.noise.NoiseModel.html#qiskit_aer.noise.NoiseModel)\n",
    "- Link: [Building Noise Models](https://qiskit.org/documentation/tutorials/simulators/3_building_noise_models.html)\n",
    "- Link: [Qiskit NoiseModel.add_readout_error](https://qiskit.org/documentation/stubs/qiskit_aer.noise.NoiseModel.add_readout_error.html#qiskit_aer.noise.NoiseModel.add_readout_error)\n",
    "- In Qiskit, here are some values from the real device\n",
    "    - readout error, median about 0.01\n",
    "    - cnot error, median about 0.0075\n",
    "    - pauliX error, median about 0.00025"
   ]
  },
  {
   "cell_type": "code",
   "execution_count": 21,
   "id": "a546f2cd",
   "metadata": {
    "ExecuteTime": {
     "end_time": "2022-12-06T14:58:03.921797Z",
     "start_time": "2022-12-06T14:58:03.849639Z"
    }
   },
   "outputs": [
    {
     "name": "stdout",
     "output_type": "stream",
     "text": [
      "0.96484375\n"
     ]
    }
   ],
   "source": [
    "import pennylane as qml\n",
    "\n",
    "import qiskit\n",
    "import qiskit.providers.aer.noise as noise\n",
    "\n",
    "# Error probabilities\n",
    "prob_1 = 0.001  # 1-qubit gate\n",
    "prob_2 = 0.01   # 2-qubit gate\n",
    "\n",
    "# Depolarizing quantum errors\n",
    "error_1 = noise.depolarizing_error(prob_1, 1)\n",
    "error_2 = noise.depolarizing_error(prob_2, 2)\n",
    "\n",
    "# Add errors to noise model\n",
    "noise_model = noise.NoiseModel()\n",
    "noise_model.add_all_qubit_quantum_error(error_1, ['u1', 'u2', 'u3'])\n",
    "noise_model.add_all_qubit_quantum_error(error_2, ['cx'])\n",
    "\n",
    "# Create a PennyLane device\n",
    "dev = qml.device('qiskit.aer', wires=2, noise_model=noise_model)\n",
    "\n",
    "# Create a PennyLane quantum node run on the device\n",
    "@qml.qnode(dev)\n",
    "def circuit(x, y, z):\n",
    "    qml.RZ(z, wires=[0])\n",
    "    qml.RY(y, wires=[0])\n",
    "    qml.RX(x, wires=[0])\n",
    "    qml.CNOT(wires=[0, 1])\n",
    "    return qml.expval(qml.PauliZ(wires=1))\n",
    "\n",
    "# Result of noisy simulator\n",
    "print(circuit(0.2, 0.1, 0.3))"
   ]
  },
  {
   "cell_type": "code",
   "execution_count": null,
   "id": "f7f7e780",
   "metadata": {},
   "outputs": [],
   "source": []
  },
  {
   "cell_type": "code",
   "execution_count": null,
   "id": "781de372",
   "metadata": {},
   "outputs": [],
   "source": []
  },
  {
   "cell_type": "code",
   "execution_count": null,
   "id": "1387830f",
   "metadata": {},
   "outputs": [],
   "source": []
  },
  {
   "cell_type": "code",
   "execution_count": null,
   "id": "e05c7c79",
   "metadata": {},
   "outputs": [],
   "source": []
  },
  {
   "cell_type": "code",
   "execution_count": null,
   "id": "fadcd439",
   "metadata": {},
   "outputs": [],
   "source": []
  },
  {
   "cell_type": "code",
   "execution_count": null,
   "id": "1758f5cb",
   "metadata": {},
   "outputs": [],
   "source": []
  },
  {
   "cell_type": "code",
   "execution_count": null,
   "id": "e0118268",
   "metadata": {},
   "outputs": [],
   "source": []
  },
  {
   "cell_type": "code",
   "execution_count": null,
   "id": "51ec7799",
   "metadata": {},
   "outputs": [],
   "source": []
  },
  {
   "cell_type": "markdown",
   "id": "2083076f",
   "metadata": {},
   "source": [
    "- When applying a single qubit gate, flip the state of the qubit with probability p_gate1.\n",
    "\n",
    "- When applying a 2-qubit gate apply single-qubit errors to each qubit.\n",
    "\n",
    "- When resetting a qubit reset to 1 instead of 0 with probability p_reset.\n",
    "\n",
    "- When measuring a qubit, flip the state of the qubit with probability p_meas."
   ]
  },
  {
   "cell_type": "code",
   "execution_count": null,
   "id": "d871f59e",
   "metadata": {},
   "outputs": [],
   "source": []
  },
  {
   "cell_type": "code",
   "execution_count": 10,
   "id": "cf99c32c",
   "metadata": {
    "ExecuteTime": {
     "end_time": "2022-12-06T14:21:33.074133Z",
     "start_time": "2022-12-06T14:21:32.859744Z"
    }
   },
   "outputs": [
    {
     "ename": "NameError",
     "evalue": "name 'pauli_error' is not defined",
     "output_type": "error",
     "traceback": [
      "\u001b[1;31m---------------------------------------------------------------------------\u001b[0m",
      "\u001b[1;31mNameError\u001b[0m                                 Traceback (most recent call last)",
      "Input \u001b[1;32mIn [10]\u001b[0m, in \u001b[0;36m<cell line: 8>\u001b[1;34m()\u001b[0m\n\u001b[0;32m      4\u001b[0m p_gate1 \u001b[38;5;241m=\u001b[39m \u001b[38;5;241m0.05\u001b[39m\n\u001b[0;32m      6\u001b[0m \u001b[38;5;66;03m# QuantumError objects\u001b[39;00m\n\u001b[0;32m      7\u001b[0m \u001b[38;5;66;03m# error_reset = pauli_error([('X', p_reset), ('I', 1 - p_reset)])\u001b[39;00m\n\u001b[1;32m----> 8\u001b[0m error_meas \u001b[38;5;241m=\u001b[39m \u001b[43mpauli_error\u001b[49m([(\u001b[38;5;124m'\u001b[39m\u001b[38;5;124mX\u001b[39m\u001b[38;5;124m'\u001b[39m,p_meas), (\u001b[38;5;124m'\u001b[39m\u001b[38;5;124mI\u001b[39m\u001b[38;5;124m'\u001b[39m, \u001b[38;5;241m1\u001b[39m \u001b[38;5;241m-\u001b[39m p_meas)])\n\u001b[0;32m      9\u001b[0m error_gate1 \u001b[38;5;241m=\u001b[39m pauli_error([(\u001b[38;5;124m'\u001b[39m\u001b[38;5;124mX\u001b[39m\u001b[38;5;124m'\u001b[39m,p_gate1), (\u001b[38;5;124m'\u001b[39m\u001b[38;5;124mI\u001b[39m\u001b[38;5;124m'\u001b[39m, \u001b[38;5;241m1\u001b[39m \u001b[38;5;241m-\u001b[39m p_gate1)])\n\u001b[0;32m     10\u001b[0m error_gate2 \u001b[38;5;241m=\u001b[39m error_gate1\u001b[38;5;241m.\u001b[39mtensor(error_gate1)\n",
      "\u001b[1;31mNameError\u001b[0m: name 'pauli_error' is not defined"
     ]
    }
   ],
   "source": [
    "# Example error probabilities\n",
    "# p_reset = 0.03\n",
    "p_measure_error = 0.01\n",
    "p_gate1 = 0.05\n",
    "\n",
    "# QuantumError objects\n",
    "# error_reset = pauli_error([('X', p_reset), ('I', 1 - p_reset)])\n",
    "error_meas = pauli_error([('X', p_meas), ('I', 1 - p_meas)])\n",
    "error_gate1 = pauli_error([('X', p_gate1), ('I', 1 - p_gate1)])\n",
    "error_gate2 = error_gate1.tensor(error_gate1)\n",
    "\n",
    "# Add errors to noise model\n",
    "noise_bit_flip = NoiseModel()\n",
    "noise_bit_flip.add_all_qubit_quantum_error(error_reset, \"reset\")\n",
    "noise_bit_flip.add_all_qubit_quantum_error(error_meas, \"measure\")\n",
    "noise_bit_flip.add_all_qubit_quantum_error(error_gate1, [\"u1\", \"u2\", \"u3\"])\n",
    "noise_bit_flip.add_all_qubit_quantum_error(error_gate2, [\"cx\"])\n",
    "\n",
    "print(noise_bit_flip)"
   ]
  },
  {
   "cell_type": "code",
   "execution_count": null,
   "id": "0eaa518a",
   "metadata": {},
   "outputs": [],
   "source": []
  },
  {
   "cell_type": "code",
   "execution_count": null,
   "id": "c06eaf5c",
   "metadata": {
    "ExecuteTime": {
     "end_time": "2022-12-06T14:21:33.076133Z",
     "start_time": "2022-12-06T14:21:33.076133Z"
    },
    "scrolled": true
   },
   "outputs": [],
   "source": [
    "import pennylane as qml\n",
    "import qiskit\n",
    "\n",
    "# Import from Qiskit Aer noise module\n",
    "from qiskit.providers.aer.noise import NoiseModel\n",
    "from qiskit.providers.aer.noise import QuantumError, ReadoutError\n",
    "from qiskit.providers.aer.noise import pauli_error\n",
    "from qiskit.providers.aer.noise import depolarizing_error\n",
    "\n",
    "\n",
    "# Example of error probabilities\n",
    "# p_reset = 0.03\n",
    "p_readout_error = 0.01\n",
    "p_gate1_bitflip_error = 0.00025\n",
    "p_cnot_error = 0.0075\n",
    "\n",
    "# QuantumError objects\n",
    "# error_reset = pauli_error([('X', p_reset), ('I', 1 - p_reset)])\n",
    "error_meas = pauli_error([('X', p_readout_error), ('I', 1 - p_readout_error)])\n",
    "error_gate1 = pauli_error(\n",
    "    [('X', p_gate1_bitflip_error), ('I', 1 - p_gate1_bitflip_error)])\n",
    "error_gate2 = error_gate1.tensor(error_gate1)\n",
    "\n",
    "# Add errors to noise model\n",
    "noise_model = noise.NoiseModel()\n",
    "# noise_model.add_all_qubit_quantum_error(error_reset, \"reset\")\n",
    "noise_model.add_all_qubit_quantum_error(p_readout_error, \"measure\")\n",
    "noise_model.add_all_qubit_quantum_error(\n",
    "    p_gate1_bitflip_error, [\"u1\", \"u2\", \"u3\"])\n",
    "noise_model.add_all_qubit_quantum_error(error_gate2, [\"cx\"])\n",
    "noise_model"
   ]
  },
  {
   "cell_type": "code",
   "execution_count": null,
   "id": "e5b0a31e",
   "metadata": {
    "ExecuteTime": {
     "end_time": "2022-12-05T10:24:06.398859Z",
     "start_time": "2022-12-05T10:24:06.381876Z"
    }
   },
   "outputs": [],
   "source": []
  },
  {
   "cell_type": "code",
   "execution_count": null,
   "id": "909d0045",
   "metadata": {
    "ExecuteTime": {
     "end_time": "2022-12-06T14:21:33.077134Z",
     "start_time": "2022-12-06T14:21:33.077134Z"
    }
   },
   "outputs": [],
   "source": [
    "# Add errors to noise model\n",
    "noise_bit_flip = NoiseModel()\n",
    "noise_bit_flip.add_all_qubit_quantum_error(error_reset, \"reset\")\n",
    "noise_bit_flip.add_all_qubit_quantum_error(error_meas, \"measure\")\n",
    "noise_bit_flip.add_all_qubit_quantum_error(error_gate1, [\"u1\", \"u2\", \"u3\"])\n",
    "noise_bit_flip.add_all_qubit_quantum_error(error_gate2, [\"cx\"])"
   ]
  },
  {
   "cell_type": "code",
   "execution_count": null,
   "id": "0c884c0f",
   "metadata": {
    "ExecuteTime": {
     "end_time": "2022-12-06T14:21:33.077134Z",
     "start_time": "2022-12-06T14:21:33.077134Z"
    }
   },
   "outputs": [],
   "source": [
    "# noise_model.add_all_qubit_quantum_error(error_1, ['u1', 'u2', 'u3'])\n",
    "# noise_model.add_all_qubit_quantum_error(error_2, ['cx'])\n",
    "\n",
    "# Create a PennyLane device\n",
    "dev = qml.device('qiskit.aer', wires=2, noise_model=noise_model)\n",
    "\n",
    "# Create a PennyLane quantum node run on the device\n",
    "\n",
    "\n",
    "@qml.qnode(dev)\n",
    "def circuit(x, y, z):\n",
    "    qml.RZ(z, wires=[0])\n",
    "    qml.RY(y, wires=[0])\n",
    "    qml.RX(x, wires=[0])\n",
    "    qml.CNOT(wires=[0, 1])\n",
    "    return qml.expval(qml.PauliZ(wires=1))\n",
    "\n",
    "\n",
    "# Result of noisy simulator\n",
    "print(circuit(0.2, 0.1, 0.3))"
   ]
  },
  {
   "cell_type": "code",
   "execution_count": null,
   "id": "8b9bbe3d",
   "metadata": {
    "ExecuteTime": {
     "end_time": "2022-12-06T14:21:33.078134Z",
     "start_time": "2022-12-06T14:21:33.078134Z"
    }
   },
   "outputs": [],
   "source": [
    "dev._circuit.draw(output=\"mpl\")"
   ]
  },
  {
   "cell_type": "code",
   "execution_count": null,
   "id": "5c9c56fb",
   "metadata": {},
   "outputs": [],
   "source": []
  },
  {
   "cell_type": "markdown",
   "id": "fbc456d5",
   "metadata": {},
   "source": [
    "## Qiskit - Building Noise Model"
   ]
  },
  {
   "cell_type": "markdown",
   "id": "0df04695",
   "metadata": {},
   "source": [
    "- Link: [Qiskit Aer API Reference - Noise Models](https://qiskit.org/documentation/stubs/qiskit_aer.noise.NoiseModel.html)\n",
    "- Link: [PennyLane Qiskit Plugin - Noise Models](https://pennylane-qiskit.readthedocs.io/en/latest/gettingstarted.html#noise-models)"
   ]
  },
  {
   "cell_type": "markdown",
   "id": "f9e474b9",
   "metadata": {},
   "source": [
    "### Noise model from the device"
   ]
  },
  {
   "cell_type": "markdown",
   "id": "5a7c315a",
   "metadata": {},
   "source": [
    "- You can instantiate a noise model and apply it to the device by calling"
   ]
  },
  {
   "cell_type": "code",
   "execution_count": 11,
   "id": "983758af",
   "metadata": {
    "ExecuteTime": {
     "end_time": "2022-12-06T14:22:42.443575Z",
     "start_time": "2022-12-06T14:22:32.979769Z"
    },
    "scrolled": true
   },
   "outputs": [],
   "source": [
    "import pennylane as qml\n",
    "\n",
    "import qiskit\n",
    "from qiskit import IBMQ\n",
    "\n",
    "# qiskit.IBMQ.save_account(\"TOKEN_NUMBER\")\n",
    "qiskit.IBMQ.load_account()  # Load account from disk\n",
    "provider = IBMQ.get_provider(\n",
    "    hub='ibm-q-skku', group='yonsei-uni', project='yu-graduate')"
   ]
  },
  {
   "cell_type": "code",
   "execution_count": 12,
   "id": "91eca3c6",
   "metadata": {
    "ExecuteTime": {
     "end_time": "2022-12-06T14:22:44.051676Z",
     "start_time": "2022-12-06T14:22:42.445551Z"
    }
   },
   "outputs": [
    {
     "name": "stderr",
     "output_type": "stream",
     "text": [
      "C:\\Users\\user\\anaconda3\\lib\\site-packages\\qiskit_aer\\noise\\device\\models.py:365: UserWarning: Device model returned an invalid T_2 relaxation time greater than the theoretical maximum value 2 * T_1 (160139.28564466984 > 2 * 64337.37278119189). Truncating to maximum value.\n",
      "  warn(\"Device model returned an invalid T_2 relaxation time greater than\"\n",
      "C:\\Users\\user\\anaconda3\\lib\\site-packages\\qiskit_aer\\noise\\device\\models.py:365: UserWarning: Device model returned an invalid T_2 relaxation time greater than the theoretical maximum value 2 * T_1 (162301.71150088374 > 2 * 46101.266108694996). Truncating to maximum value.\n",
      "  warn(\"Device model returned an invalid T_2 relaxation time greater than\"\n",
      "C:\\Users\\user\\anaconda3\\lib\\site-packages\\qiskit_aer\\noise\\device\\models.py:365: UserWarning: Device model returned an invalid T_2 relaxation time greater than the theoretical maximum value 2 * T_1 (184172.43161080335 > 2 * 86146.25335891175). Truncating to maximum value.\n",
      "  warn(\"Device model returned an invalid T_2 relaxation time greater than\"\n",
      "C:\\Users\\user\\anaconda3\\lib\\site-packages\\qiskit_aer\\noise\\device\\models.py:365: UserWarning: Device model returned an invalid T_2 relaxation time greater than the theoretical maximum value 2 * T_1 (160139.28564466984 > 2 * 64337.37278119189). Truncating to maximum value.\n",
      "  warn(\"Device model returned an invalid T_2 relaxation time greater than\"\n",
      "C:\\Users\\user\\anaconda3\\lib\\site-packages\\qiskit_aer\\noise\\device\\models.py:365: UserWarning: Device model returned an invalid T_2 relaxation time greater than the theoretical maximum value 2 * T_1 (162301.71150088374 > 2 * 46101.266108694996). Truncating to maximum value.\n",
      "  warn(\"Device model returned an invalid T_2 relaxation time greater than\"\n",
      "C:\\Users\\user\\anaconda3\\lib\\site-packages\\qiskit_aer\\noise\\device\\models.py:365: UserWarning: Device model returned an invalid T_2 relaxation time greater than the theoretical maximum value 2 * T_1 (184172.43161080335 > 2 * 86146.25335891175). Truncating to maximum value.\n",
      "  warn(\"Device model returned an invalid T_2 relaxation time greater than\"\n",
      "C:\\Users\\user\\anaconda3\\lib\\site-packages\\qiskit_aer\\noise\\device\\models.py:365: UserWarning: Device model returned an invalid T_2 relaxation time greater than the theoretical maximum value 2 * T_1 (160139.28564466984 > 2 * 64337.37278119189). Truncating to maximum value.\n",
      "  warn(\"Device model returned an invalid T_2 relaxation time greater than\"\n",
      "C:\\Users\\user\\anaconda3\\lib\\site-packages\\qiskit_aer\\noise\\device\\models.py:365: UserWarning: Device model returned an invalid T_2 relaxation time greater than the theoretical maximum value 2 * T_1 (162301.71150088374 > 2 * 46101.266108694996). Truncating to maximum value.\n",
      "  warn(\"Device model returned an invalid T_2 relaxation time greater than\"\n",
      "C:\\Users\\user\\anaconda3\\lib\\site-packages\\qiskit_aer\\noise\\device\\models.py:365: UserWarning: Device model returned an invalid T_2 relaxation time greater than the theoretical maximum value 2 * T_1 (184172.43161080335 > 2 * 86146.25335891175). Truncating to maximum value.\n",
      "  warn(\"Device model returned an invalid T_2 relaxation time greater than\"\n",
      "C:\\Users\\user\\anaconda3\\lib\\site-packages\\qiskit_aer\\noise\\device\\models.py:365: UserWarning: Device model returned an invalid T_2 relaxation time greater than the theoretical maximum value 2 * T_1 (184172.43161080335 > 2 * 86146.25335891175). Truncating to maximum value.\n",
      "  warn(\"Device model returned an invalid T_2 relaxation time greater than\"\n",
      "C:\\Users\\user\\anaconda3\\lib\\site-packages\\qiskit_aer\\noise\\device\\models.py:365: UserWarning: Device model returned an invalid T_2 relaxation time greater than the theoretical maximum value 2 * T_1 (184172.43161080335 > 2 * 86146.25335891175). Truncating to maximum value.\n",
      "  warn(\"Device model returned an invalid T_2 relaxation time greater than\"\n",
      "C:\\Users\\user\\anaconda3\\lib\\site-packages\\qiskit_aer\\noise\\device\\models.py:365: UserWarning: Device model returned an invalid T_2 relaxation time greater than the theoretical maximum value 2 * T_1 (162301.71150088374 > 2 * 46101.266108694996). Truncating to maximum value.\n",
      "  warn(\"Device model returned an invalid T_2 relaxation time greater than\"\n",
      "C:\\Users\\user\\anaconda3\\lib\\site-packages\\qiskit_aer\\noise\\device\\models.py:365: UserWarning: Device model returned an invalid T_2 relaxation time greater than the theoretical maximum value 2 * T_1 (162301.71150088374 > 2 * 46101.266108694996). Truncating to maximum value.\n",
      "  warn(\"Device model returned an invalid T_2 relaxation time greater than\"\n",
      "C:\\Users\\user\\anaconda3\\lib\\site-packages\\qiskit_aer\\noise\\device\\models.py:365: UserWarning: Device model returned an invalid T_2 relaxation time greater than the theoretical maximum value 2 * T_1 (184172.43161080335 > 2 * 86146.25335891175). Truncating to maximum value.\n",
      "  warn(\"Device model returned an invalid T_2 relaxation time greater than\"\n",
      "C:\\Users\\user\\anaconda3\\lib\\site-packages\\qiskit_aer\\noise\\device\\models.py:365: UserWarning: Device model returned an invalid T_2 relaxation time greater than the theoretical maximum value 2 * T_1 (184172.43161080335 > 2 * 86146.25335891175). Truncating to maximum value.\n",
      "  warn(\"Device model returned an invalid T_2 relaxation time greater than\"\n",
      "C:\\Users\\user\\anaconda3\\lib\\site-packages\\qiskit_aer\\noise\\device\\models.py:365: UserWarning: Device model returned an invalid T_2 relaxation time greater than the theoretical maximum value 2 * T_1 (162301.71150088374 > 2 * 46101.266108694996). Truncating to maximum value.\n",
      "  warn(\"Device model returned an invalid T_2 relaxation time greater than\"\n",
      "C:\\Users\\user\\anaconda3\\lib\\site-packages\\qiskit_aer\\noise\\device\\models.py:365: UserWarning: Device model returned an invalid T_2 relaxation time greater than the theoretical maximum value 2 * T_1 (162301.71150088374 > 2 * 46101.266108694996). Truncating to maximum value.\n",
      "  warn(\"Device model returned an invalid T_2 relaxation time greater than\"\n",
      "C:\\Users\\user\\anaconda3\\lib\\site-packages\\qiskit_aer\\noise\\device\\models.py:365: UserWarning: Device model returned an invalid T_2 relaxation time greater than the theoretical maximum value 2 * T_1 (160139.28564466984 > 2 * 64337.37278119189). Truncating to maximum value.\n",
      "  warn(\"Device model returned an invalid T_2 relaxation time greater than\"\n",
      "WARNING:qiskit_aer.noise.device.models:Device reported a gate error parameter greater than maximum allowed value (1.000000 > 0.800000). Truncating to maximum value.\n",
      "WARNING:qiskit_aer.noise.device.models:Device model returned a depolarizing error parameter greater than maximum allowed value (1.066986 > 1.066667). Truncating to maximum value.\n",
      "C:\\Users\\user\\anaconda3\\lib\\site-packages\\qiskit_aer\\noise\\device\\models.py:365: UserWarning: Device model returned an invalid T_2 relaxation time greater than the theoretical maximum value 2 * T_1 (160139.28564466984 > 2 * 64337.37278119189). Truncating to maximum value.\n",
      "  warn(\"Device model returned an invalid T_2 relaxation time greater than\"\n",
      "WARNING:qiskit_aer.noise.device.models:Device reported a gate error parameter greater than maximum allowed value (1.000000 > 0.800000). Truncating to maximum value.\n",
      "WARNING:qiskit_aer.noise.device.models:Device model returned a depolarizing error parameter greater than maximum allowed value (1.066961 > 1.066667). Truncating to maximum value.\n",
      "WARNING:qiskit_aer.noise.device.models:Device reported a gate error parameter greater than maximum allowed value (1.000000 > 0.800000). Truncating to maximum value.\n",
      "WARNING:qiskit_aer.noise.device.models:Device model returned a depolarizing error parameter greater than maximum allowed value (1.067997 > 1.066667). Truncating to maximum value.\n",
      "WARNING:qiskit_aer.noise.device.models:Device reported a gate error parameter greater than maximum allowed value (1.000000 > 0.800000). Truncating to maximum value.\n",
      "WARNING:qiskit_aer.noise.device.models:Device model returned a depolarizing error parameter greater than maximum allowed value (1.067927 > 1.066667). Truncating to maximum value.\n"
     ]
    },
    {
     "name": "stdout",
     "output_type": "stream",
     "text": [
      "NoiseModel:\n",
      "  Basis gates: ['cx', 'id', 'reset', 'rz', 'sx', 'x']\n",
      "  Instructions with noise: ['id', 'x', 'reset', 'sx', 'measure', 'cx']\n",
      "  Qubits with noise: [0, 1, 2, 3, 4, 5, 6, 7, 8, 9, 10, 11, 12, 13, 14, 15, 16, 17, 18, 19, 20, 21, 22, 23, 24, 25, 26]\n",
      "  Specific qubit errors: [('id', (0,)), ('id', (1,)), ('id', (2,)), ('id', (3,)), ('id', (4,)), ('id', (5,)), ('id', (6,)), ('id', (7,)), ('id', (8,)), ('id', (9,)), ('id', (10,)), ('id', (11,)), ('id', (12,)), ('id', (13,)), ('id', (14,)), ('id', (15,)), ('id', (16,)), ('id', (17,)), ('id', (18,)), ('id', (19,)), ('id', (20,)), ('id', (21,)), ('id', (22,)), ('id', (23,)), ('id', (24,)), ('id', (25,)), ('id', (26,)), ('sx', (0,)), ('sx', (1,)), ('sx', (2,)), ('sx', (3,)), ('sx', (4,)), ('sx', (5,)), ('sx', (6,)), ('sx', (7,)), ('sx', (8,)), ('sx', (9,)), ('sx', (10,)), ('sx', (11,)), ('sx', (12,)), ('sx', (13,)), ('sx', (14,)), ('sx', (15,)), ('sx', (16,)), ('sx', (17,)), ('sx', (18,)), ('sx', (19,)), ('sx', (20,)), ('sx', (21,)), ('sx', (22,)), ('sx', (23,)), ('sx', (24,)), ('sx', (25,)), ('sx', (26,)), ('x', (0,)), ('x', (1,)), ('x', (2,)), ('x', (3,)), ('x', (4,)), ('x', (5,)), ('x', (6,)), ('x', (7,)), ('x', (8,)), ('x', (9,)), ('x', (10,)), ('x', (11,)), ('x', (12,)), ('x', (13,)), ('x', (14,)), ('x', (15,)), ('x', (16,)), ('x', (17,)), ('x', (18,)), ('x', (19,)), ('x', (20,)), ('x', (21,)), ('x', (22,)), ('x', (23,)), ('x', (24,)), ('x', (25,)), ('x', (26,)), ('cx', (15, 12)), ('cx', (12, 15)), ('cx', (12, 13)), ('cx', (13, 12)), ('cx', (20, 19)), ('cx', (19, 20)), ('cx', (8, 11)), ('cx', (11, 8)), ('cx', (6, 7)), ('cx', (7, 6)), ('cx', (4, 7)), ('cx', (7, 4)), ('cx', (17, 18)), ('cx', (18, 17)), ('cx', (3, 2)), ('cx', (2, 3)), ('cx', (1, 2)), ('cx', (2, 1)), ('cx', (9, 8)), ('cx', (8, 9)), ('cx', (24, 23)), ('cx', (23, 24)), ('cx', (1, 4)), ('cx', (4, 1)), ('cx', (11, 14)), ('cx', (14, 11)), ('cx', (21, 18)), ('cx', (18, 21)), ('cx', (22, 19)), ('cx', (19, 22)), ('cx', (16, 19)), ('cx', (19, 16)), ('cx', (16, 14)), ('cx', (14, 16)), ('cx', (18, 15)), ('cx', (15, 18)), ('cx', (26, 25)), ('cx', (25, 26)), ('cx', (13, 14)), ('cx', (14, 13)), ('cx', (24, 25)), ('cx', (25, 24)), ('cx', (5, 8)), ('cx', (8, 5)), ('cx', (10, 12)), ('cx', (12, 10)), ('cx', (22, 25)), ('cx', (25, 22)), ('cx', (3, 5)), ('cx', (5, 3)), ('cx', (21, 23)), ('cx', (23, 21)), ('cx', (1, 0)), ('cx', (0, 1)), ('cx', (7, 10)), ('cx', (10, 7)), ('reset', (0,)), ('reset', (1,)), ('reset', (2,)), ('reset', (3,)), ('reset', (4,)), ('reset', (5,)), ('reset', (6,)), ('reset', (7,)), ('reset', (8,)), ('reset', (9,)), ('reset', (10,)), ('reset', (11,)), ('reset', (12,)), ('reset', (13,)), ('reset', (14,)), ('reset', (15,)), ('reset', (16,)), ('reset', (17,)), ('reset', (18,)), ('reset', (19,)), ('reset', (20,)), ('reset', (21,)), ('reset', (22,)), ('reset', (23,)), ('reset', (24,)), ('reset', (25,)), ('reset', (26,)), ('measure', (0,)), ('measure', (1,)), ('measure', (2,)), ('measure', (3,)), ('measure', (4,)), ('measure', (5,)), ('measure', (6,)), ('measure', (7,)), ('measure', (8,)), ('measure', (9,)), ('measure', (10,)), ('measure', (11,)), ('measure', (12,)), ('measure', (13,)), ('measure', (14,)), ('measure', (15,)), ('measure', (16,)), ('measure', (17,)), ('measure', (18,)), ('measure', (19,)), ('measure', (20,)), ('measure', (21,)), ('measure', (22,)), ('measure', (23,)), ('measure', (24,)), ('measure', (25,)), ('measure', (26,))]\n"
     ]
    },
    {
     "name": "stderr",
     "output_type": "stream",
     "text": [
      "C:\\Users\\user\\anaconda3\\lib\\site-packages\\qiskit_aer\\noise\\device\\models.py:365: UserWarning: Device model returned an invalid T_2 relaxation time greater than the theoretical maximum value 2 * T_1 (160139.28564466984 > 2 * 64337.37278119189). Truncating to maximum value.\n",
      "  warn(\"Device model returned an invalid T_2 relaxation time greater than\"\n",
      "C:\\Users\\user\\anaconda3\\lib\\site-packages\\qiskit_aer\\noise\\device\\models.py:365: UserWarning: Device model returned an invalid T_2 relaxation time greater than the theoretical maximum value 2 * T_1 (162301.71150088374 > 2 * 46101.266108694996). Truncating to maximum value.\n",
      "  warn(\"Device model returned an invalid T_2 relaxation time greater than\"\n",
      "C:\\Users\\user\\anaconda3\\lib\\site-packages\\qiskit_aer\\noise\\device\\models.py:365: UserWarning: Device model returned an invalid T_2 relaxation time greater than the theoretical maximum value 2 * T_1 (184172.43161080335 > 2 * 86146.25335891175). Truncating to maximum value.\n",
      "  warn(\"Device model returned an invalid T_2 relaxation time greater than\"\n",
      "C:\\Users\\user\\anaconda3\\lib\\site-packages\\qiskit_aer\\noise\\device\\models.py:365: UserWarning: Device model returned an invalid T_2 relaxation time greater than the theoretical maximum value 2 * T_1 (0.00016013928564466984 > 2 * 6.433737278119189e-05). Truncating to maximum value.\n",
      "  warn(\"Device model returned an invalid T_2 relaxation time greater than\"\n",
      "C:\\Users\\user\\anaconda3\\lib\\site-packages\\qiskit_aer\\noise\\device\\models.py:365: UserWarning: Device model returned an invalid T_2 relaxation time greater than the theoretical maximum value 2 * T_1 (0.00016230171150088377 > 2 * 4.6101266108694994e-05). Truncating to maximum value.\n",
      "  warn(\"Device model returned an invalid T_2 relaxation time greater than\"\n",
      "C:\\Users\\user\\anaconda3\\lib\\site-packages\\qiskit_aer\\noise\\device\\models.py:365: UserWarning: Device model returned an invalid T_2 relaxation time greater than the theoretical maximum value 2 * T_1 (0.00018417243161080336 > 2 * 8.614625335891176e-05). Truncating to maximum value.\n",
      "  warn(\"Device model returned an invalid T_2 relaxation time greater than\"\n"
     ]
    }
   ],
   "source": [
    "# Get the information about the device\n",
    "\n",
    "from qiskit_aer.noise import NoiseModel\n",
    "from qiskit.visualization import plot_gate_map\n",
    "\n",
    "backend = provider.get_backend('ibm_cairo')\n",
    "noise_model = NoiseModel.from_backend(backend)\n",
    "print(noise_model)"
   ]
  },
  {
   "cell_type": "code",
   "execution_count": 13,
   "id": "38264fa3",
   "metadata": {
    "ExecuteTime": {
     "end_time": "2022-12-06T14:22:44.221974Z",
     "start_time": "2022-12-06T14:22:44.053151Z"
    },
    "scrolled": true
   },
   "outputs": [
    {
     "data": {
      "image/png": "[encoded data removed]",
      "text/plain": [
       "<Figure size 360x360 with 1 Axes>"
      ]
     },
     "execution_count": 13,
     "metadata": {},
     "output_type": "execute_result"
    }
   ],
   "source": [
    "# Get coupling map from backend\n",
    "coupling_map = backend.configuration().coupling_map\n",
    "\n",
    "# Get backend coupling design in image\n",
    "plot_gate_map(backend)"
   ]
  },
  {
   "cell_type": "code",
   "execution_count": 14,
   "id": "01b1d1f9",
   "metadata": {
    "ExecuteTime": {
     "end_time": "2022-12-06T14:22:45.038203Z",
     "start_time": "2022-12-06T14:22:44.222861Z"
    },
    "scrolled": true
   },
   "outputs": [
    {
     "name": "stderr",
     "output_type": "stream",
     "text": [
      "C:\\Users\\user\\anaconda3\\lib\\site-packages\\qiskit_aer\\noise\\device\\models.py:365: UserWarning: Device model returned an invalid T_2 relaxation time greater than the theoretical maximum value 2 * T_1 (160139.28564466984 > 2 * 64337.37278119189). Truncating to maximum value.\n",
      "  warn(\"Device model returned an invalid T_2 relaxation time greater than\"\n",
      "C:\\Users\\user\\anaconda3\\lib\\site-packages\\qiskit_aer\\noise\\device\\models.py:365: UserWarning: Device model returned an invalid T_2 relaxation time greater than the theoretical maximum value 2 * T_1 (162301.71150088374 > 2 * 46101.266108694996). Truncating to maximum value.\n",
      "  warn(\"Device model returned an invalid T_2 relaxation time greater than\"\n",
      "C:\\Users\\user\\anaconda3\\lib\\site-packages\\qiskit_aer\\noise\\device\\models.py:365: UserWarning: Device model returned an invalid T_2 relaxation time greater than the theoretical maximum value 2 * T_1 (184172.43161080335 > 2 * 86146.25335891175). Truncating to maximum value.\n",
      "  warn(\"Device model returned an invalid T_2 relaxation time greater than\"\n",
      "C:\\Users\\user\\anaconda3\\lib\\site-packages\\qiskit_aer\\noise\\device\\models.py:365: UserWarning: Device model returned an invalid T_2 relaxation time greater than the theoretical maximum value 2 * T_1 (160139.28564466984 > 2 * 64337.37278119189). Truncating to maximum value.\n",
      "  warn(\"Device model returned an invalid T_2 relaxation time greater than\"\n",
      "C:\\Users\\user\\anaconda3\\lib\\site-packages\\qiskit_aer\\noise\\device\\models.py:365: UserWarning: Device model returned an invalid T_2 relaxation time greater than the theoretical maximum value 2 * T_1 (162301.71150088374 > 2 * 46101.266108694996). Truncating to maximum value.\n",
      "  warn(\"Device model returned an invalid T_2 relaxation time greater than\"\n",
      "C:\\Users\\user\\anaconda3\\lib\\site-packages\\qiskit_aer\\noise\\device\\models.py:365: UserWarning: Device model returned an invalid T_2 relaxation time greater than the theoretical maximum value 2 * T_1 (184172.43161080335 > 2 * 86146.25335891175). Truncating to maximum value.\n",
      "  warn(\"Device model returned an invalid T_2 relaxation time greater than\"\n",
      "C:\\Users\\user\\anaconda3\\lib\\site-packages\\qiskit_aer\\noise\\device\\models.py:365: UserWarning: Device model returned an invalid T_2 relaxation time greater than the theoretical maximum value 2 * T_1 (160139.28564466984 > 2 * 64337.37278119189). Truncating to maximum value.\n",
      "  warn(\"Device model returned an invalid T_2 relaxation time greater than\"\n",
      "C:\\Users\\user\\anaconda3\\lib\\site-packages\\qiskit_aer\\noise\\device\\models.py:365: UserWarning: Device model returned an invalid T_2 relaxation time greater than the theoretical maximum value 2 * T_1 (162301.71150088374 > 2 * 46101.266108694996). Truncating to maximum value.\n",
      "  warn(\"Device model returned an invalid T_2 relaxation time greater than\"\n",
      "C:\\Users\\user\\anaconda3\\lib\\site-packages\\qiskit_aer\\noise\\device\\models.py:365: UserWarning: Device model returned an invalid T_2 relaxation time greater than the theoretical maximum value 2 * T_1 (184172.43161080335 > 2 * 86146.25335891175). Truncating to maximum value.\n",
      "  warn(\"Device model returned an invalid T_2 relaxation time greater than\"\n",
      "C:\\Users\\user\\anaconda3\\lib\\site-packages\\qiskit_aer\\noise\\device\\models.py:365: UserWarning: Device model returned an invalid T_2 relaxation time greater than the theoretical maximum value 2 * T_1 (184172.43161080335 > 2 * 86146.25335891175). Truncating to maximum value.\n",
      "  warn(\"Device model returned an invalid T_2 relaxation time greater than\"\n",
      "C:\\Users\\user\\anaconda3\\lib\\site-packages\\qiskit_aer\\noise\\device\\models.py:365: UserWarning: Device model returned an invalid T_2 relaxation time greater than the theoretical maximum value 2 * T_1 (184172.43161080335 > 2 * 86146.25335891175). Truncating to maximum value.\n",
      "  warn(\"Device model returned an invalid T_2 relaxation time greater than\"\n",
      "C:\\Users\\user\\anaconda3\\lib\\site-packages\\qiskit_aer\\noise\\device\\models.py:365: UserWarning: Device model returned an invalid T_2 relaxation time greater than the theoretical maximum value 2 * T_1 (162301.71150088374 > 2 * 46101.266108694996). Truncating to maximum value.\n",
      "  warn(\"Device model returned an invalid T_2 relaxation time greater than\"\n",
      "C:\\Users\\user\\anaconda3\\lib\\site-packages\\qiskit_aer\\noise\\device\\models.py:365: UserWarning: Device model returned an invalid T_2 relaxation time greater than the theoretical maximum value 2 * T_1 (162301.71150088374 > 2 * 46101.266108694996). Truncating to maximum value.\n",
      "  warn(\"Device model returned an invalid T_2 relaxation time greater than\"\n",
      "C:\\Users\\user\\anaconda3\\lib\\site-packages\\qiskit_aer\\noise\\device\\models.py:365: UserWarning: Device model returned an invalid T_2 relaxation time greater than the theoretical maximum value 2 * T_1 (184172.43161080335 > 2 * 86146.25335891175). Truncating to maximum value.\n",
      "  warn(\"Device model returned an invalid T_2 relaxation time greater than\"\n",
      "C:\\Users\\user\\anaconda3\\lib\\site-packages\\qiskit_aer\\noise\\device\\models.py:365: UserWarning: Device model returned an invalid T_2 relaxation time greater than the theoretical maximum value 2 * T_1 (184172.43161080335 > 2 * 86146.25335891175). Truncating to maximum value.\n",
      "  warn(\"Device model returned an invalid T_2 relaxation time greater than\"\n",
      "C:\\Users\\user\\anaconda3\\lib\\site-packages\\qiskit_aer\\noise\\device\\models.py:365: UserWarning: Device model returned an invalid T_2 relaxation time greater than the theoretical maximum value 2 * T_1 (162301.71150088374 > 2 * 46101.266108694996). Truncating to maximum value.\n",
      "  warn(\"Device model returned an invalid T_2 relaxation time greater than\"\n",
      "C:\\Users\\user\\anaconda3\\lib\\site-packages\\qiskit_aer\\noise\\device\\models.py:365: UserWarning: Device model returned an invalid T_2 relaxation time greater than the theoretical maximum value 2 * T_1 (162301.71150088374 > 2 * 46101.266108694996). Truncating to maximum value.\n",
      "  warn(\"Device model returned an invalid T_2 relaxation time greater than\"\n",
      "C:\\Users\\user\\anaconda3\\lib\\site-packages\\qiskit_aer\\noise\\device\\models.py:365: UserWarning: Device model returned an invalid T_2 relaxation time greater than the theoretical maximum value 2 * T_1 (160139.28564466984 > 2 * 64337.37278119189). Truncating to maximum value.\n",
      "  warn(\"Device model returned an invalid T_2 relaxation time greater than\"\n",
      "WARNING:qiskit_aer.noise.device.models:Device reported a gate error parameter greater than maximum allowed value (1.000000 > 0.800000). Truncating to maximum value.\n",
      "WARNING:qiskit_aer.noise.device.models:Device model returned a depolarizing error parameter greater than maximum allowed value (1.066986 > 1.066667). Truncating to maximum value.\n",
      "C:\\Users\\user\\anaconda3\\lib\\site-packages\\qiskit_aer\\noise\\device\\models.py:365: UserWarning: Device model returned an invalid T_2 relaxation time greater than the theoretical maximum value 2 * T_1 (160139.28564466984 > 2 * 64337.37278119189). Truncating to maximum value.\n",
      "  warn(\"Device model returned an invalid T_2 relaxation time greater than\"\n",
      "WARNING:qiskit_aer.noise.device.models:Device reported a gate error parameter greater than maximum allowed value (1.000000 > 0.800000). Truncating to maximum value.\n",
      "WARNING:qiskit_aer.noise.device.models:Device model returned a depolarizing error parameter greater than maximum allowed value (1.066961 > 1.066667). Truncating to maximum value.\n",
      "WARNING:qiskit_aer.noise.device.models:Device reported a gate error parameter greater than maximum allowed value (1.000000 > 0.800000). Truncating to maximum value.\n",
      "WARNING:qiskit_aer.noise.device.models:Device model returned a depolarizing error parameter greater than maximum allowed value (1.067997 > 1.066667). Truncating to maximum value.\n",
      "WARNING:qiskit_aer.noise.device.models:Device reported a gate error parameter greater than maximum allowed value (1.000000 > 0.800000). Truncating to maximum value.\n",
      "WARNING:qiskit_aer.noise.device.models:Device model returned a depolarizing error parameter greater than maximum allowed value (1.067927 > 1.066667). Truncating to maximum value.\n"
     ]
    },
    {
     "name": "stdout",
     "output_type": "stream",
     "text": [
      "NoiseModel:\n",
      "  Basis gates: ['cx', 'id', 'reset', 'rz', 'sx', 'x']\n",
      "  Instructions with noise: ['id', 'x', 'reset', 'sx', 'measure', 'cx']\n",
      "  Qubits with noise: [0, 1, 2, 3, 4, 5, 6, 7, 8, 9, 10, 11, 12, 13, 14, 15, 16, 17, 18, 19, 20, 21, 22, 23, 24, 25, 26]\n",
      "  Specific qubit errors: [('id', (0,)), ('id', (1,)), ('id', (2,)), ('id', (3,)), ('id', (4,)), ('id', (5,)), ('id', (6,)), ('id', (7,)), ('id', (8,)), ('id', (9,)), ('id', (10,)), ('id', (11,)), ('id', (12,)), ('id', (13,)), ('id', (14,)), ('id', (15,)), ('id', (16,)), ('id', (17,)), ('id', (18,)), ('id', (19,)), ('id', (20,)), ('id', (21,)), ('id', (22,)), ('id', (23,)), ('id', (24,)), ('id', (25,)), ('id', (26,)), ('sx', (0,)), ('sx', (1,)), ('sx', (2,)), ('sx', (3,)), ('sx', (4,)), ('sx', (5,)), ('sx', (6,)), ('sx', (7,)), ('sx', (8,)), ('sx', (9,)), ('sx', (10,)), ('sx', (11,)), ('sx', (12,)), ('sx', (13,)), ('sx', (14,)), ('sx', (15,)), ('sx', (16,)), ('sx', (17,)), ('sx', (18,)), ('sx', (19,)), ('sx', (20,)), ('sx', (21,)), ('sx', (22,)), ('sx', (23,)), ('sx', (24,)), ('sx', (25,)), ('sx', (26,)), ('x', (0,)), ('x', (1,)), ('x', (2,)), ('x', (3,)), ('x', (4,)), ('x', (5,)), ('x', (6,)), ('x', (7,)), ('x', (8,)), ('x', (9,)), ('x', (10,)), ('x', (11,)), ('x', (12,)), ('x', (13,)), ('x', (14,)), ('x', (15,)), ('x', (16,)), ('x', (17,)), ('x', (18,)), ('x', (19,)), ('x', (20,)), ('x', (21,)), ('x', (22,)), ('x', (23,)), ('x', (24,)), ('x', (25,)), ('x', (26,)), ('cx', (15, 12)), ('cx', (12, 15)), ('cx', (12, 13)), ('cx', (13, 12)), ('cx', (20, 19)), ('cx', (19, 20)), ('cx', (8, 11)), ('cx', (11, 8)), ('cx', (6, 7)), ('cx', (7, 6)), ('cx', (4, 7)), ('cx', (7, 4)), ('cx', (17, 18)), ('cx', (18, 17)), ('cx', (3, 2)), ('cx', (2, 3)), ('cx', (1, 2)), ('cx', (2, 1)), ('cx', (9, 8)), ('cx', (8, 9)), ('cx', (24, 23)), ('cx', (23, 24)), ('cx', (1, 4)), ('cx', (4, 1)), ('cx', (11, 14)), ('cx', (14, 11)), ('cx', (21, 18)), ('cx', (18, 21)), ('cx', (22, 19)), ('cx', (19, 22)), ('cx', (16, 19)), ('cx', (19, 16)), ('cx', (16, 14)), ('cx', (14, 16)), ('cx', (18, 15)), ('cx', (15, 18)), ('cx', (26, 25)), ('cx', (25, 26)), ('cx', (13, 14)), ('cx', (14, 13)), ('cx', (24, 25)), ('cx', (25, 24)), ('cx', (5, 8)), ('cx', (8, 5)), ('cx', (10, 12)), ('cx', (12, 10)), ('cx', (22, 25)), ('cx', (25, 22)), ('cx', (3, 5)), ('cx', (5, 3)), ('cx', (21, 23)), ('cx', (23, 21)), ('cx', (1, 0)), ('cx', (0, 1)), ('cx', (7, 10)), ('cx', (10, 7)), ('reset', (0,)), ('reset', (1,)), ('reset', (2,)), ('reset', (3,)), ('reset', (4,)), ('reset', (5,)), ('reset', (6,)), ('reset', (7,)), ('reset', (8,)), ('reset', (9,)), ('reset', (10,)), ('reset', (11,)), ('reset', (12,)), ('reset', (13,)), ('reset', (14,)), ('reset', (15,)), ('reset', (16,)), ('reset', (17,)), ('reset', (18,)), ('reset', (19,)), ('reset', (20,)), ('reset', (21,)), ('reset', (22,)), ('reset', (23,)), ('reset', (24,)), ('reset', (25,)), ('reset', (26,)), ('measure', (0,)), ('measure', (1,)), ('measure', (2,)), ('measure', (3,)), ('measure', (4,)), ('measure', (5,)), ('measure', (6,)), ('measure', (7,)), ('measure', (8,)), ('measure', (9,)), ('measure', (10,)), ('measure', (11,)), ('measure', (12,)), ('measure', (13,)), ('measure', (14,)), ('measure', (15,)), ('measure', (16,)), ('measure', (17,)), ('measure', (18,)), ('measure', (19,)), ('measure', (20,)), ('measure', (21,)), ('measure', (22,)), ('measure', (23,)), ('measure', (24,)), ('measure', (25,)), ('measure', (26,))]\n"
     ]
    },
    {
     "name": "stderr",
     "output_type": "stream",
     "text": [
      "C:\\Users\\user\\anaconda3\\lib\\site-packages\\qiskit_aer\\noise\\device\\models.py:365: UserWarning: Device model returned an invalid T_2 relaxation time greater than the theoretical maximum value 2 * T_1 (160139.28564466984 > 2 * 64337.37278119189). Truncating to maximum value.\n",
      "  warn(\"Device model returned an invalid T_2 relaxation time greater than\"\n",
      "C:\\Users\\user\\anaconda3\\lib\\site-packages\\qiskit_aer\\noise\\device\\models.py:365: UserWarning: Device model returned an invalid T_2 relaxation time greater than the theoretical maximum value 2 * T_1 (162301.71150088374 > 2 * 46101.266108694996). Truncating to maximum value.\n",
      "  warn(\"Device model returned an invalid T_2 relaxation time greater than\"\n",
      "C:\\Users\\user\\anaconda3\\lib\\site-packages\\qiskit_aer\\noise\\device\\models.py:365: UserWarning: Device model returned an invalid T_2 relaxation time greater than the theoretical maximum value 2 * T_1 (184172.43161080335 > 2 * 86146.25335891175). Truncating to maximum value.\n",
      "  warn(\"Device model returned an invalid T_2 relaxation time greater than\"\n",
      "C:\\Users\\user\\anaconda3\\lib\\site-packages\\qiskit_aer\\noise\\device\\models.py:365: UserWarning: Device model returned an invalid T_2 relaxation time greater than the theoretical maximum value 2 * T_1 (0.00016013928564466984 > 2 * 6.433737278119189e-05). Truncating to maximum value.\n",
      "  warn(\"Device model returned an invalid T_2 relaxation time greater than\"\n",
      "C:\\Users\\user\\anaconda3\\lib\\site-packages\\qiskit_aer\\noise\\device\\models.py:365: UserWarning: Device model returned an invalid T_2 relaxation time greater than the theoretical maximum value 2 * T_1 (0.00016230171150088377 > 2 * 4.6101266108694994e-05). Truncating to maximum value.\n",
      "  warn(\"Device model returned an invalid T_2 relaxation time greater than\"\n",
      "C:\\Users\\user\\anaconda3\\lib\\site-packages\\qiskit_aer\\noise\\device\\models.py:365: UserWarning: Device model returned an invalid T_2 relaxation time greater than the theoretical maximum value 2 * T_1 (0.00018417243161080336 > 2 * 8.614625335891176e-05). Truncating to maximum value.\n",
      "  warn(\"Device model returned an invalid T_2 relaxation time greater than\"\n"
     ]
    }
   ],
   "source": [
    "noise_model = NoiseModel.from_backend(backend)\n",
    "print(noise_model)"
   ]
  },
  {
   "cell_type": "code",
   "execution_count": 15,
   "id": "bb8d3283",
   "metadata": {
    "ExecuteTime": {
     "end_time": "2022-12-06T14:22:45.052839Z",
     "start_time": "2022-12-06T14:22:45.040207Z"
    }
   },
   "outputs": [],
   "source": [
    "dev = qml.device('qiskit.aer', wires=2, noise_model=noise_model)"
   ]
  },
  {
   "cell_type": "code",
   "execution_count": null,
   "id": "86e0a52a",
   "metadata": {},
   "outputs": [],
   "source": []
  },
  {
   "cell_type": "code",
   "execution_count": null,
   "id": "1cc486f1",
   "metadata": {},
   "outputs": [],
   "source": []
  },
  {
   "cell_type": "code",
   "execution_count": null,
   "id": "30827f7f",
   "metadata": {},
   "outputs": [],
   "source": []
  },
  {
   "cell_type": "code",
   "execution_count": null,
   "id": "c05182c8",
   "metadata": {},
   "outputs": [],
   "source": []
  }
 ],
 "metadata": {
  "kernelspec": {
   "display_name": "Agent1",
   "language": "python",
   "name": "agent1"
  },
  "language_info": {
   "codemirror_mode": {
    "name": "ipython",
    "version": 3
   },
   "file_extension": ".py",
   "mimetype": "text/x-python",
   "name": "python",
   "nbconvert_exporter": "python",
   "pygments_lexer": "ipython3",
   "version": "3.9.12"
  },
  "notify_time": "10",
  "toc": {
   "base_numbering": 1,
   "nav_menu": {},
   "number_sections": true,
   "sideBar": true,
   "skip_h1_title": false,
   "title_cell": "Table of Contents",
   "title_sidebar": "Contents",
   "toc_cell": false,
   "toc_position": {},
   "toc_section_display": true,
   "toc_window_display": false
  },
  "varInspector": {
   "cols": {
    "lenName": 16,
    "lenType": 16,
    "lenVar": 40
   },
   "kernels_config": {
    "python": {
     "delete_cmd_postfix": "",
     "delete_cmd_prefix": "del ",
     "library": "var_list.py",
     "varRefreshCmd": "print(var_dic_list())"
    },
    "r": {
     "delete_cmd_postfix": ") ",
     "delete_cmd_prefix": "rm(",
     "library": "var_list.r",
     "varRefreshCmd": "cat(var_dic_list()) "
    }
   },
   "types_to_exclude": [
    "module",
    "function",
    "builtin_function_or_method",
    "instance",
    "_Feature"
   ],
   "window_display": false
  }
 },
 "nbformat": 4,
 "nbformat_minor": 5
}
