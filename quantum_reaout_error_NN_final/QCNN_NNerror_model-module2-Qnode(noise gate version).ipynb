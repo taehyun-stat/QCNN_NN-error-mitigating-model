{
 "cells": [
  {
   "cell_type": "markdown",
   "id": "bbe42d63",
   "metadata": {
    "toc": true
   },
   "source": [
    "<h1>Table of Contents<span class=\"tocSkip\"></span></h1>\n",
    "<div class=\"toc\"><ul class=\"toc-item\"><li><span><a href=\"#Preparations\" data-toc-modified-id=\"Preparations-0\"><span class=\"toc-item-num\">0&nbsp;&nbsp;</span>Preparations</a></span><ul class=\"toc-item\"><li><span><a href=\"#Adjusting-Jupyter's-display\" data-toc-modified-id=\"Adjusting-Jupyter's-display-0.1\"><span class=\"toc-item-num\">0.1&nbsp;&nbsp;</span>Adjusting Jupyter's display</a></span></li><li><span><a href=\"#Creating-'Result'-folder\" data-toc-modified-id=\"Creating-'Result'-folder-0.2\"><span class=\"toc-item-num\">0.2&nbsp;&nbsp;</span>Creating 'Result' folder</a></span></li></ul></li><li><span><a href=\"#Install-/-Loading-packages\" data-toc-modified-id=\"Install-/-Loading-packages-1\"><span class=\"toc-item-num\">1&nbsp;&nbsp;</span>Install / Loading packages</a></span></li><li><span><a href=\"#Data-Preparation\" data-toc-modified-id=\"Data-Preparation-2\"><span class=\"toc-item-num\">2&nbsp;&nbsp;</span>Data Preparation</a></span><ul class=\"toc-item\"><li><span><a href=\"#Module---1_data\" data-toc-modified-id=\"Module---1_data-2.1\"><span class=\"toc-item-num\">2.1&nbsp;&nbsp;</span>Module - 1_data</a></span></li><li><span><a href=\"#Let's-check-the-datasets-using-data_load_and_process\" data-toc-modified-id=\"Let's-check-the-datasets-using-data_load_and_process-2.2\"><span class=\"toc-item-num\">2.2&nbsp;&nbsp;</span>Let's check the datasets using <code>data_load_and_process</code></a></span></li></ul></li><li><span><a href=\"#QCNN-circuits-represented-into-Qnode\" data-toc-modified-id=\"QCNN-circuits-represented-into-Qnode-3\"><span class=\"toc-item-num\">3&nbsp;&nbsp;</span>QCNN circuits represented into Qnode</a></span></li><li><span><a href=\"#CNN-and-QCNN-circuit-build\" data-toc-modified-id=\"CNN-and-QCNN-circuit-build-4\"><span class=\"toc-item-num\">4&nbsp;&nbsp;</span>CNN and QCNN circuit build</a></span><ul class=\"toc-item\"><li><span><a href=\"#CNN-circuit\" data-toc-modified-id=\"CNN-circuit-4.1\"><span class=\"toc-item-num\">4.1&nbsp;&nbsp;</span>CNN circuit</a></span></li><li><span><a href=\"#QCNN-circuit\" data-toc-modified-id=\"QCNN-circuit-4.2\"><span class=\"toc-item-num\">4.2&nbsp;&nbsp;</span>QCNN circuit</a></span></li></ul></li><li><span><a href=\"#Qnode-example-from-PennyLane\" data-toc-modified-id=\"Qnode-example-from-PennyLane-5\"><span class=\"toc-item-num\">5&nbsp;&nbsp;</span>Qnode example from PennyLane</a></span><ul class=\"toc-item\"><li><ul class=\"toc-item\"><li><span><a href=\"#Defining-Qnode\" data-toc-modified-id=\"Defining-Qnode-5.0.1\"><span class=\"toc-item-num\">5.0.1&nbsp;&nbsp;</span>Defining Qnode</a></span></li><li><span><a href=\"#Statevector-result-in-Pennylane\" data-toc-modified-id=\"Statevector-result-in-Pennylane-5.0.2\"><span class=\"toc-item-num\">5.0.2&nbsp;&nbsp;</span>Statevector result in Pennylane</a></span></li><li><span><a href=\"#Qnode-Example\" data-toc-modified-id=\"Qnode-Example-5.0.3\"><span class=\"toc-item-num\">5.0.3&nbsp;&nbsp;</span>Qnode Example</a></span></li></ul></li></ul></li><li><span><a href=\"#QCNN---QNODE\" data-toc-modified-id=\"QCNN---QNODE-6\"><span class=\"toc-item-num\">6&nbsp;&nbsp;</span>QCNN - QNODE</a></span><ul class=\"toc-item\"><li><span><a href=\"#Creating-devices---simulator-with-/-without-noise\" data-toc-modified-id=\"Creating-devices---simulator-with-/-without-noise-6.1\"><span class=\"toc-item-num\">6.1&nbsp;&nbsp;</span>Creating devices - simulator with / without noise</a></span><ul class=\"toc-item\"><li><span><a href=\"#Custum-Noise-Model\" data-toc-modified-id=\"Custum-Noise-Model-6.1.1\"><span class=\"toc-item-num\">6.1.1&nbsp;&nbsp;</span>Custum Noise Model</a></span></li></ul></li><li><span><a href=\"#Dataset---MNIST\" data-toc-modified-id=\"Dataset---MNIST-6.2\"><span class=\"toc-item-num\">6.2&nbsp;&nbsp;</span>Dataset - MNIST</a></span></li><li><span><a href=\"#QCNN-circuits-w/-noise-gates\" data-toc-modified-id=\"QCNN-circuits-w/-noise-gates-6.3\"><span class=\"toc-item-num\">6.3&nbsp;&nbsp;</span>QCNN circuits w/ noise gates</a></span><ul class=\"toc-item\"><li><span><a href=\"#Circuit-specifications\" data-toc-modified-id=\"Circuit-specifications-6.3.1\"><span class=\"toc-item-num\">6.3.1&nbsp;&nbsp;</span>Circuit specifications</a></span></li><li><span><a href=\"#Circuit-Optimization-/-Results\" data-toc-modified-id=\"Circuit-Optimization-/-Results-6.3.2\"><span class=\"toc-item-num\">6.3.2&nbsp;&nbsp;</span>Circuit Optimization / Results</a></span></li></ul></li></ul></li></ul></div>"
   ]
  },
  {
   "cell_type": "code",
   "execution_count": null,
   "id": "71a65a92",
   "metadata": {},
   "outputs": [],
   "source": []
  },
  {
   "cell_type": "markdown",
   "id": "bcdb02fa",
   "metadata": {},
   "source": [
    "# Preparations"
   ]
  },
  {
   "cell_type": "markdown",
   "id": "87552499",
   "metadata": {},
   "source": [
    "## Adjusting Jupyter's display\n",
    "- You can increase the width of the display of the jupyter notebook by adjusting the HTML style.\n",
    "    - Adjust the width's percentage.\n",
    "- If it's not necessary, dont' execute the code."
   ]
  },
  {
   "cell_type": "code",
   "execution_count": 53,
   "id": "1c5c591a",
   "metadata": {
    "ExecuteTime": {
     "end_time": "2022-12-06T17:43:58.387343Z",
     "start_time": "2022-12-06T17:43:58.372824Z"
    },
    "scrolled": true
   },
   "outputs": [
    {
     "data": {
      "text/html": [
       "<style>.container { width:65% !important; }</style>"
      ],
      "text/plain": [
       "<IPython.core.display.HTML object>"
      ]
     },
     "metadata": {},
     "output_type": "display_data"
    }
   ],
   "source": [
    "from IPython.display import display, HTML\n",
    "display(HTML(\"<style>.container { width:65% !important; }</style>\"))"
   ]
  },
  {
   "cell_type": "markdown",
   "id": "b08d8b63",
   "metadata": {},
   "source": [
    "## Creating 'Result' folder\n",
    "- [\"how to create folder in python\"](https://www.codegrepper.com/code-examples/python/how+to+create+folder+in+python)"
   ]
  },
  {
   "cell_type": "code",
   "execution_count": 54,
   "id": "46a079a8",
   "metadata": {
    "ExecuteTime": {
     "end_time": "2022-12-06T17:43:58.402408Z",
     "start_time": "2022-12-06T17:43:58.388345Z"
    },
    "code_folding": []
   },
   "outputs": [],
   "source": [
    "import os\n",
    "\n",
    "newpath = 'Result'\n",
    "if not os.path.exists(newpath):\n",
    "    os.makedirs(newpath)"
   ]
  },
  {
   "cell_type": "markdown",
   "id": "22040aa1",
   "metadata": {},
   "source": [
    "# Install / Loading packages"
   ]
  },
  {
   "cell_type": "code",
   "execution_count": 55,
   "id": "fe5adf50",
   "metadata": {
    "ExecuteTime": {
     "end_time": "2022-12-06T17:43:58.417984Z",
     "start_time": "2022-12-06T17:43:58.403414Z"
    },
    "scrolled": true
   },
   "outputs": [],
   "source": [
    "# !pip install pennylane\n",
    "# !pip install tensorflow"
   ]
  },
  {
   "cell_type": "code",
   "execution_count": null,
   "id": "b2b90e4d",
   "metadata": {},
   "outputs": [],
   "source": []
  },
  {
   "cell_type": "markdown",
   "id": "cd3ad8d9",
   "metadata": {},
   "source": [
    "# Data Preparation\n",
    "- 'MNIST' data is a dataset of 60,000, 28$\\times$28 grayscale images of the 10 digits, along with a test set of 10,000 images.\n",
    "- Each pixel has grey scale value that ranges from 0 to 255.\n",
    "- More info can be found at the [MNIST homepage](http://yann.lecun.com/exdb/mnist/).\n",
    "- QCNN : https://github.com/takh04/QCNN/blob/main/README.md"
   ]
  },
  {
   "cell_type": "code",
   "execution_count": 56,
   "id": "829e30ba",
   "metadata": {
    "ExecuteTime": {
     "end_time": "2022-12-06T17:43:58.433604Z",
     "start_time": "2022-12-06T17:43:58.418958Z"
    }
   },
   "outputs": [],
   "source": [
    "# # Add directory path of the python-module files to import them.\n",
    "# import sys\n",
    "# # sys.path.insert(0,'C:/Users/THK/Desktop/qauntum_readout_error_NN/QCNN-main/Final_QCNN')\n",
    "# # sys.path"
   ]
  },
  {
   "cell_type": "code",
   "execution_count": 57,
   "id": "456405c8",
   "metadata": {
    "ExecuteTime": {
     "end_time": "2022-12-06T17:43:58.448989Z",
     "start_time": "2022-12-06T17:43:58.434490Z"
    },
    "scrolled": true
   },
   "outputs": [],
   "source": [
    "# import sys\n",
    "# import os\n",
    "\n",
    "# sys.path.append(os.path.abspath('C:/Users/THK/Desktop/qauntum_readout_error_NN/QCNN_modules'))\n",
    "# sys.path"
   ]
  },
  {
   "cell_type": "markdown",
   "id": "0c204682",
   "metadata": {},
   "source": [
    "To see if the directory path is added to the sys.path, check `sys.path`"
   ]
  },
  {
   "cell_type": "markdown",
   "id": "23a538e7",
   "metadata": {},
   "source": [
    "## Module - 1_data"
   ]
  },
  {
   "cell_type": "code",
   "execution_count": 58,
   "id": "43e6cf38",
   "metadata": {
    "ExecuteTime": {
     "end_time": "2022-12-06T17:43:58.464097Z",
     "start_time": "2022-12-06T17:43:58.449988Z"
    }
   },
   "outputs": [],
   "source": [
    "# # Run modules\n",
    "%run QCNN_modules2/data.py"
   ]
  },
  {
   "cell_type": "markdown",
   "id": "dd4f2879",
   "metadata": {},
   "source": [
    "Function Descriptions:\n",
    "- `data_load_and_process(dataset, classes = [0, 1], feature_reduction = 'resize256', binary = True)`\n",
    "    - <u>dataset</u>: choose the dataset (**'mnist'** or **'fashion_mnist'**)\n",
    "    - <u>classes</u>: choose the type of y-classes (**'odd_even'**, **'>4'**, **[0, 1]**)\n",
    "    - <u>feature_reduction</u>: choose the method of dimension reduction with the number of features to be selected\n",
    "        - For Amplitude encoding     : **'resize256'**\n",
    "        - For Qubit encoding         : **'pca8'**, **'autoencoder8'**\n",
    "        - For Dense qubit encoding   : **'pca16-1', 'pca16-2', 'pca16-3', 'pca16-4', 'pca16-compact'**, **'autoencoder16-1', 'autoencoder16-2', 'autoencoder16-3', 'autoencoder16-4', 'autoencoder16-compact'**\n",
    "        - For Hybrid direct encoding : **'pca32-1', 'pca32-2', 'pca32-3', 'pca32-4'**, **'autoencoder32-1', 'autoencoder32-2', 'autoencoder32-3', 'autoencoder32-4'**\n",
    "        - For Hybrid angle encoding  : **'pca30-1', 'pca30-2', 'pca30-3', 'pca30-4'**, **'autoencoder30-1', 'autoencoder30-2', 'autoencoder30-3', 'autoencoder30-4'**\n",
    "        - For extra                  : **'pca12-1', 'pca12-2', 'pca12-3', 'pca12-4'**, **'autoencoder12-1', 'autoencoder12-2', 'autoencoder12-3', 'autoencoder12-4'**\n",
    "    - <u>binary</u>: If 'True', dataset splits 'y classes' into +1, and -1.(**'True'**, or **'False'**). When using 'cross entropy loss', use binary=**False**. If using 'mse_loss' use binary=**True**.\n",
    "\n",
    "\n",
    "- This function returns normalized, dimensions reduced datasets ready to be used to train the model: X_train, X_test, Y_train, Y_test"
   ]
  },
  {
   "cell_type": "markdown",
   "id": "6043e4f4",
   "metadata": {},
   "source": [
    "## Let's check the datasets using `data_load_and_process`\n",
    "- Let's upload the dataset using `data_load_and_process` and check its dimensions, size, and the number of features which we will be using."
   ]
  },
  {
   "cell_type": "code",
   "execution_count": 59,
   "id": "e85316c2",
   "metadata": {
    "ExecuteTime": {
     "end_time": "2022-12-06T17:43:59.094463Z",
     "start_time": "2022-12-06T17:43:58.465060Z"
    }
   },
   "outputs": [],
   "source": [
    "# Generate datasets\n",
    "dataset_name = 'mnist'\n",
    "feature_reduction_method = 'pca8'\n",
    "\n",
    "# Get 'mnist' with {0, 1} classes\n",
    "X_train, X_test, Y_train, Y_test = data_load_and_process(dataset=dataset_name,\n",
    "                                                         classes=[0, 1],\n",
    "                                                         feature_reduction=feature_reduction_method,\n",
    "                                                         binary=True)"
   ]
  },
  {
   "cell_type": "code",
   "execution_count": 60,
   "id": "395a3e94",
   "metadata": {
    "ExecuteTime": {
     "end_time": "2022-12-06T17:43:59.110005Z",
     "start_time": "2022-12-06T17:43:59.095443Z"
    },
    "scrolled": false
   },
   "outputs": [
    {
     "name": "stdout",
     "output_type": "stream",
     "text": [
      "Dimensions of `mnist` Train / Test data\n",
      "Feature reduction method: `pca8`\n",
      "Name of the dataset (num_obs, num_features):\n",
      "  X_train: (12665, 8)\n",
      "  Y_train: 12665\n",
      "  X_test : (2115, 8)\n",
      "  Y_test : 2115\n"
     ]
    }
   ],
   "source": [
    "# Dimensions of the generated datasets\n",
    "print('Dimensions of `' + str(dataset_name) + '` Train / Test data')\n",
    "print('Feature reduction method: `' + str(feature_reduction_method) + '`')\n",
    "print('Name of the dataset (num_obs, num_features):')\n",
    "print('  X_train: ' + str(X_train.shape))\n",
    "print('  Y_train: ' + str(len(Y_train)))\n",
    "print('  X_test : ' + str(X_test.shape))\n",
    "print('  Y_test : ' + str(len(Y_test)))"
   ]
  },
  {
   "cell_type": "code",
   "execution_count": 61,
   "id": "9dd3f8b4",
   "metadata": {
    "ExecuteTime": {
     "end_time": "2022-12-06T17:43:59.124963Z",
     "start_time": "2022-12-06T17:43:59.110984Z"
    }
   },
   "outputs": [
    {
     "data": {
      "text/plain": [
       "[1, -1, -1, -1]"
      ]
     },
     "execution_count": 61,
     "metadata": {},
     "output_type": "execute_result"
    }
   ],
   "source": [
    "Y_train[0:4]"
   ]
  },
  {
   "cell_type": "markdown",
   "id": "f122d7ab",
   "metadata": {},
   "source": []
  },
  {
   "cell_type": "markdown",
   "id": "d6a0ff57",
   "metadata": {},
   "source": [
    "# QCNN circuits represented into Qnode"
   ]
  },
  {
   "cell_type": "code",
   "execution_count": null,
   "id": "b8c04754",
   "metadata": {},
   "outputs": [],
   "source": []
  },
  {
   "cell_type": "code",
   "execution_count": null,
   "id": "5aab7436",
   "metadata": {},
   "outputs": [],
   "source": []
  },
  {
   "cell_type": "code",
   "execution_count": 62,
   "id": "5312c41c",
   "metadata": {
    "ExecuteTime": {
     "end_time": "2022-12-06T17:43:59.139967Z",
     "start_time": "2022-12-06T17:43:59.126941Z"
    },
    "scrolled": false
   },
   "outputs": [],
   "source": [
    "# import numpy as np\n",
    "# import math\n",
    "# import tensorflow as tf\n",
    "# from sklearn.decomposition import PCA\n",
    "# from tensorflow.keras.models import Model\n",
    "# from tensorflow.keras import layers, losses\n",
    "# import torch\n",
    "# import torch.nn as nn\n",
    "\n",
    "import time"
   ]
  },
  {
   "cell_type": "code",
   "execution_count": null,
   "id": "46859080",
   "metadata": {},
   "outputs": [],
   "source": []
  },
  {
   "cell_type": "code",
   "execution_count": null,
   "id": "e69c4d54",
   "metadata": {},
   "outputs": [],
   "source": []
  },
  {
   "cell_type": "code",
   "execution_count": null,
   "id": "ca7ce05c",
   "metadata": {},
   "outputs": [],
   "source": []
  },
  {
   "cell_type": "code",
   "execution_count": null,
   "id": "6a998a99",
   "metadata": {},
   "outputs": [],
   "source": []
  },
  {
   "cell_type": "markdown",
   "id": "c1a97a25",
   "metadata": {},
   "source": [
    "# CNN and QCNN circuit build"
   ]
  },
  {
   "cell_type": "markdown",
   "id": "80ff7098",
   "metadata": {},
   "source": [
    "## CNN circuit\n",
    "- It builds classcial CNN circuit with same datasets given by `data_load_and_process`\n",
    "- py file optimizes and benchmarks of the CNN model when it is executed."
   ]
  },
  {
   "cell_type": "code",
   "execution_count": 63,
   "id": "b3496941",
   "metadata": {
    "ExecuteTime": {
     "end_time": "2022-12-06T17:43:59.155033Z",
     "start_time": "2022-12-06T17:43:59.140966Z"
    }
   },
   "outputs": [],
   "source": [
    "# # Run module\n",
    "# %run QCNN_modules2/CNN.py"
   ]
  },
  {
   "cell_type": "code",
   "execution_count": null,
   "id": "aedc2692",
   "metadata": {},
   "outputs": [],
   "source": []
  },
  {
   "cell_type": "markdown",
   "id": "ab38b671",
   "metadata": {},
   "source": [
    "## QCNN circuit"
   ]
  },
  {
   "cell_type": "markdown",
   "id": "5ac920a2",
   "metadata": {},
   "source": [
    "- We will making QCNN circuits based on the given 'Data encoding' and 'Ansatz'. \n",
    "- Here are some informations about the building blocks of the QCNN circuits.\n",
    "\n",
    "![QCNN_boundary](img/QCNN_boundary.png)"
   ]
  },
  {
   "cell_type": "markdown",
   "id": "3b0575a4",
   "metadata": {},
   "source": [
    "- Data encoding(5): `embedding_type`\n",
    "    - Amplitude encoding     : **Amplitude**\n",
    "    - Qubit encoding         : **Angle**\n",
    "    - Dense qubit encoding   : **Angle-compact**\n",
    "    - Hybrid Direct encoding : **'Amplitude-Hybrid2-1, 2, 3, 4**, **Amplitude-Hybrid4-1, 2, 3, 4**\n",
    "    - Hybrid Angle encoding  : **'Angular-Hybrid2-1, 2, 3, 4**, **Angular-Hybrid4-1, 2, 3, 4**\n",
    "        - At Hybrid encodings, '2' is for one block per 2 qubits, resulting 4 blocks on 8 qubits, and '4' is for one block per 4 qubints, resulting 2 blocks on 8 qubits."
   ]
  },
  {
   "cell_type": "markdown",
   "id": "6228025c",
   "metadata": {},
   "source": [
    "- Convolutional filter(9): `U`\n",
    "- Pooling layer(2): Default for the pooling is 'yes'.\n",
    "    - #1  : **U_TTN**\n",
    "    - #2  : **U_9**\n",
    "    - #3  : **U_15**\n",
    "    - #4  : **U_13**\n",
    "    - #5  : **U_14**\n",
    "    - #6  : **U_SO4**\n",
    "    - #7  : **U_5**\n",
    "    - #8  : **U_6**\n",
    "    - #9a : **U_SU4**\n",
    "    - #9b : **U_SU4_no_pooling**\n",
    "    \n",
    "![convolutional_circuits](img/convolutional_circuits.png)\n",
    "\n",
    "![pooling_layer](img/pooling_layer.png)"
   ]
  },
  {
   "cell_type": "markdown",
   "id": "66d145ea",
   "metadata": {},
   "source": [
    "- Circuit boundary conditions(2):\n",
    "    - The default of the boundary condition of the QCNN is 'yes'.\n",
    "    - No boundary condition with #2  :**U_9_1D**\n",
    "    - No boundary condition with #9b :**U_SU4_1D**\n",
    "    \n",
    "![QCNN_no_boundary](img/QCNN_no_boundary.png)"
   ]
  },
  {
   "cell_type": "markdown",
   "id": "b7743dad",
   "metadata": {},
   "source": [
    "- Cost Function(2+1): `cost_fn`\n",
    "    - Cross entrophy: **cross_entropy**\n",
    "    - Mean squared error: **mse**  \n",
    "    - Means squared error with penalty term: **square_loss_lambda**"
   ]
  },
  {
   "cell_type": "markdown",
   "id": "1e339582",
   "metadata": {},
   "source": [
    "- The total number of features in Data Encoding steps with 8-qubits QCNN model are given below.\n",
    "    - Amplitude encoding (AE)      : $2^{8}=256$\n",
    "    - Qubit encoding               : $8$\n",
    "    - Dense qubit encoding         : $8 \\times 2=16$\n",
    "    - Hybrid direct encoding (HDE) : $2^{8\\div2} \\times 2=32$\n",
    "    - Hybrid angle encoding (HAE)  : $(2^{8\\div2}-1) \\times 2=30$ \n",
    "\n",
    "\n",
    "- The total number of parameters used in the quantum circuits are given below.\n",
    "    - Convolutional Filter(=`U_params`) + Pooling Layer $\\times$ (3 layers) = total number of parameters\n",
    "        - #1 : $(2 + 2) \\times 3 = 12$\n",
    "        - #2 : $(2 + 2) \\times 3 = 12$\n",
    "        - #3 : $(4 + 2) \\times 3 = 18$\n",
    "        - #4 : $(6 + 2) \\times 3 = 24$\n",
    "        - #5 : $(6 + 2) \\times 3 = 24$\n",
    "        - #6 : $(6 + 2) \\times 3 = 24$\n",
    "        - #7 : $(10 + 2) \\times 3 = 36$\n",
    "        - #8 : $(10 + 2) \\times 3 = 36$\n",
    "        - #9a: $(15 + 2) \\times 3 = 51$\n",
    "        - #9b: $(15 + 0) \\times 3 = 45$"
   ]
  },
  {
   "cell_type": "markdown",
   "id": "13c2a175",
   "metadata": {},
   "source": [
    "- Function Descriptions:\n",
    "    - Three functions below are embedded in `QCNN` function:\n",
    "        - `QCNN_structure(U, params, U_params)` : #1 ~ #9a\n",
    "        - `QCNN_structure_without_pooling(U, params, U_params)` : #9b\n",
    "        - `QCNN_1D_circuit(U, params, U_params)` : #2, #9b without boundary conditions\n",
    "    - `QCNN(X, params, U, U_params, embedding_type='Amplitude', cost_fn='cross_entropy', measure_axis='Z')` : \n",
    "        - X : **X_train**\n",
    "        - params: parameters of the quantum circuit\n",
    "        - U : **U_TTN**, **U_9**, **U_15**, **U_13**, **U_14**, **U_SO4**, **U_5**, **U_6**, **U_SU4**, **U_SU4_no_pooling**, **U_9_1D**, **U_SU4_1D**\n",
    "        - U_params : The number of parameters in a convolutional filter which depends on the choice of the convolutional filter.\n",
    "            - **2**, **2**, **4**, **6**, **6**, **6**, **10**, **10**, **15**, **15** \n",
    "        - embedding_type: Choose the data encoding depending on the order of putting features\n",
    "            - **Amplitude**, **Angle**, **Angle-compact**, **Amplitude-Hybrid2-1, 2, 3, 4**, **Amplitude-Hybrid4-1, 2, 3, 4**, **Angular-Hybrid2-1, 2, 3, 4**, **Angular-Hybrid4-1, 2, 3, 4**\n",
    "        - cost_fn: **cross_entropy**, **mse**\n",
    "        - measure_axis: measuring the final state in Z-axis(computational basis), Y-axis(circular basis), X-axis(Hadamard basis)\n",
    "            - **'Z'**, **'Y'**, **'X'**, "
   ]
  },
  {
   "cell_type": "code",
   "execution_count": null,
   "id": "6c2f776a",
   "metadata": {},
   "outputs": [],
   "source": []
  },
  {
   "cell_type": "markdown",
   "id": "24a86674",
   "metadata": {},
   "source": [
    "# Qnode example from PennyLane"
   ]
  },
  {
   "cell_type": "markdown",
   "id": "25d1e2f5",
   "metadata": {},
   "source": [
    "- [Turning quantum nodes into Keras Layers](https://pennylane.ai/qml/demos/tutorial_qnn_module_tf.html)\n",
    "- [qml.probs](https://docs.pennylane.ai/en/stable/code/api/pennylane.probs.html)\n",
    "- [qml.qnn.KerasLayer](https://docs.pennylane.ai/en/stable/code/api/pennylane.qnn.KerasLayer.html)\n",
    "- [qml.qnn.TorchLayer](https://docs.pennylane.ai/en/stable/code/api/pennylane.qnn.TorchLayer.html)"
   ]
  },
  {
   "cell_type": "code",
   "execution_count": 64,
   "id": "efabf778",
   "metadata": {
    "ExecuteTime": {
     "end_time": "2022-12-06T17:43:59.170088Z",
     "start_time": "2022-12-06T17:43:59.156033Z"
    }
   },
   "outputs": [],
   "source": [
    "import tensorflow as tf\n",
    "\n",
    "tf.keras.backend.set_floatx('float64')\n",
    "\n",
    "layer_1 = tf.keras.layers.Dense(2)\n",
    "layer_2 = tf.keras.layers.Dense(2, activation=\"softmax\")\n",
    "\n",
    "model = tf.keras.Sequential([layer_1, layer_2])\n",
    "model.compile(loss=\"mae\")"
   ]
  },
  {
   "cell_type": "code",
   "execution_count": 65,
   "id": "cc85bf89",
   "metadata": {
    "ExecuteTime": {
     "end_time": "2022-12-06T17:43:59.215316Z",
     "start_time": "2022-12-06T17:43:59.171086Z"
    }
   },
   "outputs": [
    {
     "data": {
      "image/png": "[encoded data removed]",
      "text/plain": [
       "<Figure size 432x288 with 1 Axes>"
      ]
     },
     "metadata": {
      "needs_background": "light"
     },
     "output_type": "display_data"
    }
   ],
   "source": [
    "import matplotlib.pyplot as plt\n",
    "import numpy as np\n",
    "from sklearn.datasets import make_moons\n",
    "\n",
    "# Set random seeds\n",
    "np.random.seed(42)\n",
    "tf.random.set_seed(42)\n",
    "\n",
    "X, y = make_moons(n_samples=200, noise=0.1)\n",
    "y_hot = tf.keras.utils.to_categorical(\n",
    "    y, num_classes=2)  # one-hot encoded labels\n",
    "\n",
    "c = [\"#1f77b4\" if y_ == 0 else \"#ff7f0e\" for y_ in y]  # colours for each class\n",
    "plt.axis(\"off\")\n",
    "plt.scatter(X[:, 0], X[:, 1], c=c)\n",
    "plt.show()"
   ]
  },
  {
   "cell_type": "markdown",
   "id": "79c2f4ef",
   "metadata": {},
   "source": [
    "### Defining Qnode"
   ]
  },
  {
   "cell_type": "code",
   "execution_count": 66,
   "id": "0a9063a1",
   "metadata": {
    "ExecuteTime": {
     "end_time": "2022-12-06T17:43:59.230850Z",
     "start_time": "2022-12-06T17:43:59.216317Z"
    }
   },
   "outputs": [],
   "source": [
    "import pennylane as qml\n",
    "\n",
    "n_qubits = 2\n",
    "dev = qml.device(\"default.qubit\", wires=n_qubits)\n",
    "\n",
    "\n",
    "@qml.qnode(dev)\n",
    "def qnode(inputs, weights):\n",
    "    qml.AngleEmbedding(inputs, wires=range(n_qubits))\n",
    "    qml.BasicEntanglerLayers(weights, wires=range(n_qubits))\n",
    "    return [qml.expval(qml.PauliZ(wires=i)) for i in range(n_qubits)]"
   ]
  },
  {
   "cell_type": "code",
   "execution_count": 67,
   "id": "04c04efc",
   "metadata": {
    "ExecuteTime": {
     "end_time": "2022-12-06T17:43:59.245923Z",
     "start_time": "2022-12-06T17:43:59.231831Z"
    }
   },
   "outputs": [],
   "source": [
    "n_layers = 6\n",
    "weight_shapes = {\"weights\": (n_layers, n_qubits)}"
   ]
  },
  {
   "cell_type": "code",
   "execution_count": 68,
   "id": "832080db",
   "metadata": {
    "ExecuteTime": {
     "end_time": "2022-12-06T17:43:59.262056Z",
     "start_time": "2022-12-06T17:43:59.246921Z"
    },
    "scrolled": true
   },
   "outputs": [
    {
     "data": {
      "text/plain": [
       "dict"
      ]
     },
     "execution_count": 68,
     "metadata": {},
     "output_type": "execute_result"
    }
   ],
   "source": [
    "type(weight_shapes)"
   ]
  },
  {
   "cell_type": "code",
   "execution_count": 69,
   "id": "2b31464a",
   "metadata": {
    "ExecuteTime": {
     "end_time": "2022-12-06T17:43:59.277609Z",
     "start_time": "2022-12-06T17:43:59.263072Z"
    }
   },
   "outputs": [],
   "source": [
    "qlayer = qml.qnn.KerasLayer(qnode, weight_shapes, output_dim=n_qubits)"
   ]
  },
  {
   "cell_type": "code",
   "execution_count": 70,
   "id": "2eae8c8b",
   "metadata": {
    "ExecuteTime": {
     "end_time": "2022-12-06T17:43:59.292612Z",
     "start_time": "2022-12-06T17:43:59.278603Z"
    }
   },
   "outputs": [],
   "source": [
    "clayer_1 = tf.keras.layers.Dense(2)\n",
    "clayer_2 = tf.keras.layers.Dense(2, activation=\"softmax\")\n",
    "model = tf.keras.models.Sequential([clayer_1, qlayer, clayer_2])"
   ]
  },
  {
   "cell_type": "code",
   "execution_count": 71,
   "id": "0ec9dfb4",
   "metadata": {
    "ExecuteTime": {
     "end_time": "2022-12-06T17:44:35.538879Z",
     "start_time": "2022-12-06T17:43:59.293617Z"
    }
   },
   "outputs": [
    {
     "name": "stdout",
     "output_type": "stream",
     "text": [
      "Epoch 1/5\n",
      "30/30 - 7s - loss: 0.4586 - accuracy: 0.5933 - val_loss: 0.3609 - val_accuracy: 0.8400 - 7s/epoch - 241ms/step\n",
      "Epoch 2/5\n",
      "30/30 - 7s - loss: 0.2952 - accuracy: 0.8467 - val_loss: 0.2398 - val_accuracy: 0.8400 - 7s/epoch - 239ms/step\n",
      "Epoch 3/5\n",
      "30/30 - 7s - loss: 0.2116 - accuracy: 0.8533 - val_loss: 0.2007 - val_accuracy: 0.8200 - 7s/epoch - 237ms/step\n",
      "Epoch 4/5\n",
      "30/30 - 7s - loss: 0.1839 - accuracy: 0.8667 - val_loss: 0.1848 - val_accuracy: 0.8600 - 7s/epoch - 249ms/step\n",
      "Epoch 5/5\n",
      "30/30 - 7s - loss: 0.1718 - accuracy: 0.8733 - val_loss: 0.1777 - val_accuracy: 0.8600 - 7s/epoch - 240ms/step\n"
     ]
    }
   ],
   "source": [
    "opt = tf.keras.optimizers.SGD(learning_rate=0.2)\n",
    "model.compile(opt, loss=\"mae\", metrics=[\"accuracy\"])\n",
    "\n",
    "fitting = model.fit(X, y_hot, epochs=5, batch_size=5,\n",
    "                    validation_split=0.25, verbose=2)"
   ]
  },
  {
   "cell_type": "code",
   "execution_count": null,
   "id": "4363899a",
   "metadata": {},
   "outputs": [],
   "source": []
  },
  {
   "cell_type": "code",
   "execution_count": null,
   "id": "d65dc0a8",
   "metadata": {},
   "outputs": [],
   "source": []
  },
  {
   "cell_type": "markdown",
   "id": "f7224e4d",
   "metadata": {},
   "source": [
    "### Statevector result in Pennylane"
   ]
  },
  {
   "cell_type": "code",
   "execution_count": 72,
   "id": "769ff882",
   "metadata": {
    "ExecuteTime": {
     "end_time": "2022-12-06T17:44:35.553826Z",
     "start_time": "2022-12-06T17:44:35.539853Z"
    }
   },
   "outputs": [],
   "source": [
    "dev = qml.device('default.qubit', wires=2)\n",
    "\n",
    "\n",
    "@qml.qnode(dev)\n",
    "def example_circuit():\n",
    "    qml.QubitStateVector(np.array([1, 0, 0, 0]), wires=range(2))\n",
    "    return qml.state()"
   ]
  },
  {
   "cell_type": "code",
   "execution_count": 73,
   "id": "b498d573",
   "metadata": {
    "ExecuteTime": {
     "end_time": "2022-12-06T17:44:35.568932Z",
     "start_time": "2022-12-06T17:44:35.555833Z"
    }
   },
   "outputs": [
    {
     "name": "stdout",
     "output_type": "stream",
     "text": [
      "<class 'pennylane.numpy.tensor.tensor'>\n",
      "[1.+0.j 0.+0.j 0.+0.j 0.+0.j]\n"
     ]
    }
   ],
   "source": [
    "cir_result = example_circuit()\n",
    "\n",
    "print(type(cir_result))\n",
    "print(cir_result)"
   ]
  },
  {
   "cell_type": "code",
   "execution_count": 74,
   "id": "b6f67e76",
   "metadata": {
    "ExecuteTime": {
     "end_time": "2022-12-06T17:44:35.583891Z",
     "start_time": "2022-12-06T17:44:35.569857Z"
    }
   },
   "outputs": [
    {
     "data": {
      "text/plain": [
       "tensor(1.+0.j, requires_grad=True)"
      ]
     },
     "execution_count": 74,
     "metadata": {},
     "output_type": "execute_result"
    }
   ],
   "source": [
    "cir_result[0]"
   ]
  },
  {
   "cell_type": "code",
   "execution_count": 75,
   "id": "a9c49ff2",
   "metadata": {
    "ExecuteTime": {
     "end_time": "2022-12-06T17:44:35.599436Z",
     "start_time": "2022-12-06T17:44:35.586903Z"
    }
   },
   "outputs": [
    {
     "data": {
      "text/plain": [
       "pennylane.numpy.tensor.tensor"
      ]
     },
     "execution_count": 75,
     "metadata": {},
     "output_type": "execute_result"
    }
   ],
   "source": [
    "type(example_circuit())"
   ]
  },
  {
   "cell_type": "code",
   "execution_count": null,
   "id": "c15a849a",
   "metadata": {},
   "outputs": [],
   "source": []
  },
  {
   "cell_type": "markdown",
   "id": "26a501c9",
   "metadata": {},
   "source": [
    "### Qnode Example"
   ]
  },
  {
   "cell_type": "code",
   "execution_count": 76,
   "id": "f6178e25",
   "metadata": {
    "ExecuteTime": {
     "end_time": "2022-12-06T17:44:35.614483Z",
     "start_time": "2022-12-06T17:44:35.601947Z"
    }
   },
   "outputs": [],
   "source": [
    "n_qubits = 4\n",
    "dev = qml.device(\"default.qubit\", wires=n_qubits)\n",
    "\n",
    "\n",
    "@qml.qnode(dev)\n",
    "def qnode(inputs, weights_0, weight_1):\n",
    "    qml.RX(inputs[0], wires=0)\n",
    "    qml.RX(inputs[1], wires=1)\n",
    "\n",
    "    qml.Rot(weights_0, wires=0)\n",
    "    qml.RY(weight_1, wires=1)\n",
    "    qml.Rot(weights_0, wires=0)\n",
    "    qml.RY(weight_1, wires=1)\n",
    "    qml.Rot(weights_0, wires=0)\n",
    "    qml.RY(weight_1, wires=1)\n",
    "    qml.CNOT(wires=[0, 1])\n",
    "    return qml.expval(qml.PauliZ(0)), qml.expval(qml.PauliZ(1))"
   ]
  },
  {
   "cell_type": "code",
   "execution_count": 77,
   "id": "c5d7d1d7",
   "metadata": {
    "ExecuteTime": {
     "end_time": "2022-12-06T17:44:35.629373Z",
     "start_time": "2022-12-06T17:44:35.615488Z"
    }
   },
   "outputs": [],
   "source": [
    "weight_shapes = {\"weights_0\": 3, \"weight_1\": 1}\n",
    "qlayer = qml.qnn.KerasLayer(qnode, weight_shapes, output_dim=2)"
   ]
  },
  {
   "cell_type": "code",
   "execution_count": 78,
   "id": "a59851ac",
   "metadata": {
    "ExecuteTime": {
     "end_time": "2022-12-06T17:44:35.644177Z",
     "start_time": "2022-12-06T17:44:35.630341Z"
    }
   },
   "outputs": [],
   "source": [
    "clayer = tf.keras.layers.Dense(2)\n",
    "model = tf.keras.models.Sequential([qlayer, clayer])"
   ]
  },
  {
   "cell_type": "code",
   "execution_count": 79,
   "id": "0af0dd85",
   "metadata": {
    "ExecuteTime": {
     "end_time": "2022-12-06T17:44:35.659684Z",
     "start_time": "2022-12-06T17:44:35.645156Z"
    }
   },
   "outputs": [
    {
     "data": {
      "text/plain": [
       "<keras.engine.sequential.Sequential at 0x1652a523400>"
      ]
     },
     "execution_count": 79,
     "metadata": {},
     "output_type": "execute_result"
    }
   ],
   "source": [
    "model"
   ]
  },
  {
   "cell_type": "code",
   "execution_count": 80,
   "id": "5d6f3daa",
   "metadata": {
    "ExecuteTime": {
     "end_time": "2022-12-06T17:44:35.674750Z",
     "start_time": "2022-12-06T17:44:35.663160Z"
    }
   },
   "outputs": [
    {
     "data": {
      "text/plain": [
       "{'weights_0': 3, 'weight_1': 1}"
      ]
     },
     "execution_count": 80,
     "metadata": {},
     "output_type": "execute_result"
    }
   ],
   "source": [
    "weight_shapes"
   ]
  },
  {
   "cell_type": "code",
   "execution_count": 81,
   "id": "b84fee70",
   "metadata": {
    "ExecuteTime": {
     "end_time": "2022-12-06T17:44:35.690444Z",
     "start_time": "2022-12-06T17:44:35.675751Z"
    }
   },
   "outputs": [
    {
     "data": {
      "text/plain": [
       "<bound method Model.summary of <keras.engine.sequential.Sequential object at 0x000001652A523400>>"
      ]
     },
     "execution_count": 81,
     "metadata": {},
     "output_type": "execute_result"
    }
   ],
   "source": [
    "model.summary"
   ]
  },
  {
   "cell_type": "code",
   "execution_count": null,
   "id": "05235f0b",
   "metadata": {},
   "outputs": [],
   "source": []
  },
  {
   "cell_type": "markdown",
   "id": "d002bc9f",
   "metadata": {},
   "source": [
    "# QCNN - QNODE"
   ]
  },
  {
   "cell_type": "markdown",
   "id": "c51d0c8a",
   "metadata": {},
   "source": [
    "## Creating devices - simulator with / without noise"
   ]
  },
  {
   "cell_type": "markdown",
   "id": "3d26875b",
   "metadata": {},
   "source": [
    "- Number of qubits"
   ]
  },
  {
   "cell_type": "code",
   "execution_count": 82,
   "id": "6676a538",
   "metadata": {
    "ExecuteTime": {
     "end_time": "2022-12-06T17:44:35.705560Z",
     "start_time": "2022-12-06T17:44:35.691954Z"
    }
   },
   "outputs": [],
   "source": [
    "import pennylane as qml\n",
    "from pennylane import numpy as np\n",
    "\n",
    "n_qubits = 8"
   ]
  },
  {
   "cell_type": "markdown",
   "id": "40ca96a0",
   "metadata": {},
   "source": [
    "- Create devices with different readout error probabilities"
   ]
  },
  {
   "cell_type": "code",
   "execution_count": 83,
   "id": "b720ecbd",
   "metadata": {
    "ExecuteTime": {
     "end_time": "2022-12-06T17:44:35.722068Z",
     "start_time": "2022-12-06T17:44:35.706539Z"
    }
   },
   "outputs": [],
   "source": [
    "dev_noisy0 = qml.device(\"default.qubit\", wires=n_qubits)\n",
    "dev_noisy1 = qml.device(\"default.mixed\", wires=n_qubits, readout_prob=0.0001)\n",
    "dev_noisy2 = qml.device(\"default.mixed\", wires=n_qubits, readout_prob=0.001)\n",
    "dev_noisy3 = qml.device(\"default.mixed\", wires=n_qubits, readout_prob=0.01)\n",
    "dev_noisy4 = qml.device(\"default.mixed\", wires=n_qubits, readout_prob=0.1)\n",
    "\n",
    "dev_list = [dev_noisy0, dev_noisy1, dev_noisy2, dev_noisy3, dev_noisy4]"
   ]
  },
  {
   "cell_type": "markdown",
   "id": "224d873c",
   "metadata": {},
   "source": [
    "### Custum Noise Model\n",
    "- Link: [Qiskit documentation - NoiseModel](https://qiskit.org/documentation/stubs/qiskit_aer.noise.NoiseModel.html#qiskit_aer.noise.NoiseModel)\n",
    "- Link: [Building Noise Models](https://qiskit.org/documentation/tutorials/simulators/3_building_noise_models.html)\n",
    "- Link: [Qiskit NoiseModel.add_readout_error() code](https://qiskit.org/documentation/stubs/qiskit_aer.noise.NoiseModel.add_readout_error.html#qiskit_aer.noise.NoiseModel.add_readout_error)\n",
    "- In Qiskit, here are some values from a real device. The values may vary when checked.\n",
    "    - readout error, median about 0.01\n",
    "    - cnot error, median about 0.0075\n",
    "    - pauliX error, median about 0.00025\n",
    "    \n",
    "- We can customize quantum errors on certain gates and operators."
   ]
  },
  {
   "cell_type": "code",
   "execution_count": 84,
   "id": "ece83fc6",
   "metadata": {
    "ExecuteTime": {
     "end_time": "2022-12-06T17:44:35.737569Z",
     "start_time": "2022-12-06T17:44:35.722969Z"
    }
   },
   "outputs": [],
   "source": [
    "# import qiskit\n",
    "# import qiskit.providers.aer.noise as noise\n",
    "# # from qiskit.providers.aer.noise import NoiseModel\n",
    "# # from qiskit.providers.aer.noise import QuantumError, ReadoutError\n",
    "# # from qiskit.providers.aer.noise import pauli_error\n",
    "# # from qiskit.providers.aer.noise import depolarizing_error\n",
    "\n",
    "# # Error probabilities\n",
    "# p_gate1_error = 0.001\n",
    "# p_cx_error = 0.01\n",
    "\n",
    "# # Measurement miss-assignement probabilities\n",
    "# p0given1 = 0.01\n",
    "# p1given0 = 0.01\n",
    "# readout_error = noise.ReadoutError([[1 - p1given0, p1given0], [p0given1, 1 - p0given1]])\n",
    "\n",
    "# # Depolarizing quantum errors(1-gate, 2-gate)\n",
    "# gate1_error = noise.depolarizing_error(p_gate1_error, num_qubits = 1)\n",
    "# cx_error = noise.depolarizing_error(p_cx_error, num_qubits = 2)\n",
    "\n",
    "# # Add errors to noise model (also add readout error)\n",
    "# noise_model = noise.NoiseModel()\n",
    "# noise_model.add_all_qubit_quantum_error(gate1_error, ['u1', 'u2', 'u3'])\n",
    "# noise_model.add_all_qubit_quantum_error(cx_error, ['cx'])\n",
    "# noise_model.add_readout_error(readout_error, [0])"
   ]
  },
  {
   "cell_type": "markdown",
   "id": "23024967",
   "metadata": {},
   "source": [
    "- Initiate qiskit.aer device with custom noise model"
   ]
  },
  {
   "cell_type": "code",
   "execution_count": 85,
   "id": "245bb5a8",
   "metadata": {
    "ExecuteTime": {
     "end_time": "2022-12-06T17:44:35.752900Z",
     "start_time": "2022-12-06T17:44:35.738550Z"
    }
   },
   "outputs": [],
   "source": [
    "# import pennylane as qml\n",
    "\n",
    "# dev_QiskitAer_noisy = qml.device(\"qiskit.aer\",\n",
    "#                                  wires=n_qubits,\n",
    "#                                  method=\"automatic\",\n",
    "#                                  noise_model=noise_model)"
   ]
  },
  {
   "cell_type": "code",
   "execution_count": null,
   "id": "ba2864b0",
   "metadata": {},
   "outputs": [],
   "source": []
  },
  {
   "cell_type": "code",
   "execution_count": null,
   "id": "ecd26847",
   "metadata": {},
   "outputs": [],
   "source": []
  },
  {
   "cell_type": "markdown",
   "id": "d3c9cdb2",
   "metadata": {},
   "source": [
    "## Dataset - MNIST"
   ]
  },
  {
   "cell_type": "code",
   "execution_count": 86,
   "id": "493ca720",
   "metadata": {
    "ExecuteTime": {
     "end_time": "2022-12-06T17:44:36.105867Z",
     "start_time": "2022-12-06T17:44:35.753901Z"
    }
   },
   "outputs": [],
   "source": [
    "# MNIST datasets\n",
    "dataset_name = 'mnist'\n",
    "feature_reduction_method = 'resize256'\n",
    "\n",
    "\n",
    "X_train, X_test, Y_train, Y_test = data_load_and_process(dataset=dataset_name,\n",
    "                                                         classes=[0, 1],\n",
    "                                                         feature_reduction=feature_reduction_method,\n",
    "                                                         binary=True)"
   ]
  },
  {
   "cell_type": "code",
   "execution_count": 87,
   "id": "56efa8b4",
   "metadata": {
    "ExecuteTime": {
     "end_time": "2022-12-06T17:44:36.122069Z",
     "start_time": "2022-12-06T17:44:36.106859Z"
    }
   },
   "outputs": [
    {
     "name": "stdout",
     "output_type": "stream",
     "text": [
      "(12665, 256)\n",
      "(2115, 256)\n"
     ]
    }
   ],
   "source": [
    "print(X_train.shape)\n",
    "print(X_test.shape)"
   ]
  },
  {
   "cell_type": "code",
   "execution_count": 88,
   "id": "e9399276",
   "metadata": {
    "ExecuteTime": {
     "end_time": "2022-12-06T17:44:36.137714Z",
     "start_time": "2022-12-06T17:44:36.123077Z"
    }
   },
   "outputs": [
    {
     "data": {
      "text/plain": [
       "6742"
      ]
     },
     "execution_count": 88,
     "metadata": {},
     "output_type": "execute_result"
    }
   ],
   "source": [
    "Y_train.count(-1)"
   ]
  },
  {
   "cell_type": "code",
   "execution_count": 89,
   "id": "86f83029",
   "metadata": {
    "ExecuteTime": {
     "end_time": "2022-12-06T17:44:36.152722Z",
     "start_time": "2022-12-06T17:44:36.138674Z"
    }
   },
   "outputs": [
    {
     "name": "stdout",
     "output_type": "stream",
     "text": [
      "# of 0s in train:  6742\n",
      "# of 1s in train:  5923\n",
      "# of 0s in test:  1135\n",
      "# of 1s in test:  980\n"
     ]
    }
   ],
   "source": [
    "print(\"# of 0s in train: \", Y_train.count(-1))\n",
    "print(\"# of 1s in train: \", Y_train.count(1))\n",
    "\n",
    "print(\"# of 0s in test: \", Y_test.count(-1))\n",
    "print(\"# of 1s in test: \", Y_test.count(1))"
   ]
  },
  {
   "cell_type": "code",
   "execution_count": 90,
   "id": "3816a428",
   "metadata": {
    "ExecuteTime": {
     "end_time": "2022-12-06T17:44:36.197862Z",
     "start_time": "2022-12-06T17:44:36.154721Z"
    }
   },
   "outputs": [],
   "source": [
    "from tensorflow.keras.utils import to_categorical\n",
    "\n",
    "\n",
    "Y_train_label = (np.array(Y_train)+1)/2\n",
    "Y_train_onehot = to_categorical(Y_train_label)\n",
    "\n",
    "Y_test_label = (np.array(Y_test)+1)/2\n",
    "Y_test_onehot = to_categorical(Y_test_label)"
   ]
  },
  {
   "cell_type": "markdown",
   "id": "d39001c1",
   "metadata": {},
   "source": [
    "## QCNN circuits w/ noise gates"
   ]
  },
  {
   "cell_type": "markdown",
   "id": "59b40966",
   "metadata": {},
   "source": [
    "### Circuit specifications"
   ]
  },
  {
   "cell_type": "code",
   "execution_count": 91,
   "id": "4e2b4025",
   "metadata": {
    "ExecuteTime": {
     "end_time": "2022-12-06T17:44:36.212848Z",
     "start_time": "2022-12-06T17:44:36.198863Z"
    }
   },
   "outputs": [],
   "source": [
    "# Circuit training hyper parameters of the optimizer: NesterovMomentumOptimizer\n",
    "# steps = 200\n",
    "# learning_rate = 0.01\n",
    "# batch_size = 25\n",
    "\n",
    "dataset_name = 'mnist'\n",
    "Unitaries_list = ['U_TTN']\n",
    "# Unitaries_list = ['U_TTN', 'U_9', 'U_15', 'U_13', 'U_14', 'U_SO4', 'U_5', 'U_6', 'U_SU4', 'U_SU4_no_pooling']\n",
    "U_num_params_list = [2]\n",
    "# U_num_params_list = [2, 2, 4, 6, 6, 6, 10, 10, 15, 15]\n",
    "Encodings_list = ['resize256']\n",
    "# Encodings_list = ['resize256', 'pca8', 'autoencoder8', 'pca16-1', 'autoencoder16-1', 'pca32-1', 'autoencoder32-1', 'pca30-1', 'autoencoder30-1']\n",
    "\n",
    "circuit_type = 'QCNN'\n",
    "# ['cross_entropy', 'mse', 'mse_lambda', 'classify_lambda', 'classify_lambda2']\n",
    "cost_fn_type = 'mse'\n",
    "lambda_value = 0.05\n",
    "lambd_decs = False\n",
    "num_obs_ploting = None"
   ]
  },
  {
   "cell_type": "code",
   "execution_count": 92,
   "id": "801c0782",
   "metadata": {
    "ExecuteTime": {
     "end_time": "2022-12-06T17:44:36.228141Z",
     "start_time": "2022-12-06T17:44:36.216859Z"
    },
    "code_folding": [
     0
    ]
   },
   "outputs": [],
   "source": [
    "def Encoding_to_Embedding(Encoding):\n",
    "    # Amplitude Embedding / Angle Embedding\n",
    "    if Encoding == 'resize256':\n",
    "        Embedding = 'Amplitude'\n",
    "    elif Encoding == 'pca8':\n",
    "        Embedding = 'Angle'\n",
    "    elif Encoding == 'autoencoder8':\n",
    "        Embedding = 'Angle'\n",
    "\n",
    "    # Amplitude Hybrid Embedding\n",
    "    # 4 qubit block\n",
    "    elif Encoding == 'pca32-1':\n",
    "        Embedding = 'Amplitude-Hybrid4-1'\n",
    "    elif Encoding == 'autoencoder32-1':\n",
    "        Embedding = 'Amplitude-Hybrid4-1'\n",
    "\n",
    "    elif Encoding == 'pca32-2':\n",
    "        Embedding = 'Amplitude-Hybrid4-2'\n",
    "    elif Encoding == 'autoencoder32-2':\n",
    "        Embedding = 'Amplitude-Hybrid4-2'\n",
    "\n",
    "    elif Encoding == 'pca32-3':\n",
    "        Embedding = 'Amplitude-Hybrid4-3'\n",
    "    elif Encoding == 'autoencoder32-3':\n",
    "        Embedding = 'Amplitude-Hybrid4-3'\n",
    "\n",
    "    elif Encoding == 'pca32-4':\n",
    "        Embedding = 'Amplitude-Hybrid4-4'\n",
    "    elif Encoding == 'autoencoder32-4':\n",
    "        Embedding = 'Amplitude-Hybrid4-4'\n",
    "\n",
    "    # 2 qubit block\n",
    "    elif Encoding == 'pca16-1':\n",
    "        Embedding = 'Amplitude-Hybrid2-1'\n",
    "    elif Encoding == 'autoencoder16-1':\n",
    "        Embedding = 'Amplitude-Hybrid2-1'\n",
    "\n",
    "    elif Encoding == 'pca16-2':\n",
    "        Embedding = 'Amplitude-Hybrid2-2'\n",
    "    elif Encoding == 'autoencoder16-2':\n",
    "        Embedding = 'Amplitude-Hybrid2-2'\n",
    "\n",
    "    elif Encoding == 'pca16-3':\n",
    "        Embedding = 'Amplitude-Hybrid2-3'\n",
    "    elif Encoding == 'autoencoder16-3':\n",
    "        Embedding = 'Amplitude-Hybrid2-3'\n",
    "\n",
    "    elif Encoding == 'pca16-4':\n",
    "        Embedding = 'Amplitude-Hybrid2-4'\n",
    "    elif Encoding == 'autoencoder16-4':\n",
    "        Embedding = 'Amplitude-Hybrid2-4'\n",
    "\n",
    "    # Angular HybridEmbedding\n",
    "    # 4 qubit block\n",
    "    elif Encoding == 'pca30-1':\n",
    "        Embedding = 'Angular-Hybrid4-1'\n",
    "    elif Encoding == 'autoencoder30-1':\n",
    "        Embedding = 'Angular-Hybrid4-1'\n",
    "\n",
    "    elif Encoding == 'pca30-2':\n",
    "        Embedding = 'Angular-Hybrid4-2'\n",
    "    elif Encoding == 'autoencoder30-2':\n",
    "        Embedding = 'Angular-Hybrid4-2'\n",
    "\n",
    "    elif Encoding == 'pca30-3':\n",
    "        Embedding = 'Angular-Hybrid4-3'\n",
    "    elif Encoding == 'autoencoder30-3':\n",
    "        Embedding = 'Angular-Hybrid4-3'\n",
    "\n",
    "    elif Encoding == 'pca30-4':\n",
    "        Embedding = 'Angular-Hybrid4-4'\n",
    "    elif Encoding == 'autoencoder30-4':\n",
    "        Embedding = 'Angular-Hybrid4-4'\n",
    "\n",
    "    # 2 qubit block\n",
    "    elif Encoding == 'pca12-1':\n",
    "        Embedding = 'Angular-Hybrid2-1'\n",
    "    elif Encoding == 'autoencoder12-1':\n",
    "        Embedding = 'Angular-Hybrid2-1'\n",
    "\n",
    "    elif Encoding == 'pca12-2':\n",
    "        Embedding = 'Angular-Hybrid2-2'\n",
    "    elif Encoding == 'autoencoder12-2':\n",
    "        Embedding = 'Angular-Hybrid2-2'\n",
    "\n",
    "    elif Encoding == 'pca12-3':\n",
    "        Embedding = 'Angular-Hybrid2-3'\n",
    "    elif Encoding == 'autoencoder12-3':\n",
    "        Embedding = 'Angular-Hybrid2-3'\n",
    "\n",
    "    elif Encoding == 'pca12-4':\n",
    "        Embedding = 'Angular-Hybrid2-4'\n",
    "    elif Encoding == 'autoencoder12-4':\n",
    "        Embedding = 'Angular-Hybrid2-4'\n",
    "\n",
    "    # Two Gates Compact Encoding\n",
    "    elif Encoding == 'pca16-compact':\n",
    "        Embedding = 'Angle-compact'\n",
    "    elif Encoding == 'autoencoder16-compact':\n",
    "        Embedding = 'Angle-compact'\n",
    "    return Embedding"
   ]
  },
  {
   "cell_type": "code",
   "execution_count": 93,
   "id": "dc557480",
   "metadata": {
    "ExecuteTime": {
     "end_time": "2022-12-06T17:44:36.243198Z",
     "start_time": "2022-12-06T17:44:36.230125Z"
    }
   },
   "outputs": [
    {
     "data": {
      "text/plain": [
       "'Amplitude'"
      ]
     },
     "execution_count": 93,
     "metadata": {},
     "output_type": "execute_result"
    }
   ],
   "source": [
    "Embedding = Encoding_to_Embedding(Encodings_list[0])\n",
    "Embedding"
   ]
  },
  {
   "cell_type": "code",
   "execution_count": 94,
   "id": "b70c783f",
   "metadata": {
    "ExecuteTime": {
     "end_time": "2022-12-06T18:23:39.085673Z",
     "start_time": "2022-12-06T18:23:39.036338Z"
    }
   },
   "outputs": [],
   "source": [
    "# Run modules\n",
    "%run QCNN_modules2/Angular_hybrid.py\n",
    "%run QCNN_modules2/embedding.py\n",
    "%run QCNN_modules2/unitary.py\n",
    "\n",
    "# %run QCNN_modules2/QCNN_circuit.py"
   ]
  },
  {
   "cell_type": "code",
   "execution_count": 95,
   "id": "5c0d64ea",
   "metadata": {
    "ExecuteTime": {
     "end_time": "2022-12-06T18:23:43.528031Z",
     "start_time": "2022-12-06T18:23:42.172474Z"
    },
    "code_folding": [
     1
    ]
   },
   "outputs": [],
   "source": [
    "# QCNN circuit build with data encoding, convolutional layers, pooling layers, and measurement\n",
    "def QCNN_circuit_node(inputs, params):\n",
    "\n",
    "    # Data Embedding\n",
    "    data_embedding(inputs, embedding_type=Embedding)\n",
    "\n",
    "    # Quantum Convolutional Neural Network\n",
    "    # Convolutional Layer #1\n",
    "    if U == \"U_TTN\":\n",
    "        # Layer 1 - Convolution\n",
    "        qml.RY(params[0], wires=7)\n",
    "        qml.RY(params[1], wires=0)\n",
    "        qml.CNOT(wires=[7, 0])\n",
    "        qml.BitFlip(p_bitflip_error, wires=7)\n",
    "        qml.BitFlip(p_bitflip_error, wires=0)\n",
    "        for i in range(0, 8, 2):\n",
    "            qml.RY(params[0], wires=i)\n",
    "            qml.RY(params[1], wires=i+1)\n",
    "            qml.CNOT(wires=[i, i+1])\n",
    "            qml.BitFlip(p_bitflip_error, wires=i)\n",
    "            qml.BitFlip(p_bitflip_error, wires=i+1)\n",
    "        for i in range(1, 7, 2):\n",
    "            qml.RY(params[0], wires=i)\n",
    "            qml.RY(params[1], wires=i+1)\n",
    "            qml.CNOT(wires=[i, i+1])\n",
    "            qml.BitFlip(p_bitflip_error, wires=i)\n",
    "            qml.BitFlip(p_bitflip_error, wires=i+1)\n",
    "\n",
    "        # Layer 1 - Pooling\n",
    "        for i in range(0, 8, 2):\n",
    "            qml.CRZ(params[6], wires=[i+1, i])\n",
    "            qml.PauliX(wires=i+1)\n",
    "            qml.CRX(params[7], wires=[i+1, i])\n",
    "            qml.BitFlip(p_bitflip_error, wires=i)\n",
    "            qml.BitFlip(p_bitflip_error, wires=i+1)\n",
    "\n",
    "        # Layer 2 - Convolution\n",
    "        qml.RY(params[2], wires=6)\n",
    "        qml.RY(params[3], wires=0)\n",
    "        qml.CNOT(wires=[6, 0])\n",
    "        qml.BitFlip(p_bitflip_error, wires=6)\n",
    "        qml.BitFlip(p_bitflip_error, wires=0)\n",
    "            \n",
    "        qml.RY(params[2], wires=0)\n",
    "        qml.RY(params[3], wires=2)\n",
    "        qml.CNOT(wires=[0, 2])\n",
    "        qml.BitFlip(p_bitflip_error, wires=0)\n",
    "        qml.BitFlip(p_bitflip_error, wires=2)\n",
    "        \n",
    "        qml.RY(params[2], wires=4)\n",
    "        qml.RY(params[3], wires=6)\n",
    "        qml.CNOT(wires=[4, 6])\n",
    "        qml.BitFlip(p_bitflip_error, wires=4)\n",
    "        qml.BitFlip(p_bitflip_error, wires=6)\n",
    "        \n",
    "        qml.RY(params[2], wires=2)\n",
    "        qml.RY(params[3], wires=4)\n",
    "        qml.CNOT(wires=[2, 4])\n",
    "        qml.BitFlip(p_bitflip_error, wires=2)\n",
    "        qml.BitFlip(p_bitflip_error, wires=4)\n",
    "        \n",
    "        # Layer 2 - Pooling\n",
    "        qml.CRZ(params[8], wires=[2, 0])\n",
    "        qml.PauliX(wires=2)\n",
    "        qml.CRX(params[9], wires=[2, 0])\n",
    "        qml.BitFlip(p_bitflip_error, wires=2)\n",
    "        qml.BitFlip(p_bitflip_error, wires=0)\n",
    "        \n",
    "        qml.CRZ(params[8], wires=[6, 4])\n",
    "        qml.PauliX(wires=6)\n",
    "        qml.CRX(params[9], wires=[6, 4])\n",
    "        qml.BitFlip(p_bitflip_error, wires=6)\n",
    "        qml.BitFlip(p_bitflip_error, wires=4)\n",
    "\n",
    "        # Layer 3 - Convolution\n",
    "        qml.RY(params[4], wires=4)\n",
    "        qml.RY(params[5], wires=0)\n",
    "        qml.CNOT(wires=[4, 0])\n",
    "        qml.BitFlip(p_bitflip_error, wires=4)\n",
    "        qml.BitFlip(p_bitflip_error, wires=0)\n",
    "\n",
    "        # Layer 3 - Pooling\n",
    "        qml.CRZ(params[10], wires=[4, 0])\n",
    "        qml.PauliX(wires=4)\n",
    "        qml.CRX(params[11], wires=[4, 0])\n",
    "        qml.BitFlip(p_bitflip_error, wires=4)\n",
    "        qml.BitFlip(p_bitflip_error, wires=0)\n",
    "\n",
    "    # Convolutional Layer #2\n",
    "    elif U == \"U_9\":\n",
    "        # Layer 1 - Convolution\n",
    "        qml.Hadamard(wires=7)\n",
    "        qml.Hadamard(wires=0)\n",
    "        qml.CZ(wires=[7, 0])\n",
    "        qml.RX(params[0], wires=7)\n",
    "        qml.RX(params[1], wires=0)\n",
    "        for i in range(0, 8, 2):\n",
    "            qml.Hadamard(wires=i)\n",
    "            qml.Hadamard(wires=i+1)\n",
    "            qml.CZ(wires=[i, i+1])\n",
    "            qml.RX(params[0], wires=i)\n",
    "            qml.RX(params[1], wires=i+1)\n",
    "        for i in range(1, 7, 2):\n",
    "            qml.Hadamard(wires=i)\n",
    "            qml.Hadamard(wires=i+1)\n",
    "            qml.CZ(wires=[i, i+1])\n",
    "            qml.RX(params[0], wires=i)\n",
    "            qml.RX(params[1], wires=i+1)\n",
    "\n",
    "        # Layer 1 - Pooling\n",
    "        for i in range(0, 8, 2):\n",
    "            qml.CRZ(params[6], wires=[i+1, i])\n",
    "            qml.PauliX(wires=i+1)\n",
    "            qml.CRX(params[7], wires=[i+1, i])\n",
    "\n",
    "        # Layer 2 - Convolution\n",
    "        qml.Hadamard(wires=6)\n",
    "        qml.Hadamard(wires=0)\n",
    "        qml.CZ(wires=[6, 0])\n",
    "        qml.RX(params[2], wires=6)\n",
    "        qml.RX(params[3], wires=0)\n",
    "        qml.Hadamard(wires=0)\n",
    "        qml.Hadamard(wires=2)\n",
    "        qml.CZ(wires=[0, 2])\n",
    "        qml.RX(params[2], wires=0)\n",
    "        qml.RX(params[3], wires=2)\n",
    "        qml.Hadamard(wires=4)\n",
    "        qml.Hadamard(wires=6)\n",
    "        qml.CZ(wires=[4, 6])\n",
    "        qml.RX(params[2], wires=4)\n",
    "        qml.RX(params[3], wires=6)\n",
    "        qml.Hadamard(wires=2)\n",
    "        qml.Hadamard(wires=4)\n",
    "        qml.CZ(wires=[2, 4])\n",
    "        qml.RX(params[2], wires=2)\n",
    "        qml.RX(params[3], wires=4)\n",
    "\n",
    "        # Layer 2 - Pooling\n",
    "        qml.CRZ(params[8], wires=[2, 0])\n",
    "        qml.PauliX(wires=2)\n",
    "        qml.CRX(params[9], wires=[2, 0])\n",
    "        qml.CRZ(params[8], wires=[6, 4])\n",
    "        qml.PauliX(wires=6)\n",
    "        qml.CRX(params[9], wires=[6, 4])\n",
    "\n",
    "        # Layer 3 - Convolution\n",
    "        qml.Hadamard(wires=4)\n",
    "        qml.Hadamard(wires=0)\n",
    "        qml.CZ(wires=[4, 0])\n",
    "        qml.RX(params[4], wires=4)\n",
    "        qml.RX(params[5], wires=0)\n",
    "\n",
    "        # Layer 3 - Pooling\n",
    "        qml.CRZ(params[10], wires=[4, 0])\n",
    "        qml.PauliX(wires=4)\n",
    "        qml.CRX(params[11], wires=[4, 0])\n",
    "\n",
    "    # Convolutional Layer #3\n",
    "    elif U == \"U_15\":\n",
    "        # Layer 1 - Convolution\n",
    "        qml.RY(params[0], wires=7)\n",
    "        qml.RY(params[1], wires=0)\n",
    "        qml.CNOT(wires=[0, 7])\n",
    "        qml.RY(params[2], wires=7)\n",
    "        qml.RY(params[3], wires=0)\n",
    "        qml.CNOT(wires=[7, 0])\n",
    "        for i in range(0, 8, 2):\n",
    "            qml.RY(params[0], wires=i)\n",
    "            qml.RY(params[1], wires=i+1)\n",
    "            qml.CNOT(wires=[i+1, i])\n",
    "            qml.RY(params[2], wires=i)\n",
    "            qml.RY(params[3], wires=i+1)\n",
    "            qml.CNOT(wires=[i, i+1])\n",
    "        for i in range(1, 7, 2):\n",
    "            qml.RY(params[0], wires=i)\n",
    "            qml.RY(params[1], wires=i+1)\n",
    "            qml.CNOT(wires=[i+1, i])\n",
    "            qml.RY(params[2], wires=i)\n",
    "            qml.RY(params[3], wires=i+1)\n",
    "            qml.CNOT(wires=[i, i+1])\n",
    "\n",
    "        # Layer 1 - Pooling\n",
    "        for i in range(0, 8, 2):\n",
    "            qml.CRZ(params[12], wires=[i+1, i])\n",
    "            qml.PauliX(wires=i+1)\n",
    "            qml.CRX(params[13], wires=[i+1, i])\n",
    "\n",
    "        # Layer 2 - Convolution\n",
    "        qml.RY(params[4], wires=6)\n",
    "        qml.RY(params[5], wires=0)\n",
    "        qml.CNOT(wires=[6, 0])\n",
    "        qml.RY(params[6], wires=6)\n",
    "        qml.RY(params[7], wires=0)\n",
    "        qml.CNOT(wires=[6, 0])\n",
    "        qml.RY(params[4], wires=0)\n",
    "        qml.RY(params[5], wires=2)\n",
    "        qml.CNOT(wires=[0, 2])\n",
    "        qml.RY(params[6], wires=0)\n",
    "        qml.RY(params[7], wires=2)\n",
    "        qml.CNOT(wires=[0, 2])\n",
    "        qml.RY(params[4], wires=4)\n",
    "        qml.RY(params[5], wires=6)\n",
    "        qml.CNOT(wires=[4, 6])\n",
    "        qml.RY(params[6], wires=4)\n",
    "        qml.RY(params[7], wires=6)\n",
    "        qml.CNOT(wires=[4, 6])\n",
    "        qml.RY(params[4], wires=2)\n",
    "        qml.RY(params[5], wires=4)\n",
    "        qml.CNOT(wires=[2, 4])\n",
    "        qml.RY(params[6], wires=2)\n",
    "        qml.RY(params[7], wires=4)\n",
    "        qml.CNOT(wires=[2, 4])\n",
    "\n",
    "        # Layer 2 - Pooling\n",
    "        qml.CRZ(params[14], wires=[2, 0])\n",
    "        qml.PauliX(wires=2)\n",
    "        qml.CRX(params[15], wires=[2, 0])\n",
    "        qml.CRZ(params[14], wires=[6, 4])\n",
    "        qml.PauliX(wires=6)\n",
    "        qml.CRX(params[15], wires=[6, 4])\n",
    "\n",
    "        # Layer 3 - Convolution\n",
    "        qml.RY(params[8], wires=4)\n",
    "        qml.RY(params[9], wires=0)\n",
    "        qml.CNOT(wires=[4, 0])\n",
    "        qml.RY(params[10], wires=4)\n",
    "        qml.RY(params[11], wires=0)\n",
    "        qml.CNOT(wires=[4, 0])\n",
    "\n",
    "        # Layer 3 - Pooling\n",
    "        qml.CRZ(params[16], wires=[4, 0])\n",
    "        qml.PauliX(wires=4)\n",
    "        qml.CRX(params[17], wires=[4, 0])\n",
    "\n",
    "    # Convolutional Layer #4\n",
    "    elif U == \"U_13\":\n",
    "        # Layer 1 - Convolution\n",
    "        qml.RY(params[0], wires=7)\n",
    "        qml.RY(params[1], wires=0)\n",
    "        qml.CRZ(params[2], wires=[0, 7])\n",
    "        qml.RY(params[3], wires=7)\n",
    "        qml.RY(params[4], wires=0)\n",
    "        qml.CRZ(params[5], wires=[7, 0])\n",
    "        for i in range(0, 8, 2):\n",
    "            qml.RY(params[0], wires=i)\n",
    "            qml.RY(params[1], wires=i+1)\n",
    "            qml.CRZ(params[2], wires=[i+1, i])\n",
    "            qml.RY(params[3], wires=i)\n",
    "            qml.RY(params[4], wires=i+1)\n",
    "            qml.CRZ(params[5], wires=[i, i+1])\n",
    "        for i in range(1, 7, 2):\n",
    "            qml.RY(params[0], wires=i)\n",
    "            qml.RY(params[1], wires=i+1)\n",
    "            qml.CRZ(params[2], wires=[i+1, i])\n",
    "            qml.RY(params[3], wires=i)\n",
    "            qml.RY(params[4], wires=i+1)\n",
    "            qml.CRZ(params[5], wires=[i, i+1])\n",
    "\n",
    "        # Layer 1 - Pooling\n",
    "        for i in range(0, 8, 2):\n",
    "            qml.CRZ(params[18], wires=[i+1, i])\n",
    "            qml.PauliX(wires=i+1)\n",
    "            qml.CRX(params[19], wires=[i+1, i])\n",
    "\n",
    "        # Layer 2 - Convolution\n",
    "        qml.RY(params[6], wires=6)\n",
    "        qml.RY(params[7], wires=0)\n",
    "        qml.CRZ(params[8], wires=[6, 0])\n",
    "        qml.RY(params[9], wires=6)\n",
    "        qml.RY(params[10], wires=0)\n",
    "        qml.CRZ(params[11], wires=[6, 0])\n",
    "        qml.RY(params[6], wires=0)\n",
    "        qml.RY(params[7], wires=2)\n",
    "        qml.CRZ(params[8], wires=[0, 2])\n",
    "        qml.RY(params[9], wires=0)\n",
    "        qml.RY(params[10], wires=2)\n",
    "        qml.CRZ(params[11], wires=[0, 2])\n",
    "        qml.RY(params[6], wires=4)\n",
    "        qml.RY(params[7], wires=6)\n",
    "        qml.CRZ(params[8], wires=[4, 6])\n",
    "        qml.RY(params[9], wires=4)\n",
    "        qml.RY(params[10], wires=6)\n",
    "        qml.CRZ(params[11], wires=[4, 6])\n",
    "        qml.RY(params[6], wires=2)\n",
    "        qml.RY(params[7], wires=4)\n",
    "        qml.CRZ(params[8], wires=[2, 4])\n",
    "        qml.RY(params[9], wires=2)\n",
    "        qml.RY(params[10], wires=4)\n",
    "        qml.CRZ(params[11], wires=[2, 4])\n",
    "\n",
    "        # Layer 2 - Pooling\n",
    "        qml.CRZ(params[20], wires=[2, 0])\n",
    "        qml.PauliX(wires=2)\n",
    "        qml.CRX(params[21], wires=[2, 0])\n",
    "        qml.CRZ(params[20], wires=[6, 4])\n",
    "        qml.PauliX(wires=6)\n",
    "        qml.CRX(params[21], wires=[6, 4])\n",
    "\n",
    "        # Layer 3 - Convolution\n",
    "        qml.RY(params[12], wires=4)\n",
    "        qml.RY(params[13], wires=0)\n",
    "        qml.CRZ(params[14], wires=[4, 0])\n",
    "        qml.RY(params[15], wires=4)\n",
    "        qml.RY(params[16], wires=0)\n",
    "        qml.CRZ(params[17], wires=[4, 0])\n",
    "\n",
    "        # Layer 3 - Pooling\n",
    "        qml.CRZ(params[22], wires=[4, 0])\n",
    "        qml.PauliX(wires=4)\n",
    "        qml.CRX(params[23], wires=[4, 0])\n",
    "\n",
    "    # Convolutional Layer #5\n",
    "    elif U == \"U_14\":\n",
    "        # Layer 1 - Convolution\n",
    "        qml.RY(params[0], wires=7)\n",
    "        qml.RY(params[1], wires=0)\n",
    "        qml.CRX(params[2], wires=[0, 7])\n",
    "        qml.RY(params[3], wires=7)\n",
    "        qml.RY(params[4], wires=0)\n",
    "        qml.CRX(params[5], wires=[7, 0])\n",
    "        for i in range(0, 8, 2):\n",
    "            qml.RY(params[0], wires=i)\n",
    "            qml.RY(params[1], wires=i+1)\n",
    "            qml.CRX(params[2], wires=[i+1, i])\n",
    "            qml.RY(params[3], wires=i)\n",
    "            qml.RY(params[4], wires=i+1)\n",
    "            qml.CRX(params[5], wires=[i, i+1])\n",
    "        for i in range(1, 7, 2):\n",
    "            qml.RY(params[0], wires=i)\n",
    "            qml.RY(params[1], wires=i+1)\n",
    "            qml.CRX(params[2], wires=[i+1, i])\n",
    "            qml.RY(params[3], wires=i)\n",
    "            qml.RY(params[4], wires=i+1)\n",
    "            qml.CRX(params[5], wires=[i, i+1])\n",
    "\n",
    "        # Layer 1 - Pooling\n",
    "        for i in range(0, 8, 2):\n",
    "            qml.CRZ(params[18], wires=[i+1, i])\n",
    "            qml.PauliX(wires=i+1)\n",
    "            qml.CRX(params[19], wires=[i+1, i])\n",
    "\n",
    "        # Layer 2 - Convolution\n",
    "        qml.RY(params[6], wires=6)\n",
    "        qml.RY(params[7], wires=0)\n",
    "        qml.CRX(params[8], wires=[0, 6])\n",
    "        qml.RY(params[9], wires=6)\n",
    "        qml.RY(params[10], wires=0)\n",
    "        qml.CRX(params[11], wires=[6, 0])\n",
    "        qml.RY(params[6], wires=0)\n",
    "        qml.RY(params[7], wires=2)\n",
    "        qml.CRX(params[8], wires=[2, 0])\n",
    "        qml.RY(params[9], wires=0)\n",
    "        qml.RY(params[10], wires=2)\n",
    "        qml.CRX(params[11], wires=[0, 2])\n",
    "        qml.RY(params[6], wires=4)\n",
    "        qml.RY(params[7], wires=6)\n",
    "        qml.CRX(params[8], wires=[6, 4])\n",
    "        qml.RY(params[9], wires=4)\n",
    "        qml.RY(params[10], wires=6)\n",
    "        qml.CRX(params[11], wires=[4, 6])\n",
    "        qml.RY(params[6], wires=2)\n",
    "        qml.RY(params[7], wires=4)\n",
    "        qml.CRX(params[8], wires=[4, 2])\n",
    "        qml.RY(params[9], wires=2)\n",
    "        qml.RY(params[10], wires=4)\n",
    "        qml.CRX(params[11], wires=[2, 4])\n",
    "\n",
    "        # Layer 2 - Pooling\n",
    "        qml.CRZ(params[20], wires=[2, 0])\n",
    "        qml.PauliX(wires=2)\n",
    "        qml.CRX(params[21], wires=[2, 0])\n",
    "        qml.CRZ(params[20], wires=[6, 4])\n",
    "        qml.PauliX(wires=6)\n",
    "        qml.CRX(params[21], wires=[6, 4])\n",
    "\n",
    "        # Layer 3 - Convolution\n",
    "        qml.RY(params[12], wires=4)\n",
    "        qml.RY(params[13], wires=0)\n",
    "        qml.CRX(params[14], wires=[0, 4])\n",
    "        qml.RY(params[15], wires=4)\n",
    "        qml.RY(params[16], wires=0)\n",
    "        qml.CRX(params[17], wires=[4, 0])\n",
    "\n",
    "        # Layer 3 - Pooling\n",
    "        qml.CRZ(params[22], wires=[4, 0])\n",
    "        qml.PauliX(wires=4)\n",
    "        qml.CRX(params[23], wires=[4, 0])\n",
    "\n",
    "    # Convolutional Layer #6\n",
    "    elif U == \"U_SO4\":\n",
    "        # Layer 1 - Convolution\n",
    "        qml.RY(params[0], wires=7)\n",
    "        qml.RY(params[1], wires=0)\n",
    "        qml.CNOT(wires=[7, 0])\n",
    "        qml.RY(params[2], wires=7)\n",
    "        qml.RY(params[3], wires=0)\n",
    "        qml.CNOT(wires=[7, 0])\n",
    "        qml.RY(params[4], wires=7)\n",
    "        qml.RY(params[5], wires=0)\n",
    "        for i in range(0, 8, 2):\n",
    "            qml.RY(params[0], wires=i)\n",
    "            qml.RY(params[1], wires=i+1)\n",
    "            qml.CNOT(wires=[i, i+1])\n",
    "            qml.RY(params[2], wires=i)\n",
    "            qml.RY(params[3], wires=i+1)\n",
    "            qml.CNOT(wires=[i, i+1])\n",
    "            qml.RY(params[4], wires=i)\n",
    "            qml.RY(params[5], wires=i+1)\n",
    "        for i in range(1, 7, 2):\n",
    "            qml.RY(params[0], wires=i)\n",
    "            qml.RY(params[1], wires=i+1)\n",
    "            qml.CNOT(wires=[i, i+1])\n",
    "            qml.RY(params[2], wires=i)\n",
    "            qml.RY(params[3], wires=i+1)\n",
    "            qml.CNOT(wires=[i, i+1])\n",
    "            qml.RY(params[4], wires=i)\n",
    "            qml.RY(params[5], wires=i+1)\n",
    "\n",
    "        # Layer 1 - Pooling\n",
    "        for i in range(0, 8, 2):\n",
    "            qml.CRZ(params[18], wires=[i+1, i])\n",
    "            qml.PauliX(wires=i+1)\n",
    "            qml.CRX(params[19], wires=[i+1, i])\n",
    "\n",
    "        # Layer 2 - Convolution\n",
    "        qml.RY(params[6], wires=6)\n",
    "        qml.RY(params[7], wires=0)\n",
    "        qml.CNOT(wires=[6, 0])\n",
    "        qml.RY(params[8], wires=6)\n",
    "        qml.RY(params[9], wires=0)\n",
    "        qml.CNOT(wires=[6, 0])\n",
    "        qml.RY(params[10], wires=6)\n",
    "        qml.RY(params[11], wires=0)\n",
    "        qml.RY(params[6], wires=0)\n",
    "        qml.RY(params[7], wires=2)\n",
    "        qml.CNOT(wires=[0, 2])\n",
    "        qml.RY(params[8], wires=0)\n",
    "        qml.RY(params[9], wires=2)\n",
    "        qml.CNOT(wires=[0, 2])\n",
    "        qml.RY(params[10], wires=0)\n",
    "        qml.RY(params[11], wires=2)\n",
    "        qml.RY(params[6], wires=4)\n",
    "        qml.RY(params[7], wires=6)\n",
    "        qml.CNOT(wires=[4, 6])\n",
    "        qml.RY(params[8], wires=4)\n",
    "        qml.RY(params[9], wires=6)\n",
    "        qml.CNOT(wires=[4, 6])\n",
    "        qml.RY(params[10], wires=4)\n",
    "        qml.RY(params[11], wires=6)\n",
    "        qml.RY(params[6], wires=2)\n",
    "        qml.RY(params[7], wires=4)\n",
    "        qml.CNOT(wires=[2, 4])\n",
    "        qml.RY(params[8], wires=2)\n",
    "        qml.RY(params[9], wires=4)\n",
    "        qml.CNOT(wires=[2, 4])\n",
    "        qml.RY(params[10], wires=2)\n",
    "        qml.RY(params[11], wires=4)\n",
    "\n",
    "        # Layer 2 - Pooling\n",
    "        qml.CRZ(params[20], wires=[2, 0])\n",
    "        qml.PauliX(wires=2)\n",
    "        qml.CRX(params[21], wires=[2, 0])\n",
    "        qml.CRZ(params[20], wires=[6, 4])\n",
    "        qml.PauliX(wires=6)\n",
    "        qml.CRX(params[21], wires=[6, 4])\n",
    "\n",
    "        # Layer 3 - Convolution\n",
    "        qml.RY(params[12], wires=4)\n",
    "        qml.RY(params[13], wires=0)\n",
    "        qml.CNOT(wires=[4, 0])\n",
    "        qml.RY(params[14], wires=4)\n",
    "        qml.RY(params[15], wires=0)\n",
    "        qml.CNOT(wires=[4, 0])\n",
    "        qml.RY(params[16], wires=4)\n",
    "        qml.RY(params[17], wires=0)\n",
    "\n",
    "        # Layer 3 - Pooling\n",
    "        qml.CRZ(params[22], wires=[4, 0])\n",
    "        qml.PauliX(wires=4)\n",
    "        qml.CRX(params[23], wires=[4, 0])\n",
    "\n",
    "    # Convolutional Layer #7\n",
    "    elif U == \"U_5\":\n",
    "        # Layer 1 - Convolution\n",
    "        qml.RX(params[0], wires=7)\n",
    "        qml.RX(params[1], wires=0)\n",
    "        qml.RZ(params[2], wires=7)\n",
    "        qml.RZ(params[3], wires=0)\n",
    "        qml.CRZ(params[4], wires=[0, 7])\n",
    "        qml.CRZ(params[5], wires=[7, 0])\n",
    "        qml.RX(params[6], wires=7)\n",
    "        qml.RX(params[7], wires=0)\n",
    "        qml.RZ(params[8], wires=7)\n",
    "        qml.RZ(params[9], wires=0)\n",
    "        for i in range(0, 8, 2):\n",
    "            qml.RX(params[0], wires=i)\n",
    "            qml.RX(params[1], wires=i+1)\n",
    "            qml.RZ(params[2], wires=i)\n",
    "            qml.RZ(params[3], wires=i+1)\n",
    "            qml.CRZ(params[4], wires=[i+1, i])\n",
    "            qml.CRZ(params[5], wires=[i, i+1])\n",
    "            qml.RX(params[6], wires=i)\n",
    "            qml.RX(params[7], wires=i+1)\n",
    "            qml.RZ(params[8], wires=i)\n",
    "            qml.RZ(params[9], wires=i+1)\n",
    "        for i in range(1, 7, 2):\n",
    "            qml.RX(params[0], wires=i)\n",
    "            qml.RX(params[1], wires=i+1)\n",
    "            qml.RZ(params[2], wires=i)\n",
    "            qml.RZ(params[3], wires=i+1)\n",
    "            qml.CRZ(params[4], wires=[i+1, i])\n",
    "            qml.CRZ(params[5], wires=[i, i+1])\n",
    "            qml.RX(params[6], wires=i)\n",
    "            qml.RX(params[7], wires=i+1)\n",
    "            qml.RZ(params[8], wires=i)\n",
    "            qml.RZ(params[9], wires=i+1)\n",
    "\n",
    "        # Layer 1 - Pooling\n",
    "        for i in range(0, 8, 2):\n",
    "            qml.CRZ(params[30], wires=[i+1, i])\n",
    "            qml.PauliX(wires=i+1)\n",
    "            qml.CRX(params[31], wires=[i+1, i])\n",
    "\n",
    "        # Layer 2 - Convolution\n",
    "        qml.RX(params[10], wires=6)\n",
    "        qml.RX(params[11], wires=0)\n",
    "        qml.RZ(params[12], wires=6)\n",
    "        qml.RZ(params[13], wires=0)\n",
    "        qml.CRZ(params[14], wires=[0, 6])\n",
    "        qml.CRZ(params[15], wires=[6, 0])\n",
    "        qml.RX(params[16], wires=6)\n",
    "        qml.RX(params[17], wires=0)\n",
    "        qml.RZ(params[18], wires=6)\n",
    "        qml.RZ(params[19], wires=0)\n",
    "        qml.RX(params[10], wires=0)\n",
    "        qml.RX(params[11], wires=2)\n",
    "        qml.RZ(params[12], wires=0)\n",
    "        qml.RZ(params[13], wires=2)\n",
    "        qml.CRZ(params[14], wires=[2, 0])\n",
    "        qml.CRZ(params[15], wires=[0, 2])\n",
    "        qml.RX(params[16], wires=0)\n",
    "        qml.RX(params[17], wires=2)\n",
    "        qml.RZ(params[18], wires=0)\n",
    "        qml.RZ(params[19], wires=2)\n",
    "        qml.RX(params[10], wires=4)\n",
    "        qml.RX(params[11], wires=6)\n",
    "        qml.RZ(params[12], wires=4)\n",
    "        qml.RZ(params[13], wires=6)\n",
    "        qml.CRZ(params[14], wires=[6, 4])\n",
    "        qml.CRZ(params[15], wires=[4, 6])\n",
    "        qml.RX(params[16], wires=4)\n",
    "        qml.RX(params[17], wires=6)\n",
    "        qml.RZ(params[18], wires=4)\n",
    "        qml.RZ(params[19], wires=6)\n",
    "        qml.RX(params[10], wires=2)\n",
    "        qml.RX(params[11], wires=4)\n",
    "        qml.RZ(params[12], wires=2)\n",
    "        qml.RZ(params[13], wires=4)\n",
    "        qml.CRZ(params[14], wires=[4, 2])\n",
    "        qml.CRZ(params[15], wires=[2, 4])\n",
    "        qml.RX(params[16], wires=2)\n",
    "        qml.RX(params[17], wires=4)\n",
    "        qml.RZ(params[18], wires=2)\n",
    "        qml.RZ(params[19], wires=4)\n",
    "\n",
    "        # Layer 2 - Pooling\n",
    "        qml.CRZ(params[32], wires=[2, 0])\n",
    "        qml.PauliX(wires=2)\n",
    "        qml.CRX(params[33], wires=[2, 0])\n",
    "        qml.CRZ(params[32], wires=[6, 4])\n",
    "        qml.PauliX(wires=6)\n",
    "        qml.CRX(params[33], wires=[6, 4])\n",
    "\n",
    "        # Layer 3 - Convolution\n",
    "        qml.RX(params[20], wires=4)\n",
    "        qml.RX(params[21], wires=0)\n",
    "        qml.RZ(params[22], wires=4)\n",
    "        qml.RZ(params[23], wires=0)\n",
    "        qml.CRZ(params[24], wires=[0, 4])\n",
    "        qml.CRZ(params[25], wires=[4, 0])\n",
    "        qml.RX(params[26], wires=4)\n",
    "        qml.RX(params[27], wires=0)\n",
    "        qml.RZ(params[28], wires=4)\n",
    "        qml.RZ(params[29], wires=0)\n",
    "\n",
    "        # Layer 3 - Pooling\n",
    "        qml.CRZ(params[34], wires=[4, 0])\n",
    "        qml.PauliX(wires=4)\n",
    "        qml.CRX(params[35], wires=[4, 0])\n",
    "\n",
    "    # Convolutional Layer #8\n",
    "    elif U == \"U_6\":\n",
    "        # Layer 1 - Convolution\n",
    "        qml.RX(params[0], wires=7)\n",
    "        qml.RX(params[1], wires=0)\n",
    "        qml.RZ(params[2], wires=7)\n",
    "        qml.RZ(params[3], wires=0)\n",
    "        qml.CRX(params[4], wires=[0, 7])\n",
    "        qml.CRX(params[5], wires=[7, 0])\n",
    "        qml.RX(params[6], wires=7)\n",
    "        qml.RX(params[7], wires=0)\n",
    "        qml.RZ(params[8], wires=7)\n",
    "        qml.RZ(params[9], wires=0)\n",
    "        for i in range(0, 8, 2):\n",
    "            qml.RX(params[0], wires=i)\n",
    "            qml.RX(params[1], wires=i+1)\n",
    "            qml.RZ(params[2], wires=i)\n",
    "            qml.RZ(params[3], wires=i+1)\n",
    "            qml.CRX(params[4], wires=[i+1, i])\n",
    "            qml.CRX(params[5], wires=[i, i+1])\n",
    "            qml.RX(params[6], wires=i)\n",
    "            qml.RX(params[7], wires=i+1)\n",
    "            qml.RZ(params[8], wires=i)\n",
    "            qml.RZ(params[9], wires=i+1)\n",
    "        for i in range(1, 7, 2):\n",
    "            qml.RX(params[0], wires=i)\n",
    "            qml.RX(params[1], wires=i+1)\n",
    "            qml.RZ(params[2], wires=i)\n",
    "            qml.RZ(params[3], wires=i+1)\n",
    "            qml.CRX(params[4], wires=[i+1, i])\n",
    "            qml.CRX(params[5], wires=[i, i+1])\n",
    "            qml.RX(params[6], wires=i)\n",
    "            qml.RX(params[7], wires=i+1)\n",
    "            qml.RZ(params[8], wires=i)\n",
    "            qml.RZ(params[9], wires=i+1)\n",
    "\n",
    "        # Layer 1 - Pooling\n",
    "        for i in range(0, 8, 2):\n",
    "            qml.CRZ(params[30], wires=[i+1, i])\n",
    "            qml.PauliX(wires=i+1)\n",
    "            qml.CRX(params[31], wires=[i+1, i])\n",
    "\n",
    "        # Layer 2 - Convolution\n",
    "        qml.RX(params[10], wires=6)\n",
    "        qml.RX(params[11], wires=0)\n",
    "        qml.RZ(params[12], wires=6)\n",
    "        qml.RZ(params[13], wires=0)\n",
    "        qml.CRX(params[14], wires=[0, 6])\n",
    "        qml.CRX(params[15], wires=[6, 0])\n",
    "        qml.RX(params[16], wires=6)\n",
    "        qml.RX(params[17], wires=0)\n",
    "        qml.RZ(params[18], wires=6)\n",
    "        qml.RZ(params[19], wires=0)\n",
    "        qml.RX(params[10], wires=0)\n",
    "        qml.RX(params[11], wires=2)\n",
    "        qml.RZ(params[12], wires=0)\n",
    "        qml.RZ(params[13], wires=2)\n",
    "        qml.CRX(params[14], wires=[2, 0])\n",
    "        qml.CRX(params[15], wires=[0, 2])\n",
    "        qml.RX(params[16], wires=0)\n",
    "        qml.RX(params[17], wires=2)\n",
    "        qml.RZ(params[18], wires=0)\n",
    "        qml.RZ(params[19], wires=2)\n",
    "        qml.RX(params[10], wires=4)\n",
    "        qml.RX(params[11], wires=6)\n",
    "        qml.RZ(params[12], wires=4)\n",
    "        qml.RZ(params[13], wires=6)\n",
    "        qml.CRX(params[14], wires=[6, 4])\n",
    "        qml.CRX(params[15], wires=[4, 6])\n",
    "        qml.RX(params[16], wires=4)\n",
    "        qml.RX(params[17], wires=6)\n",
    "        qml.RZ(params[18], wires=4)\n",
    "        qml.RZ(params[19], wires=6)\n",
    "        qml.RX(params[10], wires=2)\n",
    "        qml.RX(params[11], wires=4)\n",
    "        qml.RZ(params[12], wires=2)\n",
    "        qml.RZ(params[13], wires=4)\n",
    "        qml.CRX(params[14], wires=[4, 2])\n",
    "        qml.CRX(params[15], wires=[2, 4])\n",
    "        qml.RX(params[16], wires=2)\n",
    "        qml.RX(params[17], wires=4)\n",
    "        qml.RZ(params[18], wires=2)\n",
    "        qml.RZ(params[19], wires=4)\n",
    "\n",
    "        # Layer 2 - Pooling\n",
    "        qml.CRZ(params[32], wires=[2, 0])\n",
    "        qml.PauliX(wires=2)\n",
    "        qml.CRX(params[33], wires=[2, 0])\n",
    "        qml.CRZ(params[32], wires=[6, 4])\n",
    "        qml.PauliX(wires=6)\n",
    "        qml.CRX(params[33], wires=[6, 4])\n",
    "\n",
    "        # Layer 3 - Convolution\n",
    "        qml.RX(params[20], wires=4)\n",
    "        qml.RX(params[21], wires=0)\n",
    "        qml.RZ(params[22], wires=4)\n",
    "        qml.RZ(params[23], wires=0)\n",
    "        qml.CRX(params[24], wires=[0, 4])\n",
    "        qml.CRX(params[25], wires=[4, 0])\n",
    "        qml.RX(params[26], wires=4)\n",
    "        qml.RX(params[27], wires=0)\n",
    "        qml.RZ(params[28], wires=4)\n",
    "        qml.RZ(params[29], wires=0)\n",
    "\n",
    "        # Layer 3 - Pooling\n",
    "        qml.CRZ(params[34], wires=[4, 0])\n",
    "        qml.PauliX(wires=4)\n",
    "        qml.CRX(params[35], wires=[4, 0])\n",
    "\n",
    "    # Convolutional Layer #9a\n",
    "    elif U == \"U_SU4\":\n",
    "        # Layer 1 - Convolution\n",
    "        qml.U3(params[0], params[1], params[2], wires=7)\n",
    "        qml.U3(params[3], params[4], params[5], wires=0)\n",
    "        qml.CNOT(wires=[7, 0])\n",
    "        qml.RY(params[6], wires=7)\n",
    "        qml.RZ(params[7], wires=0)\n",
    "        qml.CNOT(wires=[0, 7])\n",
    "        qml.RY(params[8], wires=7)\n",
    "        qml.CNOT(wires=[7, 0])\n",
    "        qml.U3(params[9], params[10], params[11], wires=7)\n",
    "        qml.U3(params[12], params[13], params[14], wires=0)\n",
    "        for i in range(0, 8, 2):\n",
    "            qml.U3(params[0], params[1], params[2], wires=i)\n",
    "            qml.U3(params[3], params[4], params[5], wires=i+1)\n",
    "            qml.CNOT(wires=[i, i+1])\n",
    "            qml.RY(params[6], wires=i)\n",
    "            qml.RZ(params[7], wires=i+1)\n",
    "            qml.CNOT(wires=[i+1, i])\n",
    "            qml.RY(params[8], wires=i)\n",
    "            qml.CNOT(wires=[i, i+1])\n",
    "            qml.U3(params[9], params[10], params[11], wires=i)\n",
    "            qml.U3(params[12], params[13], params[14], wires=i+1)\n",
    "        for i in range(1, 7, 2):\n",
    "            qml.U3(params[0], params[1], params[2], wires=i)\n",
    "            qml.U3(params[3], params[4], params[5], wires=i+1)\n",
    "            qml.CNOT(wires=[i, i+1])\n",
    "            qml.RY(params[6], wires=i)\n",
    "            qml.RZ(params[7], wires=i+1)\n",
    "            qml.CNOT(wires=[i+1, i])\n",
    "            qml.RY(params[8], wires=i)\n",
    "            qml.CNOT(wires=[i, i+1])\n",
    "            qml.U3(params[9], params[10], params[11], wires=i)\n",
    "            qml.U3(params[12], params[13], params[14], wires=i+1)\n",
    "\n",
    "        # Layer 1 - Pooling\n",
    "        for i in range(0, 8, 2):\n",
    "            qml.CRZ(params[45], wires=[i+1, i])\n",
    "            qml.PauliX(wires=i+1)\n",
    "            qml.CRX(params[46], wires=[i+1, i])\n",
    "\n",
    "        # Layer 2 - Convolution\n",
    "        qml.U3(params[15], params[16], params[17], wires=6)\n",
    "        qml.U3(params[18], params[19], params[20], wires=0)\n",
    "        qml.CNOT(wires=[6, 0])\n",
    "        qml.RY(params[21], wires=6)\n",
    "        qml.RZ(params[22], wires=0)\n",
    "        qml.CNOT(wires=[0, 6])\n",
    "        qml.RY(params[23], wires=6)\n",
    "        qml.CNOT(wires=[6, 0])\n",
    "        qml.U3(params[24], params[25], params[26], wires=6)\n",
    "        qml.U3(params[27], params[28], params[29], wires=0)\n",
    "        qml.U3(params[15], params[16], params[17], wires=0)\n",
    "        qml.U3(params[18], params[19], params[20], wires=2)\n",
    "        qml.CNOT(wires=[0, 2])\n",
    "        qml.RY(params[21], wires=0)\n",
    "        qml.RZ(params[22], wires=2)\n",
    "        qml.CNOT(wires=[2, 0])\n",
    "        qml.RY(params[23], wires=0)\n",
    "        qml.CNOT(wires=[0, 2])\n",
    "        qml.U3(params[24], params[25], params[26], wires=0)\n",
    "        qml.U3(params[27], params[28], params[29], wires=2)\n",
    "        qml.U3(params[15], params[16], params[17], wires=4)\n",
    "        qml.U3(params[18], params[19], params[20], wires=6)\n",
    "        qml.CNOT(wires=[4, 6])\n",
    "        qml.RY(params[21], wires=4)\n",
    "        qml.RZ(params[22], wires=6)\n",
    "        qml.CNOT(wires=[6, 4])\n",
    "        qml.RY(params[23], wires=4)\n",
    "        qml.CNOT(wires=[4, 6])\n",
    "        qml.U3(params[24], params[25], params[26], wires=4)\n",
    "        qml.U3(params[27], params[28], params[29], wires=6)\n",
    "        qml.U3(params[15], params[16], params[17], wires=2)\n",
    "        qml.U3(params[18], params[19], params[20], wires=4)\n",
    "        qml.CNOT(wires=[2, 4])\n",
    "        qml.RY(params[21], wires=2)\n",
    "        qml.RZ(params[22], wires=4)\n",
    "        qml.CNOT(wires=[4, 2])\n",
    "        qml.RY(params[23], wires=2)\n",
    "        qml.CNOT(wires=[2, 4])\n",
    "        qml.U3(params[24], params[25], params[26], wires=2)\n",
    "        qml.U3(params[27], params[28], params[29], wires=4)\n",
    "\n",
    "        # Layer 2 - Pooling\n",
    "        qml.CRZ(params[47], wires=[2, 0])\n",
    "        qml.PauliX(wires=2)\n",
    "        qml.CRX(params[48], wires=[2, 0])\n",
    "        qml.CRZ(params[47], wires=[6, 4])\n",
    "        qml.PauliX(wires=6)\n",
    "        qml.CRX(params[48], wires=[6, 4])\n",
    "\n",
    "        # Layer 3 - Convolution\n",
    "        qml.U3(params[30], params[31], params[32], wires=4)\n",
    "        qml.U3(params[33], params[34], params[35], wires=0)\n",
    "        qml.CNOT(wires=[4, 0])\n",
    "        qml.RY(params[36], wires=4)\n",
    "        qml.RZ(params[37], wires=0)\n",
    "        qml.CNOT(wires=[0, 4])\n",
    "        qml.RY(params[38], wires=4)\n",
    "        qml.CNOT(wires=[4, 0])\n",
    "        qml.U3(params[39], params[40], params[41], wires=4)\n",
    "        qml.U3(params[42], params[43], params[44], wires=0)\n",
    "\n",
    "        # Layer 3 - Pooling\n",
    "        qml.CRZ(params[49], wires=[4, 0])\n",
    "        qml.PauliX(wires=4)\n",
    "        qml.CRX(params[50], wires=[4, 0])\n",
    "\n",
    "    # Convolutional Layer #9b\n",
    "    elif U == \"U_SU4_no_pooling\":\n",
    "        # Layer 1 - Convolution\n",
    "        qml.U3(params[0], params[1], params[2], wires=7)\n",
    "        qml.U3(params[3], params[4], params[5], wires=0)\n",
    "        qml.CNOT(wires=[7, 0])\n",
    "        qml.RY(params[6], wires=7)\n",
    "        qml.RZ(params[7], wires=0)\n",
    "        qml.CNOT(wires=[0, 7])\n",
    "        qml.RY(params[8], wires=7)\n",
    "        qml.CNOT(wires=[7, 0])\n",
    "        qml.U3(params[9], params[10], params[11], wires=7)\n",
    "        qml.U3(params[12], params[13], params[14], wires=0)\n",
    "        for i in range(0, 8, 2):\n",
    "            qml.U3(params[0], params[1], params[2], wires=i)\n",
    "            qml.U3(params[3], params[4], params[5], wires=i+1)\n",
    "            qml.CNOT(wires=[i, i+1])\n",
    "            qml.RY(params[6], wires=i)\n",
    "            qml.RZ(params[7], wires=i+1)\n",
    "            qml.CNOT(wires=[i+1, i])\n",
    "            qml.RY(params[8], wires=i)\n",
    "            qml.CNOT(wires=[i, i+1])\n",
    "            qml.U3(params[9], params[10], params[11], wires=i)\n",
    "            qml.U3(params[12], params[13], params[14], wires=i+1)\n",
    "        for i in range(1, 7, 2):\n",
    "            qml.U3(params[0], params[1], params[2], wires=i)\n",
    "            qml.U3(params[3], params[4], params[5], wires=i+1)\n",
    "            qml.CNOT(wires=[i, i+1])\n",
    "            qml.RY(params[6], wires=i)\n",
    "            qml.RZ(params[7], wires=i+1)\n",
    "            qml.CNOT(wires=[i+1, i])\n",
    "            qml.RY(params[8], wires=i)\n",
    "            qml.CNOT(wires=[i, i+1])\n",
    "            qml.U3(params[9], params[10], params[11], wires=i)\n",
    "            qml.U3(params[12], params[13], params[14], wires=i+1)\n",
    "\n",
    "        # Layer 2 - Convolution\n",
    "        qml.U3(params[15], params[16], params[17], wires=6)\n",
    "        qml.U3(params[18], params[19], params[20], wires=0)\n",
    "        qml.CNOT(wires=[6, 0])\n",
    "        qml.RY(params[21], wires=6)\n",
    "        qml.RZ(params[22], wires=0)\n",
    "        qml.CNOT(wires=[0, 6])\n",
    "        qml.RY(params[23], wires=6)\n",
    "        qml.CNOT(wires=[6, 0])\n",
    "        qml.U3(params[24], params[25], params[26], wires=6)\n",
    "        qml.U3(params[27], params[28], params[29], wires=0)\n",
    "        qml.U3(params[15], params[16], params[17], wires=0)\n",
    "        qml.U3(params[18], params[19], params[20], wires=2)\n",
    "        qml.CNOT(wires=[0, 2])\n",
    "        qml.RY(params[21], wires=0)\n",
    "        qml.RZ(params[22], wires=2)\n",
    "        qml.CNOT(wires=[2, 0])\n",
    "        qml.RY(params[23], wires=0)\n",
    "        qml.CNOT(wires=[0, 2])\n",
    "        qml.U3(params[24], params[25], params[26], wires=0)\n",
    "        qml.U3(params[27], params[28], params[29], wires=2)\n",
    "        qml.U3(params[15], params[16], params[17], wires=4)\n",
    "        qml.U3(params[18], params[19], params[20], wires=6)\n",
    "        qml.CNOT(wires=[4, 6])\n",
    "        qml.RY(params[21], wires=4)\n",
    "        qml.RZ(params[22], wires=6)\n",
    "        qml.CNOT(wires=[6, 4])\n",
    "        qml.RY(params[23], wires=4)\n",
    "        qml.CNOT(wires=[4, 6])\n",
    "        qml.U3(params[24], params[25], params[26], wires=4)\n",
    "        qml.U3(params[27], params[28], params[29], wires=6)\n",
    "        qml.U3(params[15], params[16], params[17], wires=2)\n",
    "        qml.U3(params[18], params[19], params[20], wires=4)\n",
    "        qml.CNOT(wires=[2, 4])\n",
    "        qml.RY(params[21], wires=2)\n",
    "        qml.RZ(params[22], wires=4)\n",
    "        qml.CNOT(wires=[4, 2])\n",
    "        qml.RY(params[23], wires=2)\n",
    "        qml.CNOT(wires=[2, 4])\n",
    "        qml.U3(params[24], params[25], params[26], wires=2)\n",
    "        qml.U3(params[27], params[28], params[29], wires=4)\n",
    "\n",
    "        # Layer 3 - Convolution\n",
    "        qml.U3(params[30], params[31], params[32], wires=4)\n",
    "        qml.U3(params[33], params[34], params[35], wires=0)\n",
    "        qml.CNOT(wires=[4, 0])\n",
    "        qml.RY(params[36], wires=4)\n",
    "        qml.RZ(params[37], wires=0)\n",
    "        qml.CNOT(wires=[0, 4])\n",
    "        qml.RY(params[38], wires=4)\n",
    "        qml.CNOT(wires=[4, 0])\n",
    "        qml.U3(params[39], params[40], params[41], wires=4)\n",
    "        qml.U3(params[42], params[43], params[44], wires=0)\n",
    "\n",
    "    # Measurement - return expected X, Y, Z (considering only MSE-type losses)\n",
    "    result = [qml.expval(qml.PauliX(0)), qml.expval(\n",
    "        qml.PauliY(0)), qml.expval(qml.PauliZ(0))]\n",
    "    return result"
   ]
  },
  {
   "cell_type": "code",
   "execution_count": 96,
   "id": "35c3a48d",
   "metadata": {
    "ExecuteTime": {
     "end_time": "2022-12-06T18:23:43.604126Z",
     "start_time": "2022-12-06T18:23:43.589844Z"
    }
   },
   "outputs": [],
   "source": [
    "# QCNN-Qnode circuit setting (hyper parameter of the function)\n",
    "# [\"Amplitude\", \"Angle\", \"Angle-compact\", Amplitude-Hybrid4-1, 2, 3, 4, Angular-Hybrid4-1, 2, 3, 4]\n",
    "Embedding = 'Amplitude'\n",
    "# ['U_TTN', 'U_9', 'U_15', 'U_13', 'U_14', 'U_SO4', 'U_5', 'U_6', 'U_SU4', 'U_SU4_no_pooling']\n",
    "U = \"U_TTN\"\n",
    "# U_params = [2]    #[2, 2, 4, 6, 6, 6, 10, 10, 15, 15]\n",
    "\n",
    "# Noise parameter\n",
    "p_bitflip_error = 0.01"
   ]
  },
  {
   "cell_type": "code",
   "execution_count": 97,
   "id": "415461af",
   "metadata": {
    "ExecuteTime": {
     "end_time": "2022-12-06T18:23:43.695189Z",
     "start_time": "2022-12-06T18:23:43.681107Z"
    }
   },
   "outputs": [],
   "source": [
    "import tensorflow as tf\n",
    "\n",
    "device_chosen = dev_list[3]    # dev_list[0, 1, 2, 3, 4]\n",
    "\n",
    "QCNN_Qnode = qml.QNode(QCNN_circuit_node, device=device_chosen, interface=\"tf\")\n",
    "weight_shapes = {\"params\": 12}  # [12, 12, 18, 24, 24, 24, 36, 36, 51, 45]\n",
    "qlayer = qml.qnn.KerasLayer(\n",
    "    QCNN_Qnode, weight_shapes, output_dim=3, name=\"qlayer_QCNN\")"
   ]
  },
  {
   "cell_type": "code",
   "execution_count": 98,
   "id": "5424c856",
   "metadata": {
    "ExecuteTime": {
     "end_time": "2022-12-06T18:23:46.764270Z",
     "start_time": "2022-12-06T18:23:46.757754Z"
    },
    "scrolled": true
   },
   "outputs": [],
   "source": [
    "# Choose activation function\n",
    "activation_func = 'relu'  # sigmoid, relu, softmax, tanh,\n",
    "clayer_1 = tf.keras.layers.Dense(\n",
    "    3, activation=activation_func, name=\"clayer\"+str(activation_func)+\"1\")\n",
    "clayer_2 = tf.keras.layers.Dense(\n",
    "    3, activation=activation_func, name=\"clayer\"+str(activation_func)+\"2\")\n",
    "clayer_3 = tf.keras.layers.Dense(\n",
    "    3, activation=activation_func, name=\"clayer\"+str(activation_func)+\"3\")\n",
    "clayer_final = tf.keras.layers.Dense(\n",
    "    2, activation=\"softmax\", name=\"clayer_softmax\")"
   ]
  },
  {
   "cell_type": "code",
   "execution_count": 100,
   "id": "4458a3de",
   "metadata": {
    "ExecuteTime": {
     "end_time": "2022-12-06T18:24:46.814089Z",
     "start_time": "2022-12-06T18:24:46.801033Z"
    }
   },
   "outputs": [],
   "source": [
    "# Choose the QCNN + NN model\n",
    "model_QCNN_Qnode0 = tf.keras.models.Sequential(\n",
    "    [qlayer, clayer_final], name=\"QCNN - Qnode model0\")\n",
    "model_QCNN_Qnode1 = tf.keras.models.Sequential(\n",
    "    [qlayer, clayer_1, clayer_final], name=\"QCNN - Qnode model1\")\n",
    "model_QCNN_Qnode2 = tf.keras.models.Sequential(\n",
    "    [qlayer, clayer_1, clayer_2, clayer_final], name=\"QCNN - Qnode model2\")\n",
    "model_QCNN_Qnode3 = tf.keras.models.Sequential(\n",
    "    [qlayer, clayer_1, clayer_2, clayer_3, clayer_final], name=\"QCNN - Qnode model3\")"
   ]
  },
  {
   "cell_type": "code",
   "execution_count": 101,
   "id": "cce7d67f",
   "metadata": {
    "ExecuteTime": {
     "end_time": "2022-12-06T18:24:46.829108Z",
     "start_time": "2022-12-06T18:24:46.815114Z"
    }
   },
   "outputs": [],
   "source": [
    "opt = tf.keras.optimizers.SGD(learning_rate=0.1, nesterov=True)\n",
    "\n",
    "model_QCNN_chosen = model_QCNN_Qnode3\n",
    "# loss: \"binary_crossentropy\"\n",
    "model_QCNN_chosen.compile(opt, loss=\"mse\", metrics=[\"accuracy\"])"
   ]
  },
  {
   "cell_type": "code",
   "execution_count": 102,
   "id": "9b689795",
   "metadata": {
    "ExecuteTime": {
     "end_time": "2022-12-06T18:24:46.844620Z",
     "start_time": "2022-12-06T18:24:46.830106Z"
    }
   },
   "outputs": [],
   "source": [
    "class SaveBatchLoss(tf.keras.callbacks.Callback):\n",
    "    def on_train_batch_end(self, batch, logs=None):\n",
    "        batch_end_loss.append(logs['loss'])\n",
    "        batch_end_accuracy.append(logs['accuracy'])"
   ]
  },
  {
   "cell_type": "markdown",
   "id": "dbd0cd79",
   "metadata": {},
   "source": [
    "### Circuit Optimization / Results"
   ]
  },
  {
   "cell_type": "code",
   "execution_count": 103,
   "id": "806bca1c",
   "metadata": {
    "ExecuteTime": {
     "end_time": "2022-12-06T18:29:31.328216Z",
     "start_time": "2022-12-06T18:24:46.846599Z"
    }
   },
   "outputs": [
    {
     "name": "stdout",
     "output_type": "stream",
     "text": [
      "4/4 [==============================] - 284s 70s/step - loss: 0.2500 - accuracy: 0.4700\n"
     ]
    }
   ],
   "source": [
    "num_epoch = 1\n",
    "minibatch_size = 25\n",
    "num_train = 100  # len(X_train)\n",
    "num_test = 100  # len(X_test)\n",
    "\n",
    "batch_end_loss = list()\n",
    "batch_end_accuracy = list()\n",
    "fitting = model_QCNN_chosen.fit(x=X_train[0:num_train],\n",
    "                                y=Y_train_onehot[0:num_train],\n",
    "                                batch_size=minibatch_size,\n",
    "                                #steps_per_epoch = num_minibatch_per_epoch,\n",
    "                                epochs=num_epoch,\n",
    "                                callbacks=SaveBatchLoss()\n",
    "                                )"
   ]
  },
  {
   "cell_type": "code",
   "execution_count": 104,
   "id": "00b59583",
   "metadata": {
    "ExecuteTime": {
     "end_time": "2022-12-06T18:29:31.358284Z",
     "start_time": "2022-12-06T18:29:31.334732Z"
    }
   },
   "outputs": [
    {
     "name": "stdout",
     "output_type": "stream",
     "text": [
      "Model: \"QCNN - Qnode model3\"\n",
      "_________________________________________________________________\n",
      " Layer (type)                Output Shape              Param #   \n",
      "=================================================================\n",
      " qlayer_QCNN (KerasLayer)    (25, 3)                   12        \n",
      "                                                                 \n",
      " clayerrelu1 (Dense)         (25, 3)                   12        \n",
      "                                                                 \n",
      " clayerrelu2 (Dense)         (25, 3)                   12        \n",
      "                                                                 \n",
      " clayerrelu3 (Dense)         (25, 3)                   12        \n",
      "                                                                 \n",
      " clayer_softmax (Dense)      (25, 2)                   8         \n",
      "                                                                 \n",
      "=================================================================\n",
      "Total params: 56\n",
      "Trainable params: 56\n",
      "Non-trainable params: 0\n",
      "_________________________________________________________________\n"
     ]
    }
   ],
   "source": [
    "model_QCNN_chosen.summary()"
   ]
  },
  {
   "cell_type": "code",
   "execution_count": 105,
   "id": "19ce8b5d",
   "metadata": {
    "ExecuteTime": {
     "end_time": "2022-12-06T18:29:31.372919Z",
     "start_time": "2022-12-06T18:29:31.360291Z"
    }
   },
   "outputs": [
    {
     "data": {
      "text/plain": [
       "{'loss': [0.2499750917373104], 'accuracy': [0.47]}"
      ]
     },
     "execution_count": 105,
     "metadata": {},
     "output_type": "execute_result"
    }
   ],
   "source": [
    "fitting.history"
   ]
  },
  {
   "cell_type": "code",
   "execution_count": 106,
   "id": "37e6e5bf",
   "metadata": {
    "ExecuteTime": {
     "end_time": "2022-12-06T18:29:31.388440Z",
     "start_time": "2022-12-06T18:29:31.374926Z"
    }
   },
   "outputs": [
    {
     "data": {
      "text/plain": [
       "[0.2499750917373104]"
      ]
     },
     "execution_count": 106,
     "metadata": {},
     "output_type": "execute_result"
    }
   ],
   "source": [
    "fitting.history['loss']"
   ]
  },
  {
   "cell_type": "code",
   "execution_count": 107,
   "id": "f935d5cf",
   "metadata": {
    "ExecuteTime": {
     "end_time": "2022-12-06T18:29:31.403980Z",
     "start_time": "2022-12-06T18:29:31.389441Z"
    }
   },
   "outputs": [
    {
     "data": {
      "text/plain": [
       "[0.25016705721098875,\n",
       " 0.25022961067696853,\n",
       " 0.24988225609493958,\n",
       " 0.2499750917373104]"
      ]
     },
     "execution_count": 107,
     "metadata": {},
     "output_type": "execute_result"
    }
   ],
   "source": [
    "batch_end_loss"
   ]
  },
  {
   "cell_type": "code",
   "execution_count": 108,
   "id": "5fb3f7a7",
   "metadata": {
    "ExecuteTime": {
     "end_time": "2022-12-06T18:29:31.419493Z",
     "start_time": "2022-12-06T18:29:31.405981Z"
    }
   },
   "outputs": [
    {
     "data": {
      "text/plain": [
       "4"
      ]
     },
     "execution_count": 108,
     "metadata": {},
     "output_type": "execute_result"
    }
   ],
   "source": [
    "len(batch_end_loss)"
   ]
  },
  {
   "cell_type": "code",
   "execution_count": 109,
   "id": "249f9e64",
   "metadata": {
    "ExecuteTime": {
     "end_time": "2022-12-06T18:29:31.434581Z",
     "start_time": "2022-12-06T18:29:31.423004Z"
    }
   },
   "outputs": [
    {
     "data": {
      "text/plain": [
       "[0.48, 0.4, 0.4666666666666667, 0.47]"
      ]
     },
     "execution_count": 109,
     "metadata": {},
     "output_type": "execute_result"
    }
   ],
   "source": [
    "batch_end_accuracy"
   ]
  },
  {
   "cell_type": "code",
   "execution_count": 110,
   "id": "cbda4c09",
   "metadata": {
    "ExecuteTime": {
     "end_time": "2022-12-06T18:29:31.450131Z",
     "start_time": "2022-12-06T18:29:31.436582Z"
    }
   },
   "outputs": [
    {
     "data": {
      "text/plain": [
       "4"
      ]
     },
     "execution_count": 110,
     "metadata": {},
     "output_type": "execute_result"
    }
   ],
   "source": [
    "len(batch_end_accuracy)"
   ]
  },
  {
   "cell_type": "code",
   "execution_count": 111,
   "id": "bb4dfd9c",
   "metadata": {
    "ExecuteTime": {
     "end_time": "2022-12-06T18:29:31.617609Z",
     "start_time": "2022-12-06T18:29:31.452131Z"
    }
   },
   "outputs": [
    {
     "data": {
      "image/png": "[encoded data removed]",
      "text/plain": [
       "<Figure size 1152x864 with 1 Axes>"
      ]
     },
     "metadata": {
      "needs_background": "light"
     },
     "output_type": "display_data"
    }
   ],
   "source": [
    "# Plot accuracy, loss of the model\n",
    "import matplotlib.pyplot as plt\n",
    "\n",
    "plt.figure(figsize=(16, 12))\n",
    "plt.rcParams.update({'font.size': 14})\n",
    "plt.plot(batch_end_loss)\n",
    "plt.title('QCNN - Qnode model: cost')\n",
    "#plt.ylim([0, 1])\n",
    "plt.xticks(ticks=np.arange(0, len(batch_end_loss), 5), labels=np.arange(0, len(batch_end_loss), 5))\n",
    "plt.ylabel('Loss')\n",
    "plt.xlabel('Iteration')\n",
    "plt.legend(['Loss'], loc='center left', bbox_to_anchor=(1, 0.5))\n",
    "plt.show()"
   ]
  },
  {
   "cell_type": "code",
   "execution_count": 112,
   "id": "c1bafdaf",
   "metadata": {
    "ExecuteTime": {
     "end_time": "2022-12-06T18:31:09.917035Z",
     "start_time": "2022-12-06T18:29:31.618628Z"
    }
   },
   "outputs": [
    {
     "name": "stdout",
     "output_type": "stream",
     "text": [
      "4/4 - 98s - loss: 0.2487 - accuracy: 0.5700 - 98s/epoch - 25s/step\n",
      "Train loss: 0.24870703492201027\n",
      "Train accuracy: 0.57\n"
     ]
    }
   ],
   "source": [
    "# Benchmarking with measured train data\n",
    "score_train = model_QCNN_chosen.evaluate(\n",
    "    X_train[0:num_train], Y_train_onehot[0:num_train], verbose=2)\n",
    "print(\"Train loss:\", score_train[0])\n",
    "print(\"Train accuracy:\", score_train[1])"
   ]
  },
  {
   "cell_type": "code",
   "execution_count": 113,
   "id": "2576c9e4",
   "metadata": {
    "ExecuteTime": {
     "end_time": "2022-12-06T18:32:48.695813Z",
     "start_time": "2022-12-06T18:31:09.918017Z"
    },
    "scrolled": false
   },
   "outputs": [
    {
     "name": "stdout",
     "output_type": "stream",
     "text": [
      "4/4 - 99s - loss: 0.2483 - accuracy: 0.6200 - 99s/epoch - 25s/step\n",
      "Test loss: 0.2482866441339925\n",
      "Test accuracy: 0.62\n"
     ]
    }
   ],
   "source": [
    "# Benchmarking with measured test data\n",
    "score_test = model_QCNN_chosen.evaluate(\n",
    "    X_test[0:num_test], Y_test_onehot[0:num_test], verbose=2)\n",
    "print(\"Test loss:\", score_test[0])\n",
    "print(\"Test accuracy:\", score_test[1])"
   ]
  },
  {
   "cell_type": "code",
   "execution_count": null,
   "id": "9dda4ec9",
   "metadata": {},
   "outputs": [],
   "source": []
  },
  {
   "cell_type": "code",
   "execution_count": null,
   "id": "bf6060d6",
   "metadata": {},
   "outputs": [],
   "source": []
  }
 ],
 "metadata": {
  "kernelspec": {
   "display_name": "Python 3 (ipykernel)",
   "language": "python",
   "name": "python3"
  },
  "language_info": {
   "codemirror_mode": {
    "name": "ipython",
    "version": 3
   },
   "file_extension": ".py",
   "mimetype": "text/x-python",
   "name": "python",
   "nbconvert_exporter": "python",
   "pygments_lexer": "ipython3",
   "version": "3.9.12"
  },
  "toc": {
   "base_numbering": "0",
   "nav_menu": {},
   "number_sections": true,
   "sideBar": false,
   "skip_h1_title": false,
   "title_cell": "Table of Contents",
   "title_sidebar": "Contents",
   "toc_cell": true,
   "toc_position": {
    "height": "1113.33px",
    "left": "28px",
    "top": "135.688px",
    "width": "255.594px"
   },
   "toc_section_display": true,
   "toc_window_display": true
  },
  "varInspector": {
   "cols": {
    "lenName": 16,
    "lenType": 16,
    "lenVar": 40
   },
   "kernels_config": {
    "python": {
     "delete_cmd_postfix": "",
     "delete_cmd_prefix": "del ",
     "library": "var_list.py",
     "varRefreshCmd": "print(var_dic_list())"
    },
    "r": {
     "delete_cmd_postfix": ") ",
     "delete_cmd_prefix": "rm(",
     "library": "var_list.r",
     "varRefreshCmd": "cat(var_dic_list()) "
    }
   },
   "types_to_exclude": [
    "module",
    "function",
    "builtin_function_or_method",
    "instance",
    "_Feature"
   ],
   "window_display": false
  }
 },
 "nbformat": 4,
 "nbformat_minor": 5
}
